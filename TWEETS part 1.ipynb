{
 "cells": [
  {
   "cell_type": "code",
   "execution_count": 1,
   "metadata": {
    "colab": {
     "base_uri": "https://localhost:8080/"
    },
    "id": "RE0DWTL0hK3H",
    "outputId": "0b59f9a8-1b3c-4e6c-afa7-142ab55404fc"
   },
   "outputs": [
    {
     "name": "stdout",
     "output_type": "stream",
     "text": [
      "Requirement already satisfied: wordcloud in /Users/raneemalmutairi/opt/anaconda3/lib/python3.8/site-packages (1.8.1)\n",
      "Requirement already satisfied: pillow in /Users/raneemalmutairi/opt/anaconda3/lib/python3.8/site-packages (from wordcloud) (8.4.0)\n",
      "Requirement already satisfied: numpy>=1.6.1 in /Users/raneemalmutairi/opt/anaconda3/lib/python3.8/site-packages (from wordcloud) (1.18.5)\n",
      "Requirement already satisfied: matplotlib in /Users/raneemalmutairi/opt/anaconda3/lib/python3.8/site-packages (from wordcloud) (3.4.3)\n",
      "Requirement already satisfied: python-dateutil>=2.7 in /Users/raneemalmutairi/opt/anaconda3/lib/python3.8/site-packages (from matplotlib->wordcloud) (2.8.2)\n",
      "Requirement already satisfied: cycler>=0.10 in /Users/raneemalmutairi/opt/anaconda3/lib/python3.8/site-packages (from matplotlib->wordcloud) (0.10.0)\n",
      "Requirement already satisfied: pyparsing>=2.2.1 in /Users/raneemalmutairi/opt/anaconda3/lib/python3.8/site-packages (from matplotlib->wordcloud) (3.0.4)\n",
      "Requirement already satisfied: kiwisolver>=1.0.1 in /Users/raneemalmutairi/opt/anaconda3/lib/python3.8/site-packages (from matplotlib->wordcloud) (1.3.1)\n",
      "Requirement already satisfied: six in /Users/raneemalmutairi/opt/anaconda3/lib/python3.8/site-packages (from cycler>=0.10->matplotlib->wordcloud) (1.16.0)\n",
      "Requirement already satisfied: arabic-reshaper in /Users/raneemalmutairi/opt/anaconda3/lib/python3.8/site-packages (2.1.3)\n",
      "Requirement already satisfied: setuptools in /Users/raneemalmutairi/opt/anaconda3/lib/python3.8/site-packages (from arabic-reshaper) (58.0.4)\n",
      "Requirement already satisfied: future in /Users/raneemalmutairi/opt/anaconda3/lib/python3.8/site-packages (from arabic-reshaper) (0.18.2)\n",
      "Requirement already satisfied: python-bidi in /Users/raneemalmutairi/opt/anaconda3/lib/python3.8/site-packages (0.4.2)\n",
      "Requirement already satisfied: six in /Users/raneemalmutairi/opt/anaconda3/lib/python3.8/site-packages (from python-bidi) (1.16.0)\n",
      "Requirement already satisfied: cufflinks in /Users/raneemalmutairi/opt/anaconda3/lib/python3.8/site-packages (0.17.3)\n",
      "Requirement already satisfied: setuptools>=34.4.1 in /Users/raneemalmutairi/opt/anaconda3/lib/python3.8/site-packages (from cufflinks) (58.0.4)\n",
      "Requirement already satisfied: ipython>=5.3.0 in /Users/raneemalmutairi/opt/anaconda3/lib/python3.8/site-packages (from cufflinks) (7.29.0)\n",
      "Requirement already satisfied: numpy>=1.9.2 in /Users/raneemalmutairi/opt/anaconda3/lib/python3.8/site-packages (from cufflinks) (1.18.5)\n",
      "Requirement already satisfied: plotly>=4.1.1 in /Users/raneemalmutairi/opt/anaconda3/lib/python3.8/site-packages (from cufflinks) (5.4.0)\n",
      "Requirement already satisfied: pandas>=0.19.2 in /Users/raneemalmutairi/opt/anaconda3/lib/python3.8/site-packages (from cufflinks) (1.3.4)\n",
      "Requirement already satisfied: ipywidgets>=7.0.0 in /Users/raneemalmutairi/opt/anaconda3/lib/python3.8/site-packages (from cufflinks) (7.6.5)\n",
      "Requirement already satisfied: colorlover>=0.2.1 in /Users/raneemalmutairi/opt/anaconda3/lib/python3.8/site-packages (from cufflinks) (0.3.0)\n",
      "Requirement already satisfied: six>=1.9.0 in /Users/raneemalmutairi/opt/anaconda3/lib/python3.8/site-packages (from cufflinks) (1.16.0)\n",
      "Requirement already satisfied: decorator in /Users/raneemalmutairi/opt/anaconda3/lib/python3.8/site-packages (from ipython>=5.3.0->cufflinks) (5.1.0)\n",
      "Requirement already satisfied: backcall in /Users/raneemalmutairi/opt/anaconda3/lib/python3.8/site-packages (from ipython>=5.3.0->cufflinks) (0.2.0)\n",
      "Requirement already satisfied: pygments in /Users/raneemalmutairi/opt/anaconda3/lib/python3.8/site-packages (from ipython>=5.3.0->cufflinks) (2.10.0)\n",
      "Requirement already satisfied: appnope in /Users/raneemalmutairi/opt/anaconda3/lib/python3.8/site-packages (from ipython>=5.3.0->cufflinks) (0.1.2)\n",
      "Requirement already satisfied: jedi>=0.16 in /Users/raneemalmutairi/opt/anaconda3/lib/python3.8/site-packages (from ipython>=5.3.0->cufflinks) (0.17.2)\n",
      "Requirement already satisfied: matplotlib-inline in /Users/raneemalmutairi/opt/anaconda3/lib/python3.8/site-packages (from ipython>=5.3.0->cufflinks) (0.1.2)\n",
      "Requirement already satisfied: pickleshare in /Users/raneemalmutairi/opt/anaconda3/lib/python3.8/site-packages (from ipython>=5.3.0->cufflinks) (0.7.5)\n",
      "Requirement already satisfied: pexpect>4.3 in /Users/raneemalmutairi/opt/anaconda3/lib/python3.8/site-packages (from ipython>=5.3.0->cufflinks) (4.8.0)\n",
      "Requirement already satisfied: prompt-toolkit!=3.0.0,!=3.0.1,<3.1.0,>=2.0.0 in /Users/raneemalmutairi/opt/anaconda3/lib/python3.8/site-packages (from ipython>=5.3.0->cufflinks) (3.0.20)\n",
      "Requirement already satisfied: traitlets>=4.2 in /Users/raneemalmutairi/opt/anaconda3/lib/python3.8/site-packages (from ipython>=5.3.0->cufflinks) (5.1.0)\n",
      "Requirement already satisfied: jupyterlab-widgets>=1.0.0 in /Users/raneemalmutairi/opt/anaconda3/lib/python3.8/site-packages (from ipywidgets>=7.0.0->cufflinks) (1.0.0)\n",
      "Requirement already satisfied: ipython-genutils~=0.2.0 in /Users/raneemalmutairi/opt/anaconda3/lib/python3.8/site-packages (from ipywidgets>=7.0.0->cufflinks) (0.2.0)\n",
      "Requirement already satisfied: nbformat>=4.2.0 in /Users/raneemalmutairi/opt/anaconda3/lib/python3.8/site-packages (from ipywidgets>=7.0.0->cufflinks) (5.1.3)\n",
      "Requirement already satisfied: widgetsnbextension~=3.5.0 in /Users/raneemalmutairi/opt/anaconda3/lib/python3.8/site-packages (from ipywidgets>=7.0.0->cufflinks) (3.5.1)\n",
      "Requirement already satisfied: ipykernel>=4.5.1 in /Users/raneemalmutairi/opt/anaconda3/lib/python3.8/site-packages (from ipywidgets>=7.0.0->cufflinks) (6.4.1)\n",
      "Requirement already satisfied: tornado<7.0,>=4.2 in /Users/raneemalmutairi/opt/anaconda3/lib/python3.8/site-packages (from ipykernel>=4.5.1->ipywidgets>=7.0.0->cufflinks) (6.1)\n",
      "Requirement already satisfied: debugpy<2.0,>=1.0.0 in /Users/raneemalmutairi/opt/anaconda3/lib/python3.8/site-packages (from ipykernel>=4.5.1->ipywidgets>=7.0.0->cufflinks) (1.4.1)\n",
      "Requirement already satisfied: jupyter-client<8.0 in /Users/raneemalmutairi/opt/anaconda3/lib/python3.8/site-packages (from ipykernel>=4.5.1->ipywidgets>=7.0.0->cufflinks) (7.0.1)\n",
      "Requirement already satisfied: parso<0.8.0,>=0.7.0 in /Users/raneemalmutairi/opt/anaconda3/lib/python3.8/site-packages (from jedi>=0.16->ipython>=5.3.0->cufflinks) (0.7.0)\n",
      "Requirement already satisfied: python-dateutil>=2.1 in /Users/raneemalmutairi/opt/anaconda3/lib/python3.8/site-packages (from jupyter-client<8.0->ipykernel>=4.5.1->ipywidgets>=7.0.0->cufflinks) (2.8.2)\n",
      "Requirement already satisfied: pyzmq>=13 in /Users/raneemalmutairi/opt/anaconda3/lib/python3.8/site-packages (from jupyter-client<8.0->ipykernel>=4.5.1->ipywidgets>=7.0.0->cufflinks) (22.2.1)\n",
      "Requirement already satisfied: entrypoints in /Users/raneemalmutairi/opt/anaconda3/lib/python3.8/site-packages (from jupyter-client<8.0->ipykernel>=4.5.1->ipywidgets>=7.0.0->cufflinks) (0.3)\n",
      "Requirement already satisfied: jupyter-core>=4.6.0 in /Users/raneemalmutairi/opt/anaconda3/lib/python3.8/site-packages (from jupyter-client<8.0->ipykernel>=4.5.1->ipywidgets>=7.0.0->cufflinks) (4.9.1)\n",
      "Requirement already satisfied: nest-asyncio>=1.5 in /Users/raneemalmutairi/opt/anaconda3/lib/python3.8/site-packages (from jupyter-client<8.0->ipykernel>=4.5.1->ipywidgets>=7.0.0->cufflinks) (1.5.1)\n",
      "Requirement already satisfied: jsonschema!=2.5.0,>=2.4 in /Users/raneemalmutairi/opt/anaconda3/lib/python3.8/site-packages (from nbformat>=4.2.0->ipywidgets>=7.0.0->cufflinks) (3.2.0)\n",
      "Requirement already satisfied: attrs>=17.4.0 in /Users/raneemalmutairi/opt/anaconda3/lib/python3.8/site-packages (from jsonschema!=2.5.0,>=2.4->nbformat>=4.2.0->ipywidgets>=7.0.0->cufflinks) (21.2.0)\n",
      "Requirement already satisfied: pyrsistent>=0.14.0 in /Users/raneemalmutairi/opt/anaconda3/lib/python3.8/site-packages (from jsonschema!=2.5.0,>=2.4->nbformat>=4.2.0->ipywidgets>=7.0.0->cufflinks) (0.18.0)\n",
      "Requirement already satisfied: pytz>=2017.3 in /Users/raneemalmutairi/opt/anaconda3/lib/python3.8/site-packages (from pandas>=0.19.2->cufflinks) (2021.3)\n",
      "Requirement already satisfied: ptyprocess>=0.5 in /Users/raneemalmutairi/opt/anaconda3/lib/python3.8/site-packages (from pexpect>4.3->ipython>=5.3.0->cufflinks) (0.7.0)\n",
      "Requirement already satisfied: tenacity>=6.2.0 in /Users/raneemalmutairi/opt/anaconda3/lib/python3.8/site-packages (from plotly>=4.1.1->cufflinks) (8.0.1)\n",
      "Requirement already satisfied: wcwidth in /Users/raneemalmutairi/opt/anaconda3/lib/python3.8/site-packages (from prompt-toolkit!=3.0.0,!=3.0.1,<3.1.0,>=2.0.0->ipython>=5.3.0->cufflinks) (0.2.5)\n"
     ]
    },
    {
     "name": "stdout",
     "output_type": "stream",
     "text": [
      "Requirement already satisfied: notebook>=4.4.1 in /Users/raneemalmutairi/opt/anaconda3/lib/python3.8/site-packages (from widgetsnbextension~=3.5.0->ipywidgets>=7.0.0->cufflinks) (6.4.5)\n",
      "Requirement already satisfied: prometheus-client in /Users/raneemalmutairi/opt/anaconda3/lib/python3.8/site-packages (from notebook>=4.4.1->widgetsnbextension~=3.5.0->ipywidgets>=7.0.0->cufflinks) (0.11.0)\n",
      "Requirement already satisfied: nbconvert in /Users/raneemalmutairi/opt/anaconda3/lib/python3.8/site-packages (from notebook>=4.4.1->widgetsnbextension~=3.5.0->ipywidgets>=7.0.0->cufflinks) (6.1.0)\n",
      "Requirement already satisfied: Send2Trash>=1.5.0 in /Users/raneemalmutairi/opt/anaconda3/lib/python3.8/site-packages (from notebook>=4.4.1->widgetsnbextension~=3.5.0->ipywidgets>=7.0.0->cufflinks) (1.8.0)\n",
      "Requirement already satisfied: argon2-cffi in /Users/raneemalmutairi/opt/anaconda3/lib/python3.8/site-packages (from notebook>=4.4.1->widgetsnbextension~=3.5.0->ipywidgets>=7.0.0->cufflinks) (20.1.0)\n",
      "Requirement already satisfied: jinja2 in /Users/raneemalmutairi/opt/anaconda3/lib/python3.8/site-packages (from notebook>=4.4.1->widgetsnbextension~=3.5.0->ipywidgets>=7.0.0->cufflinks) (2.11.3)\n",
      "Requirement already satisfied: terminado>=0.8.3 in /Users/raneemalmutairi/opt/anaconda3/lib/python3.8/site-packages (from notebook>=4.4.1->widgetsnbextension~=3.5.0->ipywidgets>=7.0.0->cufflinks) (0.9.4)\n",
      "Requirement already satisfied: cffi>=1.0.0 in /Users/raneemalmutairi/opt/anaconda3/lib/python3.8/site-packages (from argon2-cffi->notebook>=4.4.1->widgetsnbextension~=3.5.0->ipywidgets>=7.0.0->cufflinks) (1.14.6)\n",
      "Requirement already satisfied: pycparser in /Users/raneemalmutairi/opt/anaconda3/lib/python3.8/site-packages (from cffi>=1.0.0->argon2-cffi->notebook>=4.4.1->widgetsnbextension~=3.5.0->ipywidgets>=7.0.0->cufflinks) (2.21)\n",
      "Requirement already satisfied: MarkupSafe>=0.23 in /Users/raneemalmutairi/opt/anaconda3/lib/python3.8/site-packages (from jinja2->notebook>=4.4.1->widgetsnbextension~=3.5.0->ipywidgets>=7.0.0->cufflinks) (2.0.1)\n",
      "Requirement already satisfied: nbclient<0.6.0,>=0.5.0 in /Users/raneemalmutairi/opt/anaconda3/lib/python3.8/site-packages (from nbconvert->notebook>=4.4.1->widgetsnbextension~=3.5.0->ipywidgets>=7.0.0->cufflinks) (0.5.3)\n",
      "Requirement already satisfied: bleach in /Users/raneemalmutairi/opt/anaconda3/lib/python3.8/site-packages (from nbconvert->notebook>=4.4.1->widgetsnbextension~=3.5.0->ipywidgets>=7.0.0->cufflinks) (4.0.0)\n",
      "Requirement already satisfied: mistune<2,>=0.8.1 in /Users/raneemalmutairi/opt/anaconda3/lib/python3.8/site-packages (from nbconvert->notebook>=4.4.1->widgetsnbextension~=3.5.0->ipywidgets>=7.0.0->cufflinks) (0.8.4)\n",
      "Requirement already satisfied: pandocfilters>=1.4.1 in /Users/raneemalmutairi/opt/anaconda3/lib/python3.8/site-packages (from nbconvert->notebook>=4.4.1->widgetsnbextension~=3.5.0->ipywidgets>=7.0.0->cufflinks) (1.4.3)\n",
      "Requirement already satisfied: jupyterlab-pygments in /Users/raneemalmutairi/opt/anaconda3/lib/python3.8/site-packages (from nbconvert->notebook>=4.4.1->widgetsnbextension~=3.5.0->ipywidgets>=7.0.0->cufflinks) (0.1.2)\n",
      "Requirement already satisfied: defusedxml in /Users/raneemalmutairi/opt/anaconda3/lib/python3.8/site-packages (from nbconvert->notebook>=4.4.1->widgetsnbextension~=3.5.0->ipywidgets>=7.0.0->cufflinks) (0.7.1)\n",
      "Requirement already satisfied: testpath in /Users/raneemalmutairi/opt/anaconda3/lib/python3.8/site-packages (from nbconvert->notebook>=4.4.1->widgetsnbextension~=3.5.0->ipywidgets>=7.0.0->cufflinks) (0.5.0)\n",
      "Requirement already satisfied: async-generator in /Users/raneemalmutairi/opt/anaconda3/lib/python3.8/site-packages (from nbclient<0.6.0,>=0.5.0->nbconvert->notebook>=4.4.1->widgetsnbextension~=3.5.0->ipywidgets>=7.0.0->cufflinks) (1.10)\n",
      "Requirement already satisfied: webencodings in /Users/raneemalmutairi/opt/anaconda3/lib/python3.8/site-packages (from bleach->nbconvert->notebook>=4.4.1->widgetsnbextension~=3.5.0->ipywidgets>=7.0.0->cufflinks) (0.5.1)\n",
      "Requirement already satisfied: packaging in /Users/raneemalmutairi/opt/anaconda3/lib/python3.8/site-packages (from bleach->nbconvert->notebook>=4.4.1->widgetsnbextension~=3.5.0->ipywidgets>=7.0.0->cufflinks) (21.0)\n",
      "Requirement already satisfied: pyparsing>=2.0.2 in /Users/raneemalmutairi/opt/anaconda3/lib/python3.8/site-packages (from packaging->bleach->nbconvert->notebook>=4.4.1->widgetsnbextension~=3.5.0->ipywidgets>=7.0.0->cufflinks) (3.0.4)\n"
     ]
    }
   ],
   "source": [
    "!pip install wordcloud \n",
    "!pip install arabic-reshaper\n",
    "!pip install python-bidi\n",
    "!pip install cufflinks"
   ]
  },
  {
   "cell_type": "code",
   "execution_count": 2,
   "metadata": {
    "colab": {
     "base_uri": "https://localhost:8080/"
    },
    "id": "NELmFhUPgfeI",
    "outputId": "2f06868d-8f09-46b4-c35b-00c425f73b48"
   },
   "outputs": [
    {
     "name": "stderr",
     "output_type": "stream",
     "text": [
      "[nltk_data] Downloading package stopwords to\n",
      "[nltk_data]     /Users/raneemalmutairi/nltk_data...\n",
      "[nltk_data]   Package stopwords is already up-to-date!\n",
      "[nltk_data] Downloading package punkt to\n",
      "[nltk_data]     /Users/raneemalmutairi/nltk_data...\n",
      "[nltk_data]   Package punkt is already up-to-date!\n"
     ]
    }
   ],
   "source": [
    "import warnings\n",
    "warnings.filterwarnings(\"ignore\");\n",
    "\n",
    "import pandas as pd \n",
    "import numpy as np\n",
    "import matplotlib.pyplot as plt\n",
    "import seaborn as sns\n",
    "import re\n",
    "from sklearn.feature_extraction.text import CountVectorizer\n",
    "import nltk\n",
    "import os\n",
    "import codecs\n",
    "from wordcloud import WordCloud\n",
    "import arabic_reshaper\n",
    "from bidi.algorithm import get_display\n",
    "from nltk.corpus import stopwords\n",
    "from sklearn.feature_extraction.text import TfidfVectorizer\n",
    "from sklearn.feature_extraction.text import CountVectorizer \n",
    "from sklearn.decomposition import TruncatedSVD\n",
    "from sklearn.decomposition import NMF\n",
    "from sklearn.metrics.pairwise import cosine_similarity\n",
    "from sklearn.model_selection import train_test_split\n",
    "from sklearn.feature_extraction.text import CountVectorizer\n",
    "from sklearn.linear_model import LogisticRegression\n",
    "from sklearn.naive_bayes import MultinomialNB\n",
    "from sklearn.svm import SVC\n",
    "from sklearn.metrics import classification_report\n",
    "from sklearn.metrics import classification_report, accuracy_score, recall_score, roc_auc_score, roc_curve, confusion_matrix\n",
    "from sklearn.metrics import f1_score\n",
    "\n",
    "import re\n",
    "import string\n",
    "import nltk\n",
    "nltk.download('stopwords')\n",
    "nltk.download('punkt')\n",
    "import sklearn \n",
    "from nltk.tokenize import word_tokenize\n",
    "from sklearn.feature_extraction.text import CountVectorizer\n",
    "from plotly import __version__\n",
    "%matplotlib inline\n",
    "\n",
    "import plotly.offline as pyo\n",
    "import plotly.graph_objs as go\n",
    "from plotly.offline import iplot\n",
    "\n",
    "import cufflinks as cf\n",
    "from plotly.offline import download_plotlyjs, init_notebook_mode, plot, iplot \n"
   ]
  },
  {
   "cell_type": "code",
   "execution_count": null,
   "metadata": {
    "colab": {
     "base_uri": "https://localhost:8080/",
     "height": 91,
     "resources": {
      "http://localhost:8080/nbextensions/google.colab/files.js": {
       "data": "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",
       "headers": [
        [
         "content-type",
         "application/javascript"
        ]
       ],
       "ok": true,
       "status": 200,
       "status_text": ""
      }
     }
    },
    "id": "NkT2to5vhFUw",
    "outputId": "d0d36b30-3ca6-42d9-86f6-708c60605781"
   },
   "outputs": [],
   "source": []
  },
  {
   "cell_type": "code",
   "execution_count": 3,
   "metadata": {
    "colab": {
     "base_uri": "https://localhost:8080/",
     "height": 1000
    },
    "id": "dDSIGlPmiyNH",
    "outputId": "d3fac04d-ea2e-4885-b56c-d06590161715"
   },
   "outputs": [
    {
     "data": {
      "text/html": [
       "<div>\n",
       "<style scoped>\n",
       "    .dataframe tbody tr th:only-of-type {\n",
       "        vertical-align: middle;\n",
       "    }\n",
       "\n",
       "    .dataframe tbody tr th {\n",
       "        vertical-align: top;\n",
       "    }\n",
       "\n",
       "    .dataframe thead th {\n",
       "        text-align: right;\n",
       "    }\n",
       "</style>\n",
       "<table border=\"1\" class=\"dataframe\">\n",
       "  <thead>\n",
       "    <tr style=\"text-align: right;\">\n",
       "      <th></th>\n",
       "      <th>Unnamed: 0.1</th>\n",
       "      <th>text</th>\n",
       "      <th>Username</th>\n",
       "      <th>location</th>\n",
       "      <th>Timestamp</th>\n",
       "      <th>followers</th>\n",
       "      <th>label</th>\n",
       "      <th>categorie</th>\n",
       "    </tr>\n",
       "  </thead>\n",
       "  <tbody>\n",
       "    <tr>\n",
       "      <th>0</th>\n",
       "      <td>3276</td>\n",
       "      <td>بشرى سارة لجماهير النادي الأهلي \\nللتفاصيل htt...</td>\n",
       "      <td>Al3hdNews</td>\n",
       "      <td>القاهرة, مصر</td>\n",
       "      <td>Sat Oct 10 19:41:00 +0000 2020</td>\n",
       "      <td>4</td>\n",
       "      <td>0</td>\n",
       "      <td>sport</td>\n",
       "    </tr>\n",
       "    <tr>\n",
       "      <th>1</th>\n",
       "      <td>879</td>\n",
       "      <td>@SXANJI لا احب الأنميات الرياضية يكفي اني اتاب...</td>\n",
       "      <td>fekrytarro22</td>\n",
       "      <td>المنوفية, مصر</td>\n",
       "      <td>Thu Oct 08 20:10:28 +0000 2020</td>\n",
       "      <td>365</td>\n",
       "      <td>0</td>\n",
       "      <td>sport</td>\n",
       "    </tr>\n",
       "    <tr>\n",
       "      <th>2</th>\n",
       "      <td>1860</td>\n",
       "      <td>RT @kdzh37: الفتى الذهبي ⭐️ يعلن الاكتفاء ويضع...</td>\n",
       "      <td>hmde441</td>\n",
       "      <td>NaN</td>\n",
       "      <td>Fri Oct 09 20:55:46 +0000 2020</td>\n",
       "      <td>1663</td>\n",
       "      <td>0</td>\n",
       "      <td>sport</td>\n",
       "    </tr>\n",
       "    <tr>\n",
       "      <th>3</th>\n",
       "      <td>6342</td>\n",
       "      <td>RT @KSA24: يسألون \\nليه #مقاطعة_البضائع_التركي...</td>\n",
       "      <td>saefAlJohaniksa</td>\n",
       "      <td>المملكة العربية السعودية</td>\n",
       "      <td>Tue Oct 13 01:38:17 +0000 2020</td>\n",
       "      <td>443</td>\n",
       "      <td>4</td>\n",
       "      <td>economy</td>\n",
       "    </tr>\n",
       "    <tr>\n",
       "      <th>4</th>\n",
       "      <td>4020</td>\n",
       "      <td>RT @Ahmed08911311: يوميا صفحه من القرآن \\nكفيل...</td>\n",
       "      <td>wabil_</td>\n",
       "      <td>NaN</td>\n",
       "      <td>Sat Oct 10 21:27:14 +0000 2020</td>\n",
       "      <td>5873</td>\n",
       "      <td>2</td>\n",
       "      <td>religion</td>\n",
       "    </tr>\n",
       "    <tr>\n",
       "      <th>...</th>\n",
       "      <td>...</td>\n",
       "      <td>...</td>\n",
       "      <td>...</td>\n",
       "      <td>...</td>\n",
       "      <td>...</td>\n",
       "      <td>...</td>\n",
       "      <td>...</td>\n",
       "      <td>...</td>\n",
       "    </tr>\n",
       "    <tr>\n",
       "      <th>29554</th>\n",
       "      <td>1297</td>\n",
       "      <td>RT @nakl3af4: شركة الصفرات بالرياض\\nنقل عفش با...</td>\n",
       "      <td>NourHom91041300</td>\n",
       "      <td>Syria</td>\n",
       "      <td>Fri Oct 09 16:40:36 +0000 2020</td>\n",
       "      <td>477</td>\n",
       "      <td>4</td>\n",
       "      <td>economy</td>\n",
       "    </tr>\n",
       "    <tr>\n",
       "      <th>29555</th>\n",
       "      <td>1844</td>\n",
       "      <td>RT @70sul: عندما يتحدث رئيس الغرف التجارية من ...</td>\n",
       "      <td>2002__light</td>\n",
       "      <td>الجبيل, المملكة العربية السعودية</td>\n",
       "      <td>Fri Oct 09 21:35:06 +0000 2020</td>\n",
       "      <td>316</td>\n",
       "      <td>1</td>\n",
       "      <td>politic</td>\n",
       "    </tr>\n",
       "    <tr>\n",
       "      <th>29556</th>\n",
       "      <td>5389</td>\n",
       "      <td>RT @m_bukairy: رئيس النادي #الاهلي : وزارة الر...</td>\n",
       "      <td>ALHILALMCLUB</td>\n",
       "      <td>الهلال.💙</td>\n",
       "      <td>Mon Oct 12 16:48:16 +0000 2020</td>\n",
       "      <td>38</td>\n",
       "      <td>0</td>\n",
       "      <td>sport</td>\n",
       "    </tr>\n",
       "    <tr>\n",
       "      <th>29557</th>\n",
       "      <td>5307</td>\n",
       "      <td>RT @samialqorashi: اعطي لادارة الاتحاد ٢٤٤ ملي...</td>\n",
       "      <td>sssss1397</td>\n",
       "      <td>جدة  عروس الكون  JEDDAH  ⁦⁦⁦</td>\n",
       "      <td>Mon Oct 12 16:45:32 +0000 2020</td>\n",
       "      <td>3621</td>\n",
       "      <td>0</td>\n",
       "      <td>sport</td>\n",
       "    </tr>\n",
       "    <tr>\n",
       "      <th>29558</th>\n",
       "      <td>3137</td>\n",
       "      <td>RT @sh_b_j_a: 🛑عاجل🛑\\nانباء ( غير ) مؤكدة عن ن...</td>\n",
       "      <td>N909017720748</td>\n",
       "      <td>NaN</td>\n",
       "      <td>Fri Oct 09 22:02:24 +0000 2020</td>\n",
       "      <td>28</td>\n",
       "      <td>1</td>\n",
       "      <td>politic</td>\n",
       "    </tr>\n",
       "  </tbody>\n",
       "</table>\n",
       "<p>29559 rows × 8 columns</p>\n",
       "</div>"
      ],
      "text/plain": [
       "       Unnamed: 0.1                                               text  \\\n",
       "0              3276  بشرى سارة لجماهير النادي الأهلي \\nللتفاصيل htt...   \n",
       "1               879  @SXANJI لا احب الأنميات الرياضية يكفي اني اتاب...   \n",
       "2              1860  RT @kdzh37: الفتى الذهبي ⭐️ يعلن الاكتفاء ويضع...   \n",
       "3              6342  RT @KSA24: يسألون \\nليه #مقاطعة_البضائع_التركي...   \n",
       "4              4020  RT @Ahmed08911311: يوميا صفحه من القرآن \\nكفيل...   \n",
       "...             ...                                                ...   \n",
       "29554          1297  RT @nakl3af4: شركة الصفرات بالرياض\\nنقل عفش با...   \n",
       "29555          1844  RT @70sul: عندما يتحدث رئيس الغرف التجارية من ...   \n",
       "29556          5389  RT @m_bukairy: رئيس النادي #الاهلي : وزارة الر...   \n",
       "29557          5307  RT @samialqorashi: اعطي لادارة الاتحاد ٢٤٤ ملي...   \n",
       "29558          3137  RT @sh_b_j_a: 🛑عاجل🛑\\nانباء ( غير ) مؤكدة عن ن...   \n",
       "\n",
       "              Username                          location  \\\n",
       "0            Al3hdNews                      القاهرة, مصر   \n",
       "1         fekrytarro22                     المنوفية, مصر   \n",
       "2              hmde441                               NaN   \n",
       "3      saefAlJohaniksa         المملكة العربية السعودية    \n",
       "4               wabil_                               NaN   \n",
       "...                ...                               ...   \n",
       "29554  NourHom91041300                             Syria   \n",
       "29555      2002__light  الجبيل, المملكة العربية السعودية   \n",
       "29556     ALHILALMCLUB                          الهلال.💙   \n",
       "29557        sssss1397      جدة  عروس الكون  JEDDAH  ⁦⁦⁦   \n",
       "29558    N909017720748                               NaN   \n",
       "\n",
       "                            Timestamp  followers  label categorie  \n",
       "0      Sat Oct 10 19:41:00 +0000 2020          4      0     sport  \n",
       "1      Thu Oct 08 20:10:28 +0000 2020        365      0     sport  \n",
       "2      Fri Oct 09 20:55:46 +0000 2020       1663      0     sport  \n",
       "3      Tue Oct 13 01:38:17 +0000 2020        443      4   economy  \n",
       "4      Sat Oct 10 21:27:14 +0000 2020       5873      2  religion  \n",
       "...                               ...        ...    ...       ...  \n",
       "29554  Fri Oct 09 16:40:36 +0000 2020        477      4   economy  \n",
       "29555  Fri Oct 09 21:35:06 +0000 2020        316      1   politic  \n",
       "29556  Mon Oct 12 16:48:16 +0000 2020         38      0     sport  \n",
       "29557  Mon Oct 12 16:45:32 +0000 2020       3621      0     sport  \n",
       "29558  Fri Oct 09 22:02:24 +0000 2020         28      1   politic  \n",
       "\n",
       "[29559 rows x 8 columns]"
      ]
     },
     "execution_count": 3,
     "metadata": {},
     "output_type": "execute_result"
    }
   ],
   "source": [
    "df=pd.read_excel(\"/Users/raneemalmutairi/Desktop/SDAIA/data/Arabic_Tweets.xlsx\",index_col=0)\n",
    "df"
   ]
  },
  {
   "cell_type": "code",
   "execution_count": 4,
   "metadata": {
    "colab": {
     "base_uri": "https://localhost:8080/"
    },
    "id": "dGVa1kmGiyL8",
    "outputId": "4ae61946-1f28-4049-ad99-d4651f22c15e"
   },
   "outputs": [
    {
     "data": {
      "text/plain": [
       "(29559, 8)"
      ]
     },
     "execution_count": 4,
     "metadata": {},
     "output_type": "execute_result"
    }
   ],
   "source": [
    "df.shape"
   ]
  },
  {
   "cell_type": "code",
   "execution_count": 5,
   "metadata": {
    "colab": {
     "base_uri": "https://localhost:8080/"
    },
    "id": "gMzBbcbMjYhO",
    "outputId": "0823096a-e3ad-41d5-896a-c788b0ebb347"
   },
   "outputs": [
    {
     "name": "stdout",
     "output_type": "stream",
     "text": [
      "<class 'pandas.core.frame.DataFrame'>\n",
      "Int64Index: 29559 entries, 0 to 29558\n",
      "Data columns (total 8 columns):\n",
      " #   Column        Non-Null Count  Dtype \n",
      "---  ------        --------------  ----- \n",
      " 0   Unnamed: 0.1  29559 non-null  int64 \n",
      " 1   text          29559 non-null  object\n",
      " 2   Username      29559 non-null  object\n",
      " 3   location      14180 non-null  object\n",
      " 4   Timestamp     29559 non-null  object\n",
      " 5   followers     29559 non-null  int64 \n",
      " 6   label         29559 non-null  int64 \n",
      " 7   categorie     29559 non-null  object\n",
      "dtypes: int64(3), object(5)\n",
      "memory usage: 2.0+ MB\n"
     ]
    }
   ],
   "source": [
    "df.info()"
   ]
  },
  {
   "cell_type": "code",
   "execution_count": 6,
   "metadata": {
    "colab": {
     "base_uri": "https://localhost:8080/",
     "height": 1000
    },
    "id": "pc-fRl45iyGn",
    "outputId": "bc5fdcf7-4e0e-403e-8a72-ceb31f5627a3"
   },
   "outputs": [
    {
     "data": {
      "text/html": [
       "<div>\n",
       "<style scoped>\n",
       "    .dataframe tbody tr th:only-of-type {\n",
       "        vertical-align: middle;\n",
       "    }\n",
       "\n",
       "    .dataframe tbody tr th {\n",
       "        vertical-align: top;\n",
       "    }\n",
       "\n",
       "    .dataframe thead th {\n",
       "        text-align: right;\n",
       "    }\n",
       "</style>\n",
       "<table border=\"1\" class=\"dataframe\">\n",
       "  <thead>\n",
       "    <tr style=\"text-align: right;\">\n",
       "      <th></th>\n",
       "      <th>Unnamed: 0.1</th>\n",
       "      <th>text</th>\n",
       "      <th>Username</th>\n",
       "      <th>location</th>\n",
       "      <th>Timestamp</th>\n",
       "      <th>followers</th>\n",
       "      <th>label</th>\n",
       "      <th>categorie</th>\n",
       "    </tr>\n",
       "  </thead>\n",
       "  <tbody>\n",
       "    <tr>\n",
       "      <th>0</th>\n",
       "      <td>3276</td>\n",
       "      <td>بشرى سارة لجماهير النادي الأهلي \\nللتفاصيل htt...</td>\n",
       "      <td>Al3hdNews</td>\n",
       "      <td>القاهرة, مصر</td>\n",
       "      <td>Sat Oct 10 19:41:00 +0000 2020</td>\n",
       "      <td>4</td>\n",
       "      <td>0</td>\n",
       "      <td>sport</td>\n",
       "    </tr>\n",
       "    <tr>\n",
       "      <th>1</th>\n",
       "      <td>879</td>\n",
       "      <td>@SXANJI لا احب الأنميات الرياضية يكفي اني اتاب...</td>\n",
       "      <td>fekrytarro22</td>\n",
       "      <td>المنوفية, مصر</td>\n",
       "      <td>Thu Oct 08 20:10:28 +0000 2020</td>\n",
       "      <td>365</td>\n",
       "      <td>0</td>\n",
       "      <td>sport</td>\n",
       "    </tr>\n",
       "    <tr>\n",
       "      <th>3</th>\n",
       "      <td>6342</td>\n",
       "      <td>RT @KSA24: يسألون \\nليه #مقاطعة_البضائع_التركي...</td>\n",
       "      <td>saefAlJohaniksa</td>\n",
       "      <td>المملكة العربية السعودية</td>\n",
       "      <td>Tue Oct 13 01:38:17 +0000 2020</td>\n",
       "      <td>443</td>\n",
       "      <td>4</td>\n",
       "      <td>economy</td>\n",
       "    </tr>\n",
       "    <tr>\n",
       "      <th>5</th>\n",
       "      <td>1037</td>\n",
       "      <td>فئة شيوخ الدين الي الله يكثر من امثالهم❤️ http...</td>\n",
       "      <td>LulwaBuhazaa</td>\n",
       "      <td>Bahrain</td>\n",
       "      <td>Fri Oct 09 22:20:56 +0000 2020</td>\n",
       "      <td>884</td>\n",
       "      <td>2</td>\n",
       "      <td>religion</td>\n",
       "    </tr>\n",
       "    <tr>\n",
       "      <th>6</th>\n",
       "      <td>5910</td>\n",
       "      <td>RT @City_Line6: * 17 مليون و400 الف كل مجموع ا...</td>\n",
       "      <td>Mishal_mut3b</td>\n",
       "      <td>المملكة العربية السعودية</td>\n",
       "      <td>Mon Oct 12 17:05:09 +0000 2020</td>\n",
       "      <td>908</td>\n",
       "      <td>0</td>\n",
       "      <td>sport</td>\n",
       "    </tr>\n",
       "    <tr>\n",
       "      <th>...</th>\n",
       "      <td>...</td>\n",
       "      <td>...</td>\n",
       "      <td>...</td>\n",
       "      <td>...</td>\n",
       "      <td>...</td>\n",
       "      <td>...</td>\n",
       "      <td>...</td>\n",
       "      <td>...</td>\n",
       "    </tr>\n",
       "    <tr>\n",
       "      <th>29553</th>\n",
       "      <td>1380</td>\n",
       "      <td>RT @Musaid_AlSohimi: لستُ نصراوياً .. \\nولا ته...</td>\n",
       "      <td>sjsallam2</td>\n",
       "      <td>جدة, المملكة العربية السعودية</td>\n",
       "      <td>Fri Oct 09 20:45:44 +0000 2020</td>\n",
       "      <td>20530</td>\n",
       "      <td>0</td>\n",
       "      <td>sport</td>\n",
       "    </tr>\n",
       "    <tr>\n",
       "      <th>29554</th>\n",
       "      <td>1297</td>\n",
       "      <td>RT @nakl3af4: شركة الصفرات بالرياض\\nنقل عفش با...</td>\n",
       "      <td>NourHom91041300</td>\n",
       "      <td>Syria</td>\n",
       "      <td>Fri Oct 09 16:40:36 +0000 2020</td>\n",
       "      <td>477</td>\n",
       "      <td>4</td>\n",
       "      <td>economy</td>\n",
       "    </tr>\n",
       "    <tr>\n",
       "      <th>29555</th>\n",
       "      <td>1844</td>\n",
       "      <td>RT @70sul: عندما يتحدث رئيس الغرف التجارية من ...</td>\n",
       "      <td>2002__light</td>\n",
       "      <td>الجبيل, المملكة العربية السعودية</td>\n",
       "      <td>Fri Oct 09 21:35:06 +0000 2020</td>\n",
       "      <td>316</td>\n",
       "      <td>1</td>\n",
       "      <td>politic</td>\n",
       "    </tr>\n",
       "    <tr>\n",
       "      <th>29556</th>\n",
       "      <td>5389</td>\n",
       "      <td>RT @m_bukairy: رئيس النادي #الاهلي : وزارة الر...</td>\n",
       "      <td>ALHILALMCLUB</td>\n",
       "      <td>الهلال.💙</td>\n",
       "      <td>Mon Oct 12 16:48:16 +0000 2020</td>\n",
       "      <td>38</td>\n",
       "      <td>0</td>\n",
       "      <td>sport</td>\n",
       "    </tr>\n",
       "    <tr>\n",
       "      <th>29557</th>\n",
       "      <td>5307</td>\n",
       "      <td>RT @samialqorashi: اعطي لادارة الاتحاد ٢٤٤ ملي...</td>\n",
       "      <td>sssss1397</td>\n",
       "      <td>جدة  عروس الكون  JEDDAH  ⁦⁦⁦</td>\n",
       "      <td>Mon Oct 12 16:45:32 +0000 2020</td>\n",
       "      <td>3621</td>\n",
       "      <td>0</td>\n",
       "      <td>sport</td>\n",
       "    </tr>\n",
       "  </tbody>\n",
       "</table>\n",
       "<p>14180 rows × 8 columns</p>\n",
       "</div>"
      ],
      "text/plain": [
       "       Unnamed: 0.1                                               text  \\\n",
       "0              3276  بشرى سارة لجماهير النادي الأهلي \\nللتفاصيل htt...   \n",
       "1               879  @SXANJI لا احب الأنميات الرياضية يكفي اني اتاب...   \n",
       "3              6342  RT @KSA24: يسألون \\nليه #مقاطعة_البضائع_التركي...   \n",
       "5              1037  فئة شيوخ الدين الي الله يكثر من امثالهم❤️ http...   \n",
       "6              5910  RT @City_Line6: * 17 مليون و400 الف كل مجموع ا...   \n",
       "...             ...                                                ...   \n",
       "29553          1380  RT @Musaid_AlSohimi: لستُ نصراوياً .. \\nولا ته...   \n",
       "29554          1297  RT @nakl3af4: شركة الصفرات بالرياض\\nنقل عفش با...   \n",
       "29555          1844  RT @70sul: عندما يتحدث رئيس الغرف التجارية من ...   \n",
       "29556          5389  RT @m_bukairy: رئيس النادي #الاهلي : وزارة الر...   \n",
       "29557          5307  RT @samialqorashi: اعطي لادارة الاتحاد ٢٤٤ ملي...   \n",
       "\n",
       "              Username                          location  \\\n",
       "0            Al3hdNews                      القاهرة, مصر   \n",
       "1         fekrytarro22                     المنوفية, مصر   \n",
       "3      saefAlJohaniksa         المملكة العربية السعودية    \n",
       "5         LulwaBuhazaa                           Bahrain   \n",
       "6         Mishal_mut3b          المملكة العربية السعودية   \n",
       "...                ...                               ...   \n",
       "29553        sjsallam2     جدة, المملكة العربية السعودية   \n",
       "29554  NourHom91041300                             Syria   \n",
       "29555      2002__light  الجبيل, المملكة العربية السعودية   \n",
       "29556     ALHILALMCLUB                          الهلال.💙   \n",
       "29557        sssss1397      جدة  عروس الكون  JEDDAH  ⁦⁦⁦   \n",
       "\n",
       "                            Timestamp  followers  label categorie  \n",
       "0      Sat Oct 10 19:41:00 +0000 2020          4      0     sport  \n",
       "1      Thu Oct 08 20:10:28 +0000 2020        365      0     sport  \n",
       "3      Tue Oct 13 01:38:17 +0000 2020        443      4   economy  \n",
       "5      Fri Oct 09 22:20:56 +0000 2020        884      2  religion  \n",
       "6      Mon Oct 12 17:05:09 +0000 2020        908      0     sport  \n",
       "...                               ...        ...    ...       ...  \n",
       "29553  Fri Oct 09 20:45:44 +0000 2020      20530      0     sport  \n",
       "29554  Fri Oct 09 16:40:36 +0000 2020        477      4   economy  \n",
       "29555  Fri Oct 09 21:35:06 +0000 2020        316      1   politic  \n",
       "29556  Mon Oct 12 16:48:16 +0000 2020         38      0     sport  \n",
       "29557  Mon Oct 12 16:45:32 +0000 2020       3621      0     sport  \n",
       "\n",
       "[14180 rows x 8 columns]"
      ]
     },
     "execution_count": 6,
     "metadata": {},
     "output_type": "execute_result"
    }
   ],
   "source": [
    "df=df.dropna()\n",
    "df"
   ]
  },
  {
   "cell_type": "code",
   "execution_count": null,
   "metadata": {
    "id": "j78tdx_YhceX"
   },
   "outputs": [],
   "source": []
  },
  {
   "cell_type": "code",
   "execution_count": 7,
   "metadata": {
    "colab": {
     "base_uri": "https://localhost:8080/"
    },
    "id": "tnt41WMYmr9H",
    "outputId": "40b03930-e5a2-4629-ff4d-bc4842095d9c"
   },
   "outputs": [
    {
     "data": {
      "text/plain": [
       "Unnamed: 0.1    0\n",
       "text            0\n",
       "Username        0\n",
       "location        0\n",
       "Timestamp       0\n",
       "followers       0\n",
       "label           0\n",
       "categorie       0\n",
       "dtype: int64"
      ]
     },
     "execution_count": 7,
     "metadata": {},
     "output_type": "execute_result"
    }
   ],
   "source": [
    "df.isna().sum()"
   ]
  },
  {
   "cell_type": "markdown",
   "metadata": {
    "id": "ev88-CoBngXc"
   },
   "source": [
    "#Preprocessing"
   ]
  },
  {
   "cell_type": "code",
   "execution_count": 8,
   "metadata": {
    "id": "3PQFE7azmr3-"
   },
   "outputs": [],
   "source": [
    "mystop = ['مثلا', 'الحمدلله', 'السنه', 'صوت', 'بو', 'تشوف',\n",
    " 'موضوع', 'فتره', 'بعيد', 'الصوره', 'ابدا', 'الحب', 'الحمد', 'معاهم', 'قلبك', 'وانتي', 'لحد', 'واحنا', 'عمرك',\n",
    " 'الحياه', 'امين', 'ابن', 'اخوي', 'مني', 'اسمه', 'ياخي', 'باقي', 'انتوا', 'حب', 'عندكم', 'شغل', 'كلامك', 'يسعد', 'تبي',\n",
    " 'مبروك', 'طلعت', 'شلون', 'تعرف', 'كثر', 'بلا', 'وبعدين', 'عام', 'عيب', 'رمضان', 'البيت', 'نص', 'جديد',\n",
    " 'ثاني', 'عارفه', 'فلوس', 'الصبح', 'الاول', 'شيء', 'صوره', 'فقط', 'وفي', 'جاي', 'جماعه', 'بن', 'خلص', 'وان', 'شعب',\n",
    " 'واضح', 'تحت', 'طب', 'يلا', 'واذا', 'صارت', 'عنه', 'ضد', 'ماشي', 'لسه', 'يبي', 'بخير', 'روح',\n",
    " 'حبيبي', 'سنين', 'كثير', 'زين', 'شوف', 'دايما', 'بكره', 'يجي', 'كلنا', 'الوقت', 'يبارك', 'اهم', 'معاه', 'مشكله',\n",
    " 'الكويت', 'اشوف', 'فكره', 'لين', 'انهم', 'مكان', 'حرام', 'لله', 'يطلع', 'اعرف', 'افضل', 'صحيح', 'فوق', 'ترى',\n",
    " 'اه', 'بعدين', 'المفروض', 'كبير','شكرا', 'تاني','ايه','احنا','وين','ليش','شو','الا', 'شفت', 'غلط', 'للاسف', 'تويتر',\n",
    " 'نفسك', 'ساعه', 'معك', 'البلد', 'بنت', 'محد','اهل', 'معاك', 'نفسه', 'اشي', 'ايش', 'المهم', 'بقى', 'انتو', 'مافي', 'منو',\n",
    " 'عاد', 'كلمه', 'اكبر', 'كلهم', 'والا', 'نفسي', 'المشكله', 'اقول', 'ايام', 'قاعد', 'يلي', 'زمان', 'الكل', 'انها', 'محمد',\n",
    " 'ام', 'طلع', 'بكل', 'شويه', 'تقول', 'عليكم', 'الواحد', 'صباح', 'قلت', 'خلاص', 'يصير', 'الموضوع', 'عندهم', 'العالم',\n",
    " 'الدنيا', 'الشعب', 'طبعا', 'طول', 'رب', 'الخير', 'اما', 'حلو', 'فعلا', 'مب', 'شوي', 'احد', 'وكل', 'وقت', 'فيهم', 'منك',\n",
    " 'شخص', 'قلبي', 'الكلام', 'عارف', 'منهم', 'اخر', 'كلها', 'هاي', 'حلوه', 'اكتر', 'يمكن', 'تكون', 'لانه', 'واللي', 'كلام',\n",
    " 'الحين', 'احلى', 'علشان', 'عندنا', 'بالله', 'الف', 'عندك', 'احسن', 'قطر', 'وحده', 'علينا', 'بدون', 'عنده', 'يقول', 'عادي',\n",
    " 'كله', 'عليها', 'دا', 'حق', 'ابو', 'عليهم', 'اصلا', 'فيك', 'مصر', 'اكيد', 'اللى', 'كتير', 'رح', 'ربنا', 'كمان',\n",
    " 'ليه', 'لان', 'اكثر', 'ال', 'وانت', 'انتي', 'طيب','سنه', 'كده', 'نفس', 'عندي', 'هيك','خير','صح','مين','شاء','مثل',\n",
    " 'انو','زي','صار','انك','عم','ربي','يارب','حاجه','كنت','اليوم','اني','اول','ممكن','مره','دي','وانا','ناس','راح','حد',\n",
    " 'لازم','يوم','ده','مو','علي','واحد','اي','الناس','يعني','عشان','اذا','انت','شي','هه','والله','مش','انا','الله','اللي',\n",
    " 'الجديد', 'عالم', 'طريقه', 'تونس', 'كفايه', 'ارجع', 'التغريده', 'الاخر', 'السبب', 'حسن', 'صعبه', 'راسك', 'تحكي', 'عبد', 'لمن', 'عني',\n",
    " 'والناس', 'عيونك', 'للناس', 'الصراحه', 'داخل', 'الامارات', 'رقم', 'العام', 'امريكا', 'حصل', 'خايف', 'لبنان', 'يتكلم', 'فرق', 'غريب',\n",
    " 'العربيه', 'ماشاء', 'رغم', 'علاقه', 'يرحمه', 'الهلال', 'خلك', 'فيديو', 'مبارك', 'موجوده', 'ساعات', 'انته', 'لينا', 'المباراه', 'مافيه', 'ماراح',\n",
    " 'شعور', 'ترجع', 'للحين', 'باي', 'شايف', 'باب', 'تميم', 'مدري', 'جاب', 'ولما', 'صاحب', 'يسلمك', 'صرت', 'الوطن', 'تانيه', 'الجيش',\n",
    " 'يرجع', 'يحفظك', 'يعمل', 'لقيت', 'يرحم', 'صدق', 'الموسم', 'خالد', 'اهو', 'الفلوس', 'اغلب', 'وكان', 'اسبوع', 'اخي', 'قصه', 'الاقل',\n",
    " 'هالشي', 'اغنيه', 'يستر', 'يابو', 'سنوات', 'عين', 'اسمع', 'يومين', 'بالضبط', 'مرات', 'كاس', 'كانو', 'خاصه', 'رجل', 'تستاهل', 'بعدها',\n",
    " 'قادر', 'يخليك', 'امه', 'وربي', 'صور', 'نعرف', 'راه', 'اقسم', 'طيبه', 'الوحيد', 'بتكون', 'عيال','لاني', 'ياخذ',\n",
    " 'بسرعه', 'رايح', 'امك', 'تقدر', 'تو', 'جديده', 'مساء', 'برضو', 'راسي', 'كفو', 'جمهور', 'مجرد', 'قاعده', 'مهم', 'ريال', 'غالي', 'اعمل',\n",
    " 'الشيخ', 'شاءالله', 'برا', 'صلاح', 'الحلوه', 'صباحك', 'الدين', 'اروح', 'بكون', 'عيد', 'بلاش', 'عرفت', 'معانا', 'اسمها', 'النوم', 'يلعب',\n",
    " 'شر', 'راس', 'خبر', 'ادري', 'الرجال', 'غيره', 'عايشين', 'وهم', 'واحده', 'شباب', 'فاهم', 'حالك', 'دور', 'اتمنى', 'حالي', 'الفيديو', 'بشكل',\n",
    " 'بالعكس', 'حسب', 'كامل', 'وجه', 'كويس', 'يستاهل', 'ليبيا', 'الشارع', 'جو', 'قوي', 'الطيب', 'نقول', 'غيرك', 'ابي', 'عنها', 'قريب', 'بكرا',\n",
    " 'تسلم', 'قالت', 'تعال', 'عارفين', 'تروح', 'راحت', 'فيني', 'حل', 'اقل', 'منكم', 'تجي', 'دام', 'بحب', 'بيكون', 'الليل', 'مباراه', 'الثاني',\n",
    " 'الوكيل', 'عايش', 'روحي', 'الارض', 'بلد', 'بسبب', 'ايران', 'معه', 'حاليا', 'فيكم', 'تقريبا', 'الاهلي', 'الشخص', 'العين', 'دخل', 'يشوف',\n",
    " 'فريق', 'ياريت', 'سبب', 'شكلك', 'العرب', 'مال', 'الفريق', 'ودي', 'يقدر', 'ماهو', 'بدل', 'يروح', 'بنات', 'بالي', 'قول', 'الجو', 'نبي', 'عمر',\n",
    " 'رئيس', 'اختي', 'اكل', 'دكتور', 'تصير', 'رد', 'احس', 'العمر', 'امس', 'حال', 'ورا', 'وعلى', 'بقي', 'اجمل', 'عيني', 'صعب', 'شن', 'وهي',\n",
    " 'وبس', 'كانوا', 'الدوله', 'صراحه', 'باذن', 'يبقى', 'كبيره', 'اعتقد', 'الشي', 'للي', 'اسم', 'صاير', 'ثانيه', 'نشوف', 'بالنسبه', 'سؤال', 'الحق',\n",
    " 'كنا', 'لكل', 'ماله', 'يقولون', 'انسان', 'بالك', 'جميل', 'مستحيل', 'الساعه', 'حياتي', 'احب', 'اساس', 'الان', 'الوضع', 'عمل', 'ولد', 'البنات',\n",
    " 'بصراحه', 'عنك', 'رجال', 'فين', 'يالله', 'الشباب', 'الايام', 'بلوك', 'تطلع', 'اتوقع', 'طبيعي', 'امي', 'قدام', 'ونعم', 'الحكومه', 'بيت', 'خل',\n",
    " 'حساب', 'القلب', 'شهر', 'بعرف', 'احمد', 'حبيبتي', 'انتم', 'جد', 'حاله', 'البنت', 'حتي', 'عمره', 'موجود', 'فينا', 'اللهم', 'حسبي', 'يعرف',\n",
    " 'بجد', 'عمري', 'العيد', 'عليا', 'معي', 'شكله', 'قلب',\n",
    " 'شوفي','شفته','وانتم','يوصل','خصوصا','وبين','لعبه','المسلسل','نوع','الحلقه','وحتى','اى','اش',\n",
    " 'عايشه','سعد','انشالله','كره','المكان','شهور','هديه','حلقه',\n",
    " 'اكتب','فاهمه','صغيره','كون','قالو','الملعب','هدف','البحر','الاولى',\n",
    " 'معروف','اقوى','تجيب','يضحك','خاطر','الصحه','واقف','مجلس','لحظه',\n",
    " 'حبيب','السالفه','الشوق','دخلت','ومع','العربي','مصر',\n",
    " 'روحك','بيهم', 'بتقول','يدخل','مسكين','فيلم','الثانيه','معناها',\n",
    " 'عمان','العراق','ياارب','افهم','الفكره','تغريده','بال',\n",
    " 'دقايق','اننا','الروح','حمار','شاف','الدول','يعطيك',\n",
    " 'تركيا','معاكم','تدخل','الورد','نور','طويل','تركي',\n",
    " 'شغله','جميع','خساره','وقتها','الكلب','بالخير','الغلط','قيمه','جمال','اجل','تمام','قليل',\n",
    " 'ضروري','الطريق','معنا','المصري','قالك','تغير',\n",
    " 'السؤال','بعده','بيقول','سلام','تعمل',\n",
    " 'عز','اولا','ترامب','ليله','بره','تسوي','الفرق','دايم',\n",
    " 'احبك','بالف','السياره','ماكو','تمشي',\n",
    " 'الجاي','ثوره','احساس','يرد','وخلاص','مشاكل','ينزل','الباب','لانهم',\n",
    " 'قويه','الحكم','حمد','نعمه','معاها','هاذي','جنب','عبدالله','قصدي',\n",
    " 'الاكل','ثلاث','الانسان','قهوه','تدري','ايوه','وبعدها','مفروض','القصه','وجهه','الجامعه','غصب','الحلو','امل','الفيس','جايه',\n",
    " 'يمشي','بدري','الحل','خاص','جيت','سوريا','لسانك','كلامي',\n",
    " 'رحت','نزل','يسعدك','ونص','علم','المره','الك',\n",
    " 'نفسهم','السلام','اشياء','الحال','حط','بصير','توصل', 'برنامج','يعنى','مثلك','بدايه','العظيم','قالوا','الغالي',\n",
    " 'قوه','عيوني','حياتك','شخصيه','عمي','وسط','والي','طال',\n",
    " 'لانها','اجازه','المغرب','عامل','سعيد','الصح','دقيقه','استاذ',\n",
    " 'يلعن','غريبه', 'عربي','شئ','دليل','انكم','بينا',\n",
    " 'شكل','معلش','مبرووك','تحس','يقولك','يحب','مدرب','العافيه','الحقيقه','مالها','نسيت','عدل',\n",
    " 'دم','سمعت','خالص','وجهك','بنفس','اطلع','معقول','فرصه',\n",
    " 'خليك','مات','ولاد','البشر','مسلسل','طريق','دائما',\n",
    " 'اكون','ويا','يوفقك','حي','حياه',\n",
    " 'عنهم','رايك','معاي','صغير','تتكلم','هوا','نفسها','ديما','كميه','قدر','حبيت','فايده','معهم','بطل',\n",
    " 'زى','النصر','يسوي','سالفه','يجيب','الشغل','زايد','محتاج',\n",
    " 'فاضي','كلب','كريم','بدها','زياده','ليها','مادري','اقدر',\n",
    " 'طالع','قناه','حر','وصلت','انام','عليكي','لعب','جميله'\n",
    ",'الامور','ازاي','بقول','لانك','عقب','وصل',\n",
    " 'إذ', 'إذا', 'إذما', 'إذن', 'أف', 'أقل', 'أكثر', 'ألا',\n",
    "'إلا', 'التي', 'الذي', 'الذين', 'اللاتي', 'اللائي',\n",
    " 'اللتان', 'اللتيا', 'اللتين', 'اللذان', 'اللذين', 'اللواتي', 'إلى', 'إليك', 'إليكم', 'إليكما', 'إليكن', \n",
    "  'أم', 'أما', 'أما', 'إما', 'أن', \n",
    "  'إن', 'إنا', 'أنا', 'أنت', 'أنتم', 'أنتما', 'أنتن', 'إنما', 'إنه', 'أنى', 'أنى', 'آه', 'آها',\n",
    " 'أو', 'أولاء', 'أولئك', 'أوه', 'آي', 'أي', 'أيها', 'إي', 'أين', 'أين', 'أينما'\n",
    ", 'إيه', 'بخ', 'بس', 'بعد', 'بعض', 'بك', 'بكم', 'بكم', 'بكما'\n",
    ", 'بكن', 'بل', 'بلى', 'بما', 'بماذا', 'بمن', 'بنا', 'به',\n",
    "'بها', 'بهم', 'بهما', 'بهن', 'بي', 'بين','و', 'بيد',\n",
    "'تلك', 'تلكم', 'تلكما', 'ته', 'تي', 'تين', 'تينك',\n",
    "'ثم', 'ثمة', 'حاشا', 'حبذا', 'حتى', 'حيث', 'حيثما',\n",
    "'حين', 'خلا', 'دون', 'ذا', 'ذات', 'ذاك', 'ذان', 'ذانك', 'ذلك',\n",
    "'ذلكم', 'ذلكما', 'ذلكن', 'ذه', 'ذو', 'ذوا', 'ذواتا',\n",
    "'ذواتي', 'ذي', 'ذين', 'ذينك', 'ريث', 'سوف', 'سوى', 'شتان', 'عدا',\n",
    "'عسى', 'عل', 'على', 'عليك', 'عليه', 'عما', 'عن', 'عند', 'غير',\n",
    "'فإذا', 'فإن', 'فلا', 'فمن', 'في', 'فيم', 'فيما', 'فيه', 'فيها',\n",
    "'قد', 'كأن', 'كأنما', 'كأي', 'كأين', 'كذا', 'كذلك', 'كل', 'كلا',\n",
    "'كلاهما', 'كلتا', 'كلما', 'كليكما', 'كليهما', 'كم', 'كم', 'كما',\n",
    "'كي', 'كيت', 'كيف', 'كيفما', 'لا', 'لاسيما', 'لدى', 'لست', 'لستم',\n",
    "'لستما', 'لستن', 'لسن', 'لسنا', 'لعل', 'لك', 'لكم', 'لكما',\n",
    "'لكن', 'لكنما', 'لكي', 'لكيلا', 'لم', 'لما', 'لن', 'لنا',\n",
    "'له', 'لها', 'لهم', 'لهما', 'لهن', 'لو', 'لولا', 'لوما',\n",
    "'لي', 'لئن', 'ليت', 'ليس', 'ليسا', 'ليست', 'ليستا', 'ليسوا', 'ما',\n",
    " 'ماذا', 'متى', 'مذ', 'مع', 'مما', 'ممن', 'من', 'منه', 'منها', 'منذ',\n",
    "'مه', 'مهما', 'نحن', 'نحو', 'نعم', 'ها', 'هاتان', 'هاته', 'هاتي',\n",
    "'هاتين', 'هاك', 'هاهنا', 'هذا', 'هذان', 'هذه', 'هذي', 'هذين', 'هكذا',\n",
    "'هل', 'هلا', 'هم', 'هما', 'هن', 'هنا', 'هناك', 'هنالك', 'هو', 'هؤلاء',\n",
    "'هي', 'هيا', 'هيت', 'هيهات', 'والذي', 'والذين', 'وإذ', 'وإذا', 'وإن',\n",
    "'ولا', 'ولكن', 'ولو', 'وما', 'ومن', 'وهو', 'يا'\n",
    ", 'من' , 'على', 'الى','هما', 'مع', 'هذه', 'التي', 'كما ', 'ذلك ', 'لذا', 'عن', 'في','ان','كان','كانت','الى','قبل','أنه','تم'\n",
    " ,'وقال','قال','فى','وقد','قد','ولم',\n",
    "'وذلك','ذلك','يكون','او'\n",
    ",'وهذه','وهي ','وبعد','وهذا','عندها','جدا','بأن','انه','الي','للاسف','عشان','طيب','علشان','بدون','اكيد','عشان','تويتر','انت','وين','والله','الناس','مين',\n",
    "'شخص','يعني','ليش','اكيد','ايه','كلام','يقول','تقول','عادي','عندك','قلبي','انتي','ناس','وانت',\n",
    "'اني','انا' ,'وانا','يارب','الله','كنت','الان','هاي','العفاريت', 'حلب', 'حمص','ان','على','ال','بن','ليه','نقل عفش']"
   ]
  },
  {
   "cell_type": "code",
   "execution_count": 9,
   "metadata": {
    "id": "i3ZLERqDmr23"
   },
   "outputs": [],
   "source": [
    "stop_set = set(mystop) # To make the word to unique"
   ]
  },
  {
   "cell_type": "code",
   "execution_count": 10,
   "metadata": {
    "id": "z4r0M1p1r9OO"
   },
   "outputs": [],
   "source": [
    "stop_ls = list(stop_set) # convert from set to list"
   ]
  },
  {
   "cell_type": "code",
   "execution_count": 11,
   "metadata": {
    "id": "fZVIbb4-r9NI"
   },
   "outputs": [],
   "source": [
    "\n",
    "COMMA = u'\\u060C'\n",
    "SEMICOLON = u'\\u061B'\n",
    "QUESTION = u'\\u061F'\n",
    "HAMZA = u'\\u0621'\n",
    "ALEF_MADDA = u'\\u0622'\n",
    "ALEF_HAMZA_ABOVE = u'\\u0623'\n",
    "WAW_HAMZA = u'\\u0624'\n",
    "ALEF_HAMZA_BELOW = u'\\u0625'\n",
    "YEH_HAMZA = u'\\u0626'\n",
    "ALEF = u'\\u0627'\n",
    "BEH = u'\\u0628'\n",
    "TEH_MARBUTA = u'\\u0629'\n",
    "TEH = u'\\u062a'\n",
    "THEH = u'\\u062b'\n",
    "JEEM = u'\\u062c'\n",
    "HAH = u'\\u062d'\n",
    "KHAH = u'\\u062e'\n",
    "DAL = u'\\u062f'\n",
    "THAL = u'\\u0630'\n",
    "REH = u'\\u0631'\n",
    "ZAIN = u'\\u0632'\n",
    "SEEN = u'\\u0633'\n",
    "SHEEN = u'\\u0634'\n",
    "SAD = u'\\u0635'\n",
    "DAD = u'\\u0636'\n",
    "TAH = u'\\u0637'\n",
    "ZAH = u'\\u0638'\n",
    "AIN = u'\\u0639'\n",
    "GHAIN = u'\\u063a'\n",
    "TATWEEL = u'\\u0640'\n",
    "FEH = u'\\u0641'\n",
    "QAF = u'\\u0642'\n",
    "KAF = u'\\u0643'\n",
    "LAM = u'\\u0644'\n",
    "MEEM = u'\\u0645'\n",
    "NOON = u'\\u0646'\n",
    "HEH = u'\\u0647'\n",
    "WAW = u'\\u0648'\n",
    "ALEF_MAKSURA = u'\\u0649'\n",
    "YEH = u'\\u064a'\n",
    "MADDA_ABOVE = u'\\u0653'\n",
    "HAMZA_ABOVE = u'\\u0654'\n",
    "HAMZA_BELOW = u'\\u0655'\n",
    "ZERO = u'\\u0660'\n",
    "ONE = u'\\u0661'\n",
    "TWO = u'\\u0662'\n",
    "THREE = u'\\u0663'\n",
    "FOUR = u'\\u0664'\n",
    "FIVE = u'\\u0665'\n",
    "SIX = u'\\u0666'\n",
    "SEVEN = u'\\u0667'\n",
    "EIGHT = u'\\u0668'\n",
    "NINE = u'\\u0669'\n",
    "PERCENT = u'\\u066a'\n",
    "DECIMAL = u'\\u066b'\n",
    "THOUSANDS = u'\\u066c'\n",
    "STAR = u'\\u066d'\n",
    "MINI_ALEF = u'\\u0670'\n",
    "ALEF_WASLA = u'\\u0671'\n",
    "FULL_STOP = u'\\u06d4'\n",
    "BYTE_ORDER_MARK = u'\\ufeff'\n",
    "\n",
    "# Diacritics\n",
    "FATHATAN = u'\\u064b'\n",
    "DAMMATAN = u'\\u064c'\n",
    "KASRATAN = u'\\u064d'\n",
    "FATHA = u'\\u064e'\n",
    "DAMMA = u'\\u064f'\n",
    "KASRA = u'\\u0650'\n",
    "SHADDA = u'\\u0651'\n",
    "SUKUN = u'\\u0652'\n",
    "\n",
    "#Ligatures\n",
    "LAM_ALEF = u'\\ufefb'\n",
    "LAM_ALEF_HAMZA_ABOVE = u'\\ufef7'\n",
    "LAM_ALEF_HAMZA_BELOW = u'\\ufef9'\n",
    "LAM_ALEF_MADDA_ABOVE = u'\\ufef5'\n",
    "SIMPLE_LAM_ALEF = u'\\u0644\\u0627'\n",
    "SIMPLE_LAM_ALEF_HAMZA_ABOVE = u'\\u0644\\u0623'\n",
    "SIMPLE_LAM_ALEF_HAMZA_BELOW = u'\\u0644\\u0625'\n",
    "SIMPLE_LAM_ALEF_MADDA_ABOVE = u'\\u0644\\u0622'\n",
    "\n",
    "\n",
    "HARAKAT_PAT = re.compile(u\"[\"+u\"\".join([FATHATAN, DAMMATAN, KASRATAN,\n",
    "                                        FATHA, DAMMA, KASRA, SUKUN,\n",
    "                                        SHADDA])+u\"]\")\n",
    "HAMZAT_PAT = re.compile(u\"[\"+u\"\".join([WAW_HAMZA, YEH_HAMZA])+u\"]\")\n",
    "ALEFAT_PAT = re.compile(u\"[\"+u\"\".join([ALEF_MADDA, ALEF_HAMZA_ABOVE,\n",
    "                                       ALEF_HAMZA_BELOW, HAMZA_ABOVE,\n",
    "                                       HAMZA_BELOW])+u\"]\")\n",
    "LAMALEFAT_PAT = re.compile(u\"[\"+u\"\".join([LAM_ALEF,\n",
    "                                          LAM_ALEF_HAMZA_ABOVE,\n",
    "                                          LAM_ALEF_HAMZA_BELOW,\n",
    "LAM_ALEF_MADDA_ABOVE])+u\"]\")\n",
    "\n",
    "\n",
    "\"\"\" https://github.com/cltk/cltk/blob/master/cltk/corpus/arabic/alphabet.py \"\"\"\n",
    "WESTERN_ARABIC_NUMERALS = ['0','1','2','3','4','5','6','7','8','9']\n",
    "\n",
    "#EASTERN_ARABIC_NUMERALS = [u'\\u06F0', u'\\u06F1', u'\\u06F2', u'\\u06F3', u'\\u0664', u'\\u06F5', u'\\u0666', u'\\u06F7', u'\\u06F8', u'\\u06F9']\n",
    "EASTERN_ARABIC_NUMERALS = [u'۰', u'۱', u'۲', u'۳', u'٤', u'۵', u'٦', u'۷', u'۸', u'۹']\n",
    "\n",
    "eastern_to_western_numerals = {}\n",
    "for i in range(len(EASTERN_ARABIC_NUMERALS)):\n",
    "    eastern_to_western_numerals[EASTERN_ARABIC_NUMERALS[i]] = WESTERN_ARABIC_NUMERALS[i]\n",
    "\n",
    "# Punctuation marks\n",
    "COMMA = u'\\u060C'\n",
    "SEMICOLON = u'\\u061B'\n",
    "QUESTION = u'\\u061F'\n",
    "\n",
    "# Other symbols\n",
    "PERCENT = u'\\u066a'\n",
    "DECIMAL = u'\\u066b'\n",
    "THOUSANDS = u'\\u066c'\n",
    "STAR = u'\\u066d'\n",
    "FULL_STOP = u'\\u06d4'\n",
    "MULITIPLICATION_SIGN = u'\\u00D7'\n",
    "DIVISION_SIGN = u'\\u00F7'\n",
    "\n",
    "arabic_punctuations = COMMA + SEMICOLON + QUESTION + PERCENT + DECIMAL + THOUSANDS + STAR + FULL_STOP + MULITIPLICATION_SIGN + DIVISION_SIGN\n",
    "all_punctuations = string.punctuation + arabic_punctuations + '()[]{}'\n",
    "\n",
    "all_punctuations = ''.join(list(set(all_punctuations)))\n"
   ]
  },
  {
   "cell_type": "code",
   "execution_count": 12,
   "metadata": {
    "id": "_ttD2Vybr9JB"
   },
   "outputs": [],
   "source": [
    "def strip_tashkeel(text):\n",
    "    text = HARAKAT_PAT.sub('', text)\n",
    "    text = re.sub(u\"[\\u064E]\", \"\", text,  flags=re.UNICODE) # fattha\n",
    "    text = re.sub(u\"[\\u0671]\", \"\", text,  flags=re.UNICODE) # waSla\n",
    "    return text \n",
    "\n",
    "def strip_tatweel(text):\n",
    "    return re.sub(u'[%s]' % TATWEEL, '', text)\n",
    "\n",
    "\n",
    "def remove_non_arabic(text):\n",
    "    return ' '.join(re.sub(u\"[^\\u0621-\\u063A\\u0640-\\u0652 ]\", \" \", text,  flags=re.UNICODE).split())\n",
    "\n",
    "\n",
    "def keep_arabic_english_n_symbols(text):\n",
    "    return ' '.join(re.sub(u\"[^\\u0621-\\u063A\\u0640-\\u064aa-zA-Z#@_:/ ]\", \"\", text,  flags=re.UNICODE).split())\n",
    "\n",
    "\n",
    "def normalize_hamza(text):\n",
    "    text = ALEFAT_PAT.sub(ALEF, text)\n",
    "    return HAMZAT_PAT.sub(HAMZA, text)\n",
    "\n",
    "\n",
    "def normalize_spellerrors(text):\n",
    "    text = re.sub(u'[%s]' % TEH_MARBUTA, HEH, text)\n",
    "    return re.sub(u'[%s]' % ALEF_MAKSURA, YEH, text)\n",
    "\n",
    "\n",
    "def normalize_lamalef(text):\n",
    "    return LAMALEFAT_PAT.sub(u'%s%s'%(LAM, ALEF), text)\n",
    "\n",
    "\n",
    "def normalize_arabic_text(text):\n",
    "    text = remove_non_arabic(text)\n",
    "    text = strip_tashkeel(text)\n",
    "    text = strip_tatweel(text)\n",
    "    text = normalize_lamalef(text)\n",
    "    text = normalize_hamza(text)\n",
    "    text = normalize_spellerrors(text)\n",
    "    return text\n",
    "\n",
    "\n",
    "def remove_underscore(text):\n",
    "    return ' '.join(text.split('_'))\n",
    "\n",
    "\n",
    "def remove_retweet_tag(text):\n",
    "    return re.compile('\\#').sub('', re.compile('rt @[a-zA-Z0-9_]+:|@[a-zA-Z0-9_]+').sub('', text).strip())\n",
    "\n",
    "\n",
    "def replace_emails(text):\n",
    "    emails = re.findall(r'[\\w\\.-]+@[\\w\\.-]+', text)\n",
    "    for email in emails:\n",
    "        text = text.replace(email,'#')\n",
    "        #text = text.replace(email,' hasEmailAddress ')\n",
    "    return text\n",
    "\n",
    "def replace_urls(text):\n",
    "    return re.sub(r\"http\\S+|www.\\S+\", \"#\", text)\n",
    "    #return re.sub(r\"http\\S+|www.\\S+\", \" hasURL \", text)\n",
    "\n",
    "def convert_eastern_to_western_numerals(text):\n",
    "    for num in EASTERN_ARABIC_NUMERALS:\n",
    "        text = text.replace(num, eastern_to_western_numerals[num])\n",
    "    return text\n",
    "\n",
    "def remove_all_punctuations(text):\n",
    "    for punctuation in all_punctuations:\n",
    "        text = text.replace(punctuation, ' ')\n",
    "    return text\n",
    "\n",
    "def remove_emojis(text):\n",
    "    emoji_pattern = re.compile(\"[\"\n",
    "        u\"\\U0001F600-\\U0001F64F\"  # emoticons\n",
    "        u\"\\U0001F300-\\U0001F5FF\"  # symbols & pictographs\n",
    "        u\"\\U0001F680-\\U0001F6FF\"  # transport & map symbols\n",
    "        u\"\\U0001F1E0-\\U0001F1FF\"  # flags (iOS)\n",
    "                           \"]+\", flags=re.UNICODE)\n",
    "    return emoji_pattern.sub(r'', text)\n",
    "\n",
    "def replace_phone_numbers(text):\n",
    "    return re.sub(r'\\d{10}', '#', text)\n",
    "    # return re.sub(r'\\d{10}', ' hasPhoneNumber ', text)\n",
    "\n",
    "def remove_extra_spaces(text):\n",
    "    return ' '.join(text.split())\n",
    "\n",
    "def normalize_tweet(text):\n",
    "    new_text = text.lower()\n",
    "    #new_text = normalize_hamza(new_text)\n",
    "    new_text = strip_tashkeel(new_text)\n",
    "    new_text = strip_tatweel(new_text)\n",
    "    new_text = normalize_lamalef(new_text)\n",
    "    #new_text = normalize_spellerrors(new_text)\n",
    "    new_text = remove_retweet_tag(new_text)\n",
    "    new_text = replace_emails(new_text)\n",
    "    new_text = remove_underscore(new_text)\n",
    "    new_text = replace_phone_numbers(new_text)\n",
    "    new_text = remove_all_punctuations(new_text)\n",
    "    new_text = replace_urls(new_text)\n",
    "    new_text = convert_eastern_to_western_numerals(new_text)\n",
    "#    new_text = keep_arabic_english_n_symbols(new_text)\n",
    "    new_text = remove_non_arabic(new_text)\n",
    "    new_text = remove_extra_spaces(new_text)\n",
    "    \n",
    "    return new_text\n"
   ]
  },
  {
   "cell_type": "code",
   "execution_count": 13,
   "metadata": {
    "colab": {
     "base_uri": "https://localhost:8080/",
     "height": 1000
    },
    "id": "6OmimzOer9H8",
    "outputId": "3b8d4384-89b2-4555-8e8f-87dbd625bdfd"
   },
   "outputs": [
    {
     "data": {
      "text/html": [
       "<div>\n",
       "<style scoped>\n",
       "    .dataframe tbody tr th:only-of-type {\n",
       "        vertical-align: middle;\n",
       "    }\n",
       "\n",
       "    .dataframe tbody tr th {\n",
       "        vertical-align: top;\n",
       "    }\n",
       "\n",
       "    .dataframe thead th {\n",
       "        text-align: right;\n",
       "    }\n",
       "</style>\n",
       "<table border=\"1\" class=\"dataframe\">\n",
       "  <thead>\n",
       "    <tr style=\"text-align: right;\">\n",
       "      <th></th>\n",
       "      <th>Unnamed: 0.1</th>\n",
       "      <th>text</th>\n",
       "      <th>Username</th>\n",
       "      <th>location</th>\n",
       "      <th>Timestamp</th>\n",
       "      <th>followers</th>\n",
       "      <th>label</th>\n",
       "      <th>categorie</th>\n",
       "    </tr>\n",
       "  </thead>\n",
       "  <tbody>\n",
       "    <tr>\n",
       "      <th>0</th>\n",
       "      <td>3276</td>\n",
       "      <td>بشرى سارة لجماهير النادي الأهلي للتفاصيل</td>\n",
       "      <td>Al3hdNews</td>\n",
       "      <td>القاهرة, مصر</td>\n",
       "      <td>Sat Oct 10 19:41:00 +0000 2020</td>\n",
       "      <td>4</td>\n",
       "      <td>0</td>\n",
       "      <td>sport</td>\n",
       "    </tr>\n",
       "    <tr>\n",
       "      <th>1</th>\n",
       "      <td>879</td>\n",
       "      <td>لا احب الأنميات الرياضية يكفي اني اتابعها علي ...</td>\n",
       "      <td>fekrytarro22</td>\n",
       "      <td>المنوفية, مصر</td>\n",
       "      <td>Thu Oct 08 20:10:28 +0000 2020</td>\n",
       "      <td>365</td>\n",
       "      <td>0</td>\n",
       "      <td>sport</td>\n",
       "    </tr>\n",
       "    <tr>\n",
       "      <th>3</th>\n",
       "      <td>6342</td>\n",
       "      <td>يسألون ليه مقاطعة البضائع التركية ليه الدولة م...</td>\n",
       "      <td>saefAlJohaniksa</td>\n",
       "      <td>المملكة العربية السعودية</td>\n",
       "      <td>Tue Oct 13 01:38:17 +0000 2020</td>\n",
       "      <td>443</td>\n",
       "      <td>4</td>\n",
       "      <td>economy</td>\n",
       "    </tr>\n",
       "    <tr>\n",
       "      <th>5</th>\n",
       "      <td>1037</td>\n",
       "      <td>فئة شيوخ الدين الي الله يكثر من امثالهم</td>\n",
       "      <td>LulwaBuhazaa</td>\n",
       "      <td>Bahrain</td>\n",
       "      <td>Fri Oct 09 22:20:56 +0000 2020</td>\n",
       "      <td>884</td>\n",
       "      <td>2</td>\n",
       "      <td>religion</td>\n",
       "    </tr>\n",
       "    <tr>\n",
       "      <th>6</th>\n",
       "      <td>5910</td>\n",
       "      <td>مليون و الف كل مجموع المبالغ اللي تم الاعلان ع...</td>\n",
       "      <td>Mishal_mut3b</td>\n",
       "      <td>المملكة العربية السعودية</td>\n",
       "      <td>Mon Oct 12 17:05:09 +0000 2020</td>\n",
       "      <td>908</td>\n",
       "      <td>0</td>\n",
       "      <td>sport</td>\n",
       "    </tr>\n",
       "    <tr>\n",
       "      <th>...</th>\n",
       "      <td>...</td>\n",
       "      <td>...</td>\n",
       "      <td>...</td>\n",
       "      <td>...</td>\n",
       "      <td>...</td>\n",
       "      <td>...</td>\n",
       "      <td>...</td>\n",
       "      <td>...</td>\n",
       "    </tr>\n",
       "    <tr>\n",
       "      <th>29553</th>\n",
       "      <td>1380</td>\n",
       "      <td>لست نصراويا ولا تهمني قضايا النصر لكن تصل ان ح...</td>\n",
       "      <td>sjsallam2</td>\n",
       "      <td>جدة, المملكة العربية السعودية</td>\n",
       "      <td>Fri Oct 09 20:45:44 +0000 2020</td>\n",
       "      <td>20530</td>\n",
       "      <td>0</td>\n",
       "      <td>sport</td>\n",
       "    </tr>\n",
       "    <tr>\n",
       "      <th>29554</th>\n",
       "      <td>1297</td>\n",
       "      <td>شركة الصفرات بالرياض نقل عفش بالرياض وبأقل الأ...</td>\n",
       "      <td>NourHom91041300</td>\n",
       "      <td>Syria</td>\n",
       "      <td>Fri Oct 09 16:40:36 +0000 2020</td>\n",
       "      <td>477</td>\n",
       "      <td>4</td>\n",
       "      <td>economy</td>\n",
       "    </tr>\n",
       "    <tr>\n",
       "      <th>29555</th>\n",
       "      <td>1844</td>\n",
       "      <td>عندما يتحدث رئيس الغرف التجارية من واقع مسؤولي...</td>\n",
       "      <td>2002__light</td>\n",
       "      <td>الجبيل, المملكة العربية السعودية</td>\n",
       "      <td>Fri Oct 09 21:35:06 +0000 2020</td>\n",
       "      <td>316</td>\n",
       "      <td>1</td>\n",
       "      <td>politic</td>\n",
       "    </tr>\n",
       "    <tr>\n",
       "      <th>29556</th>\n",
       "      <td>5389</td>\n",
       "      <td>رئيس النادي الاهلي وزارة الرياضة خلال عدة أشهر...</td>\n",
       "      <td>ALHILALMCLUB</td>\n",
       "      <td>الهلال.💙</td>\n",
       "      <td>Mon Oct 12 16:48:16 +0000 2020</td>\n",
       "      <td>38</td>\n",
       "      <td>0</td>\n",
       "      <td>sport</td>\n",
       "    </tr>\n",
       "    <tr>\n",
       "      <th>29557</th>\n",
       "      <td>5307</td>\n",
       "      <td>اعطي لادارة الاتحاد مليون في عامها الاول لا ما...</td>\n",
       "      <td>sssss1397</td>\n",
       "      <td>جدة  عروس الكون  JEDDAH  ⁦⁦⁦</td>\n",
       "      <td>Mon Oct 12 16:45:32 +0000 2020</td>\n",
       "      <td>3621</td>\n",
       "      <td>0</td>\n",
       "      <td>sport</td>\n",
       "    </tr>\n",
       "  </tbody>\n",
       "</table>\n",
       "<p>14180 rows × 8 columns</p>\n",
       "</div>"
      ],
      "text/plain": [
       "       Unnamed: 0.1                                               text  \\\n",
       "0              3276           بشرى سارة لجماهير النادي الأهلي للتفاصيل   \n",
       "1               879  لا احب الأنميات الرياضية يكفي اني اتابعها علي ...   \n",
       "3              6342  يسألون ليه مقاطعة البضائع التركية ليه الدولة م...   \n",
       "5              1037            فئة شيوخ الدين الي الله يكثر من امثالهم   \n",
       "6              5910  مليون و الف كل مجموع المبالغ اللي تم الاعلان ع...   \n",
       "...             ...                                                ...   \n",
       "29553          1380  لست نصراويا ولا تهمني قضايا النصر لكن تصل ان ح...   \n",
       "29554          1297  شركة الصفرات بالرياض نقل عفش بالرياض وبأقل الأ...   \n",
       "29555          1844  عندما يتحدث رئيس الغرف التجارية من واقع مسؤولي...   \n",
       "29556          5389  رئيس النادي الاهلي وزارة الرياضة خلال عدة أشهر...   \n",
       "29557          5307  اعطي لادارة الاتحاد مليون في عامها الاول لا ما...   \n",
       "\n",
       "              Username                          location  \\\n",
       "0            Al3hdNews                      القاهرة, مصر   \n",
       "1         fekrytarro22                     المنوفية, مصر   \n",
       "3      saefAlJohaniksa         المملكة العربية السعودية    \n",
       "5         LulwaBuhazaa                           Bahrain   \n",
       "6         Mishal_mut3b          المملكة العربية السعودية   \n",
       "...                ...                               ...   \n",
       "29553        sjsallam2     جدة, المملكة العربية السعودية   \n",
       "29554  NourHom91041300                             Syria   \n",
       "29555      2002__light  الجبيل, المملكة العربية السعودية   \n",
       "29556     ALHILALMCLUB                          الهلال.💙   \n",
       "29557        sssss1397      جدة  عروس الكون  JEDDAH  ⁦⁦⁦   \n",
       "\n",
       "                            Timestamp  followers  label categorie  \n",
       "0      Sat Oct 10 19:41:00 +0000 2020          4      0     sport  \n",
       "1      Thu Oct 08 20:10:28 +0000 2020        365      0     sport  \n",
       "3      Tue Oct 13 01:38:17 +0000 2020        443      4   economy  \n",
       "5      Fri Oct 09 22:20:56 +0000 2020        884      2  religion  \n",
       "6      Mon Oct 12 17:05:09 +0000 2020        908      0     sport  \n",
       "...                               ...        ...    ...       ...  \n",
       "29553  Fri Oct 09 20:45:44 +0000 2020      20530      0     sport  \n",
       "29554  Fri Oct 09 16:40:36 +0000 2020        477      4   economy  \n",
       "29555  Fri Oct 09 21:35:06 +0000 2020        316      1   politic  \n",
       "29556  Mon Oct 12 16:48:16 +0000 2020         38      0     sport  \n",
       "29557  Mon Oct 12 16:45:32 +0000 2020       3621      0     sport  \n",
       "\n",
       "[14180 rows x 8 columns]"
      ]
     },
     "execution_count": 13,
     "metadata": {},
     "output_type": "execute_result"
    }
   ],
   "source": [
    "df['text'] = df['text'].apply(normalize_tweet)\n",
    "df"
   ]
  },
  {
   "cell_type": "code",
   "execution_count": 14,
   "metadata": {
    "id": "7V4X0bKwuhz-"
   },
   "outputs": [],
   "source": [
    "# def remove_stopwords(text):\n",
    "#      #Read a csv file containing 750 stopwords \n",
    "#     stopwords = pd.read_csv(\"Arabic-Stopword.csv\")\n",
    "\n",
    "#     stop=stopwords['text'].tolist()\n",
    "#     text_list = text.split(' ')  # to remove stopwords easily  \n",
    "#     new_text_list = []\n",
    "#     for s in text_list:\n",
    "#         if not (s in stop) and not(s in stop_ls): #Checks two lists\n",
    "#             new_text_list.append(s)\n",
    "        \n",
    "#     text = ' '.join(e for e in new_text_list)  # gather text together again\n",
    "\n",
    "#     return text\n",
    "   "
   ]
  },
  {
   "cell_type": "code",
   "execution_count": 15,
   "metadata": {
    "colab": {
     "base_uri": "https://localhost:8080/",
     "height": 210
    },
    "id": "L5-3dUR362eJ",
    "outputId": "8d7c626b-126d-4b2e-a2b2-5955974ac088"
   },
   "outputs": [
    {
     "name": "stdout",
     "output_type": "stream",
     "text": [
      "754\n"
     ]
    },
    {
     "data": {
      "text/plain": [
       "'إذ   إذا   إذما   إذن   أف   أقل   أكثر   ألا   إلا   التي   الذي   الذين   اللاتي   اللائي   اللتان   اللتيا   اللتين   اللذان   اللذين   اللواتي   إلى   إليك   إليكم   إليكما   إليكن   أم   أما   أما   إما   أن   إن   إنا   أنا   أنت   أنتم   أنتما   أنتن   إنما   إنه   أنى   أنى   آه   آها   أو   أولاء   أولئك   أوه   آي   أي   أيها   إي   أين   أين   أينما   إيه   بخ   بس   بعد   بعض   بك   بكم   بكم   بكما   بكن   بل   بلى   بما   بماذا   بمن   بنا   به   بها   بهم   بهما   بهن   بي   بين   بيد   تلك   تلكم   تلكما   ته   تي   تين   تينك   ثم   ثمة   حاشا   حبذا   حتى   حيث   حيثما   حين   خلا   دون   ذا   ذات   ذاك   ذان   ذانك   ذلك   ذلكم   ذلكما   ذلكن   ذه   ذو   ذوا   ذواتا   ذواتي   ذي   ذين   ذينك   ريث   سوف   سوى   شتان   عدا   عسى   عل   على   عليك   عليه   عما   عن   عند   غير   فإذا   فإن   فلا   فمن   في   فيم   فيما   فيه   فيها   قد   كأن   كأنما   كأي   كأين   كذا   كذلك   كل   كلا   كلاهما   كلتا   كلما   كليكما   كليهما   كم   كم   كما   كي   كيت   كيف   كيفما   لا   لاسيما   لدى   لست   لستم   لستما   لستن   لسن   لسنا   لعل   لك   لكم   لكما   لكن   لكنما   لكي   لكيلا   لم   لما   لن   لنا   له   لها   لهم   لهما   لهن   لو   لولا   لوما   لي   لئن   ليت   ليس   ليسا   ليست   ليستا   ليسوا   ما   ماذا   متى   مذ   مع   مما   ممن   من   منه   منها   منذ   مه   مهما   نحن   نحو   نعم   ها   هاتان   هاته   هاتي   هاتين   هاك   هاهنا   هذا   هذان   هذه   هذي   هذين   هكذا   هل   هلا   هم   هما   هن   هنا   هناك   هنالك   هو   هؤلاء   هي   هيا   هيت   هيهات   والذي   والذين   وإذ   وإذا   وإن   ولا   ولكن   ولو   وما   ومن   وهو   يا   أبٌ   أخٌ   حمٌ   فو   أنتِ   يناير   فبراير   مارس   أبريل   مايو   يونيو   يوليو   أغسطس   سبتمبر   أكتوبر   نوفمبر   ديسمبر   جانفي   فيفري   مارس   أفريل   ماي   جوان   جويلية   أوت   كانون   شباط   آذار   نيسان   أيار   حزيران   تموز   آب   أيلول   تشرين   دولار   دينار   ريال   درهم   ليرة   جنيه   قرش   مليم   فلس   هللة   سنتيم   يورو   ين   يوان   شيكل   واحد   اثنان   ثلاثة   أربعة   خمسة   ستة   سبعة   ثمانية   تسعة   عشرة   أحد   اثنا   اثني   إحدى   ثلاث   أربع   خمس   ست   سبع   ثماني   تسع   عشر   ثمان   سبت   أحد   اثنين   ثلاثاء   أربعاء   خميس   جمعة   أول   ثان   ثاني   ثالث   رابع   خامس   سادس   سابع   ثامن   تاسع   عاشر   حادي   أ   ب   ت   ث   ج   ح   خ   د   ذ   ر   ز   س   ش   ص   ض   ط   ظ   ع   غ   ف   ق   ك   ل   م   ن   ه   و   ي   ء   ى   آ   ؤ   ئ   أ   ة   ألف   باء   تاء   ثاء   جيم   حاء   خاء   دال   ذال   راء   زاي   سين   شين   صاد   ضاد   طاء   ظاء   عين   غين   فاء   قاف   كاف   لام   ميم   نون   هاء   واو   ياء   همزة   ي   نا   ك   كن   ه   إياه   إياها   إياهما   إياهم   إياهن   إياك   إياكما   إياكم   إياك   إياكن   إياي   إيانا   أولالك   تانِ   تانِك   تِه   تِي   تَيْنِ   ثمّ   ثمّة   ذانِ   ذِه   ذِي   ذَيْنِ   هَؤلاء   هَاتانِ   هَاتِه   هَاتِي   هَاتَيْنِ   هَذا   هَذانِ   هَذِه   هَذِي   هَذَيْنِ   الألى   الألاء   أل   أنّى   أيّ   ّأيّان   أنّى   أيّ   ّأيّان   ذيت   كأيّ   كأيّن   بضع   فلان   وا   آمينَ   آهِ   آهٍ   آهاً   أُفٍّ   أُفٍّ   أفٍّ   أمامك   أمامكَ   أوّهْ   إلَيْكَ   إلَيْكَ   إليكَ   إليكنّ   إيهٍ   بخٍ   بسّ   بَسْ   بطآن   بَلْهَ   حاي   حَذارِ   حيَّ   حيَّ   دونك   رويدك   سرعان   شتانَ   شَتَّانَ   صهْ   صهٍ   طاق   طَق   عَدَسْ   كِخ   مكانَك   مكانَك   مكانَك   مكانكم   مكانكما   مكانكنّ   نَخْ   هاكَ   هَجْ   هلم   هيّا   هَيْهات   وا   واهاً   وراءَك   وُشْكَانَ   وَيْ   يفعلان   تفعلان   يفعلون   تفعلون   تفعلين   اتخذ   ألفى   تخذ   ترك   تعلَّم   جعل   حجا   حبيب   خال   حسب   خال   درى   رأى   زعم   صبر   ظنَّ   عدَّ   علم   غادر   ذهب   وجد   ورد   وهب   أسكن   أطعم   أعطى   رزق   زود   سقى   كسا   أخبر   أرى   أعلم   أنبأ   حدَث   خبَّر   نبَّا   أفعل به   ما أفعله   بئس   ساء   طالما   قلما   لات   لكنَّ   ءَ   أجل   إذاً   أمّا   إمّا   إنَّ   أنًّ   أى   إى   أيا   ب   ثمَّ   جلل   جير   رُبَّ   س   علًّ   ف   كأنّ   كلَّا   كى   ل   لات   لعلَّ   لكنَّ   لكنَّ   م   نَّ   هلّا   وا   أل   إلّا   ت   ك   لمّا   ن   ه   و   ا   ي   تجاه   تلقاء   جميع   حسب   سبحان   شبه   لعمر   مثل   معاذ   أبو   أخو   حمو   فو   مئة   مئتان   ثلاثمئة   أربعمئة   خمسمئة   ستمئة   سبعمئة   ثمنمئة   تسعمئة   مائة   ثلاثمائة   أربعمائة   خمسمائة   ستمائة   سبعمائة   ثمانمئة   تسعمائة   عشرون   ثلاثون   اربعون   خمسون   ستون   سبعون   ثمانون   تسعون   عشرين   ثلاثين   اربعين   خمسين   ستين   سبعين   ثمانين   تسعين   بضع   نيف   أجمع   جميع   عامة   عين   نفس   لا سيما   أصلا   أهلا   أيضا   بؤسا   بعدا   بغتة   تعسا   حقا   حمدا   خلافا   خاصة   دواليك   سحقا   سرا   سمعا   صبرا   صدقا   صراحة   طرا   عجبا   عيانا   غالبا   فرادى   فضلا   قاطبة   كثيرا   لبيك   معاذ   أبدا   إزاء   أصلا   الآن   أمد   أمس   آنفا   آناء   أنّى   أول   أيّان   تارة   ثمّ   ثمّة   حقا   صباح   مساء   ضحوة   عوض   غدا   غداة   قطّ   كلّما   لدن   لمّا   مرّة   قبل   خلف   أمام   فوق   تحت   يمين   شمال   ارتدّ   استحال   أصبح   أضحى   آض   أمسى   انقلب   بات   تبدّل   تحوّل   حار   رجع   راح   صار   ظلّ   عاد   غدا   كان   ما انفك   ما برح   مادام   مازال   مافتئ   ابتدأ   أخذ   اخلولق   أقبل   انبرى   أنشأ   أوشك   جعل   حرى   شرع   طفق   علق   قام   كرب   كاد   هبّ'"
      ]
     },
     "execution_count": 15,
     "metadata": {},
     "output_type": "execute_result"
    }
   ],
   "source": [
    "ar_sw = stopwords.words(\"arabic\")\n",
    "print(len(ar_sw))\n",
    "'   '.join(ar_sw)"
   ]
  },
  {
   "cell_type": "code",
   "execution_count": 16,
   "metadata": {
    "colab": {
     "base_uri": "https://localhost:8080/",
     "height": 175
    },
    "id": "-mEeQhp96nzs",
    "outputId": "a0c71b53-6569-4a30-814b-7a33b8442125"
   },
   "outputs": [
    {
     "data": {
      "text/plain": [
       "'\\\\b(?:إذ|إذا|إذما|إذن|أف|أقل|أكثر|ألا|إلا|التي|الذي|الذين|اللاتي|اللائي|اللتان|اللتيا|اللتين|اللذان|اللذين|اللواتي|إلى|إليك|إليكم|إليكما|إليكن|أم|أما|أما|إما|أن|إن|إنا|أنا|أنت|أنتم|أنتما|أنتن|إنما|إنه|أنى|أنى|آه|آها|أو|أولاء|أولئك|أوه|آي|أي|أيها|إي|أين|أين|أينما|إيه|بخ|بس|بعد|بعض|بك|بكم|بكم|بكما|بكن|بل|بلى|بما|بماذا|بمن|بنا|به|بها|بهم|بهما|بهن|بي|بين|بيد|تلك|تلكم|تلكما|ته|تي|تين|تينك|ثم|ثمة|حاشا|حبذا|حتى|حيث|حيثما|حين|خلا|دون|ذا|ذات|ذاك|ذان|ذانك|ذلك|ذلكم|ذلكما|ذلكن|ذه|ذو|ذوا|ذواتا|ذواتي|ذي|ذين|ذينك|ريث|سوف|سوى|شتان|عدا|عسى|عل|على|عليك|عليه|عما|عن|عند|غير|فإذا|فإن|فلا|فمن|في|فيم|فيما|فيه|فيها|قد|كأن|كأنما|كأي|كأين|كذا|كذلك|كل|كلا|كلاهما|كلتا|كلما|كليكما|كليهما|كم|كم|كما|كي|كيت|كيف|كيفما|لا|لاسيما|لدى|لست|لستم|لستما|لستن|لسن|لسنا|لعل|لك|لكم|لكما|لكن|لكنما|لكي|لكيلا|لم|لما|لن|لنا|له|لها|لهم|لهما|لهن|لو|لولا|لوما|لي|لئن|ليت|ليس|ليسا|ليست|ليستا|ليسوا|ما|ماذا|متى|مذ|مع|مما|ممن|من|منه|منها|منذ|مه|مهما|نحن|نحو|نعم|ها|هاتان|هاته|هاتي|هاتين|هاك|هاهنا|هذا|هذان|هذه|هذي|هذين|هكذا|هل|هلا|هم|هما|هن|هنا|هناك|هنالك|هو|هؤلاء|هي|هيا|هيت|هيهات|والذي|والذين|وإذ|وإذا|وإن|ولا|ولكن|ولو|وما|ومن|وهو|يا|أبٌ|أخٌ|حمٌ|فو|أنتِ|يناير|فبراير|مارس|أبريل|مايو|يونيو|يوليو|أغسطس|سبتمبر|أكتوبر|نوفمبر|ديسمبر|جانفي|فيفري|مارس|أفريل|ماي|جوان|جويلية|أوت|كانون|شباط|آذار|نيسان|أيار|حزيران|تموز|آب|أيلول|تشرين|دولار|دينار|ريال|درهم|ليرة|جنيه|قرش|مليم|فلس|هللة|سنتيم|يورو|ين|يوان|شيكل|واحد|اثنان|ثلاثة|أربعة|خمسة|ستة|سبعة|ثمانية|تسعة|عشرة|أحد|اثنا|اثني|إحدى|ثلاث|أربع|خمس|ست|سبع|ثماني|تسع|عشر|ثمان|سبت|أحد|اثنين|ثلاثاء|أربعاء|خميس|جمعة|أول|ثان|ثاني|ثالث|رابع|خامس|سادس|سابع|ثامن|تاسع|عاشر|حادي|أ|ب|ت|ث|ج|ح|خ|د|ذ|ر|ز|س|ش|ص|ض|ط|ظ|ع|غ|ف|ق|ك|ل|م|ن|ه|و|ي|ء|ى|آ|ؤ|ئ|أ|ة|ألف|باء|تاء|ثاء|جيم|حاء|خاء|دال|ذال|راء|زاي|سين|شين|صاد|ضاد|طاء|ظاء|عين|غين|فاء|قاف|كاف|لام|ميم|نون|هاء|واو|ياء|همزة|ي|نا|ك|كن|ه|إياه|إياها|إياهما|إياهم|إياهن|إياك|إياكما|إياكم|إياك|إياكن|إياي|إيانا|أولالك|تانِ|تانِك|تِه|تِي|تَيْنِ|ثمّ|ثمّة|ذانِ|ذِه|ذِي|ذَيْنِ|هَؤلاء|هَاتانِ|هَاتِه|هَاتِي|هَاتَيْنِ|هَذا|هَذانِ|هَذِه|هَذِي|هَذَيْنِ|الألى|الألاء|أل|أنّى|أيّ|ّأيّان|أنّى|أيّ|ّأيّان|ذيت|كأيّ|كأيّن|بضع|فلان|وا|آمينَ|آهِ|آهٍ|آهاً|أُفٍّ|أُفٍّ|أفٍّ|أمامك|أمامكَ|أوّهْ|إلَيْكَ|إلَيْكَ|إليكَ|إليكنّ|إيهٍ|بخٍ|بسّ|بَسْ|بطآن|بَلْهَ|حاي|حَذارِ|حيَّ|حيَّ|دونك|رويدك|سرعان|شتانَ|شَتَّانَ|صهْ|صهٍ|طاق|طَق|عَدَسْ|كِخ|مكانَك|مكانَك|مكانَك|مكانكم|مكانكما|مكانكنّ|نَخْ|هاكَ|هَجْ|هلم|هيّا|هَيْهات|وا|واهاً|وراءَك|وُشْكَانَ|وَيْ|يفعلان|تفعلان|يفعلون|تفعلون|تفعلين|اتخذ|ألفى|تخذ|ترك|تعلَّم|جعل|حجا|حبيب|خال|حسب|خال|درى|رأى|زعم|صبر|ظنَّ|عدَّ|علم|غادر|ذهب|وجد|ورد|وهب|أسكن|أطعم|أعطى|رزق|زود|سقى|كسا|أخبر|أرى|أعلم|أنبأ|حدَث|خبَّر|نبَّا|أفعل به|ما أفعله|بئس|ساء|طالما|قلما|لات|لكنَّ|ءَ|أجل|إذاً|أمّا|إمّا|إنَّ|أنًّ|أى|إى|أيا|ب|ثمَّ|جلل|جير|رُبَّ|س|علًّ|ف|كأنّ|كلَّا|كى|ل|لات|لعلَّ|لكنَّ|لكنَّ|م|نَّ|هلّا|وا|أل|إلّا|ت|ك|لمّا|ن|ه|و|ا|ي|تجاه|تلقاء|جميع|حسب|سبحان|شبه|لعمر|مثل|معاذ|أبو|أخو|حمو|فو|مئة|مئتان|ثلاثمئة|أربعمئة|خمسمئة|ستمئة|سبعمئة|ثمنمئة|تسعمئة|مائة|ثلاثمائة|أربعمائة|خمسمائة|ستمائة|سبعمائة|ثمانمئة|تسعمائة|عشرون|ثلاثون|اربعون|خمسون|ستون|سبعون|ثمانون|تسعون|عشرين|ثلاثين|اربعين|خمسين|ستين|سبعين|ثمانين|تسعين|بضع|نيف|أجمع|جميع|عامة|عين|نفس|لا سيما|أصلا|أهلا|أيضا|بؤسا|بعدا|بغتة|تعسا|حقا|حمدا|خلافا|خاصة|دواليك|سحقا|سرا|سمعا|صبرا|صدقا|صراحة|طرا|عجبا|عيانا|غالبا|فرادى|فضلا|قاطبة|كثيرا|لبيك|معاذ|أبدا|إزاء|أصلا|الآن|أمد|أمس|آنفا|آناء|أنّى|أول|أيّان|تارة|ثمّ|ثمّة|حقا|صباح|مساء|ضحوة|عوض|غدا|غداة|قطّ|كلّما|لدن|لمّا|مرّة|قبل|خلف|أمام|فوق|تحت|يمين|شمال|ارتدّ|استحال|أصبح|أضحى|آض|أمسى|انقلب|بات|تبدّل|تحوّل|حار|رجع|راح|صار|ظلّ|عاد|غدا|كان|ما انفك|ما برح|مادام|مازال|مافتئ|ابتدأ|أخذ|اخلولق|أقبل|انبرى|أنشأ|أوشك|جعل|حرى|شرع|طفق|علق|قام|كرب|كاد|هبّ)\\\\b'"
      ]
     },
     "execution_count": 16,
     "metadata": {},
     "output_type": "execute_result"
    }
   ],
   "source": [
    "ar_sw = r'\\b(?:{})\\b'.format('|'.join(ar_sw))\n",
    "ar_sw"
   ]
  },
  {
   "cell_type": "code",
   "execution_count": 17,
   "metadata": {
    "colab": {
     "base_uri": "https://localhost:8080/"
    },
    "id": "pKhMq39_5iuO",
    "outputId": "46ed1ee1-e114-4ccf-bd32-687c7ad520c9"
   },
   "outputs": [
    {
     "data": {
      "text/plain": [
       "29540    نشترى الاثاث المستعمل بالرياض بأفضل الاسعار غر...\n",
       "29542    قادرين تتخيلو وتتوقعو انو دا مركز تحفيظ  صيانه...\n",
       "29543    مبروك  شيخ الاندية الخليجية  معقل البطولات تست...\n",
       "29547    كابتن مجدى سؤال خارج السياق حضرتك عايز تترشح ل...\n",
       "29552    اللهم إني أعوذ   الهم والحزن والعجز والكسل وال...\n",
       "29553     نصراويا  تهمني قضايا النصر  تصل ان حساب قناته...\n",
       "29554    شركة الصفرات بالرياض نقل عفش بالرياض وبأقل الأ...\n",
       "29555    عندما يتحدث رئيس الغرف التجارية  واقع مسؤوليته...\n",
       "29556    رئيس النادي الاهلي وزارة الرياضة خلال عدة أشهر...\n",
       "29557    اعطي لادارة الاتحاد مليون  عامها الاول    ننسى...\n",
       "Name: text, dtype: object"
      ]
     },
     "execution_count": 17,
     "metadata": {},
     "output_type": "execute_result"
    }
   ],
   "source": [
    "df['text']=df['text'].str.replace(ar_sw, '')\n",
    "df['text'].tail(10)"
   ]
  },
  {
   "cell_type": "code",
   "execution_count": 18,
   "metadata": {
    "colab": {
     "base_uri": "https://localhost:8080/",
     "height": 1000
    },
    "id": "OnKQoSvk9PKN",
    "outputId": "8f087092-6a59-42fe-da6c-7ec4fadb3069"
   },
   "outputs": [
    {
     "data": {
      "text/html": [
       "<div>\n",
       "<style scoped>\n",
       "    .dataframe tbody tr th:only-of-type {\n",
       "        vertical-align: middle;\n",
       "    }\n",
       "\n",
       "    .dataframe tbody tr th {\n",
       "        vertical-align: top;\n",
       "    }\n",
       "\n",
       "    .dataframe thead th {\n",
       "        text-align: right;\n",
       "    }\n",
       "</style>\n",
       "<table border=\"1\" class=\"dataframe\">\n",
       "  <thead>\n",
       "    <tr style=\"text-align: right;\">\n",
       "      <th></th>\n",
       "      <th>Unnamed: 0.1</th>\n",
       "      <th>text</th>\n",
       "      <th>Username</th>\n",
       "      <th>location</th>\n",
       "      <th>Timestamp</th>\n",
       "      <th>followers</th>\n",
       "      <th>label</th>\n",
       "      <th>categorie</th>\n",
       "    </tr>\n",
       "  </thead>\n",
       "  <tbody>\n",
       "    <tr>\n",
       "      <th>0</th>\n",
       "      <td>3276</td>\n",
       "      <td>بشرى سارة لجماهير النادي الأهلي للتفاصيل</td>\n",
       "      <td>Al3hdNews</td>\n",
       "      <td>القاهرة, مصر</td>\n",
       "      <td>Sat Oct 10 19:41:00 +0000 2020</td>\n",
       "      <td>4</td>\n",
       "      <td>0</td>\n",
       "      <td>sport</td>\n",
       "    </tr>\n",
       "    <tr>\n",
       "      <th>1</th>\n",
       "      <td>879</td>\n",
       "      <td>احب الأنميات الرياضية يكفي اني اتابعها علي ار...</td>\n",
       "      <td>fekrytarro22</td>\n",
       "      <td>المنوفية, مصر</td>\n",
       "      <td>Thu Oct 08 20:10:28 +0000 2020</td>\n",
       "      <td>365</td>\n",
       "      <td>0</td>\n",
       "      <td>sport</td>\n",
       "    </tr>\n",
       "    <tr>\n",
       "      <th>3</th>\n",
       "      <td>6342</td>\n",
       "      <td>يسألون ليه مقاطعة البضائع التركية ليه الدولة  ...</td>\n",
       "      <td>saefAlJohaniksa</td>\n",
       "      <td>المملكة العربية السعودية</td>\n",
       "      <td>Tue Oct 13 01:38:17 +0000 2020</td>\n",
       "      <td>443</td>\n",
       "      <td>4</td>\n",
       "      <td>economy</td>\n",
       "    </tr>\n",
       "    <tr>\n",
       "      <th>5</th>\n",
       "      <td>1037</td>\n",
       "      <td>فئة شيوخ الدين الي الله يكثر  امثالهم</td>\n",
       "      <td>LulwaBuhazaa</td>\n",
       "      <td>Bahrain</td>\n",
       "      <td>Fri Oct 09 22:20:56 +0000 2020</td>\n",
       "      <td>884</td>\n",
       "      <td>2</td>\n",
       "      <td>religion</td>\n",
       "    </tr>\n",
       "    <tr>\n",
       "      <th>6</th>\n",
       "      <td>5910</td>\n",
       "      <td>مليون  الف  مجموع المبالغ اللي تم الاعلان  تبر...</td>\n",
       "      <td>Mishal_mut3b</td>\n",
       "      <td>المملكة العربية السعودية</td>\n",
       "      <td>Mon Oct 12 17:05:09 +0000 2020</td>\n",
       "      <td>908</td>\n",
       "      <td>0</td>\n",
       "      <td>sport</td>\n",
       "    </tr>\n",
       "    <tr>\n",
       "      <th>...</th>\n",
       "      <td>...</td>\n",
       "      <td>...</td>\n",
       "      <td>...</td>\n",
       "      <td>...</td>\n",
       "      <td>...</td>\n",
       "      <td>...</td>\n",
       "      <td>...</td>\n",
       "      <td>...</td>\n",
       "    </tr>\n",
       "    <tr>\n",
       "      <th>29553</th>\n",
       "      <td>1380</td>\n",
       "      <td>نصراويا  تهمني قضايا النصر  تصل ان حساب قناته...</td>\n",
       "      <td>sjsallam2</td>\n",
       "      <td>جدة, المملكة العربية السعودية</td>\n",
       "      <td>Fri Oct 09 20:45:44 +0000 2020</td>\n",
       "      <td>20530</td>\n",
       "      <td>0</td>\n",
       "      <td>sport</td>\n",
       "    </tr>\n",
       "    <tr>\n",
       "      <th>29554</th>\n",
       "      <td>1297</td>\n",
       "      <td>شركة الصفرات بالرياض نقل عفش بالرياض وبأقل الأ...</td>\n",
       "      <td>NourHom91041300</td>\n",
       "      <td>Syria</td>\n",
       "      <td>Fri Oct 09 16:40:36 +0000 2020</td>\n",
       "      <td>477</td>\n",
       "      <td>4</td>\n",
       "      <td>economy</td>\n",
       "    </tr>\n",
       "    <tr>\n",
       "      <th>29555</th>\n",
       "      <td>1844</td>\n",
       "      <td>عندما يتحدث رئيس الغرف التجارية  واقع مسؤوليته...</td>\n",
       "      <td>2002__light</td>\n",
       "      <td>الجبيل, المملكة العربية السعودية</td>\n",
       "      <td>Fri Oct 09 21:35:06 +0000 2020</td>\n",
       "      <td>316</td>\n",
       "      <td>1</td>\n",
       "      <td>politic</td>\n",
       "    </tr>\n",
       "    <tr>\n",
       "      <th>29556</th>\n",
       "      <td>5389</td>\n",
       "      <td>رئيس النادي الاهلي وزارة الرياضة خلال عدة أشهر...</td>\n",
       "      <td>ALHILALMCLUB</td>\n",
       "      <td>الهلال.💙</td>\n",
       "      <td>Mon Oct 12 16:48:16 +0000 2020</td>\n",
       "      <td>38</td>\n",
       "      <td>0</td>\n",
       "      <td>sport</td>\n",
       "    </tr>\n",
       "    <tr>\n",
       "      <th>29557</th>\n",
       "      <td>5307</td>\n",
       "      <td>اعطي لادارة الاتحاد مليون  عامها الاول    ننسى...</td>\n",
       "      <td>sssss1397</td>\n",
       "      <td>جدة  عروس الكون  JEDDAH  ⁦⁦⁦</td>\n",
       "      <td>Mon Oct 12 16:45:32 +0000 2020</td>\n",
       "      <td>3621</td>\n",
       "      <td>0</td>\n",
       "      <td>sport</td>\n",
       "    </tr>\n",
       "  </tbody>\n",
       "</table>\n",
       "<p>14180 rows × 8 columns</p>\n",
       "</div>"
      ],
      "text/plain": [
       "       Unnamed: 0.1                                               text  \\\n",
       "0              3276           بشرى سارة لجماهير النادي الأهلي للتفاصيل   \n",
       "1               879   احب الأنميات الرياضية يكفي اني اتابعها علي ار...   \n",
       "3              6342  يسألون ليه مقاطعة البضائع التركية ليه الدولة  ...   \n",
       "5              1037              فئة شيوخ الدين الي الله يكثر  امثالهم   \n",
       "6              5910  مليون  الف  مجموع المبالغ اللي تم الاعلان  تبر...   \n",
       "...             ...                                                ...   \n",
       "29553          1380   نصراويا  تهمني قضايا النصر  تصل ان حساب قناته...   \n",
       "29554          1297  شركة الصفرات بالرياض نقل عفش بالرياض وبأقل الأ...   \n",
       "29555          1844  عندما يتحدث رئيس الغرف التجارية  واقع مسؤوليته...   \n",
       "29556          5389  رئيس النادي الاهلي وزارة الرياضة خلال عدة أشهر...   \n",
       "29557          5307  اعطي لادارة الاتحاد مليون  عامها الاول    ننسى...   \n",
       "\n",
       "              Username                          location  \\\n",
       "0            Al3hdNews                      القاهرة, مصر   \n",
       "1         fekrytarro22                     المنوفية, مصر   \n",
       "3      saefAlJohaniksa         المملكة العربية السعودية    \n",
       "5         LulwaBuhazaa                           Bahrain   \n",
       "6         Mishal_mut3b          المملكة العربية السعودية   \n",
       "...                ...                               ...   \n",
       "29553        sjsallam2     جدة, المملكة العربية السعودية   \n",
       "29554  NourHom91041300                             Syria   \n",
       "29555      2002__light  الجبيل, المملكة العربية السعودية   \n",
       "29556     ALHILALMCLUB                          الهلال.💙   \n",
       "29557        sssss1397      جدة  عروس الكون  JEDDAH  ⁦⁦⁦   \n",
       "\n",
       "                            Timestamp  followers  label categorie  \n",
       "0      Sat Oct 10 19:41:00 +0000 2020          4      0     sport  \n",
       "1      Thu Oct 08 20:10:28 +0000 2020        365      0     sport  \n",
       "3      Tue Oct 13 01:38:17 +0000 2020        443      4   economy  \n",
       "5      Fri Oct 09 22:20:56 +0000 2020        884      2  religion  \n",
       "6      Mon Oct 12 17:05:09 +0000 2020        908      0     sport  \n",
       "...                               ...        ...    ...       ...  \n",
       "29553  Fri Oct 09 20:45:44 +0000 2020      20530      0     sport  \n",
       "29554  Fri Oct 09 16:40:36 +0000 2020        477      4   economy  \n",
       "29555  Fri Oct 09 21:35:06 +0000 2020        316      1   politic  \n",
       "29556  Mon Oct 12 16:48:16 +0000 2020         38      0     sport  \n",
       "29557  Mon Oct 12 16:45:32 +0000 2020       3621      0     sport  \n",
       "\n",
       "[14180 rows x 8 columns]"
      ]
     },
     "execution_count": 18,
     "metadata": {},
     "output_type": "execute_result"
    }
   ],
   "source": [
    "df"
   ]
  },
  {
   "cell_type": "code",
   "execution_count": 19,
   "metadata": {
    "colab": {
     "base_uri": "https://localhost:8080/",
     "height": 1000
    },
    "id": "9Bo6DZTHrcaN",
    "outputId": "4a621653-551a-4099-b10e-2242a54d7ebe"
   },
   "outputs": [
    {
     "data": {
      "text/html": [
       "<div>\n",
       "<style scoped>\n",
       "    .dataframe tbody tr th:only-of-type {\n",
       "        vertical-align: middle;\n",
       "    }\n",
       "\n",
       "    .dataframe tbody tr th {\n",
       "        vertical-align: top;\n",
       "    }\n",
       "\n",
       "    .dataframe thead th {\n",
       "        text-align: right;\n",
       "    }\n",
       "</style>\n",
       "<table border=\"1\" class=\"dataframe\">\n",
       "  <thead>\n",
       "    <tr style=\"text-align: right;\">\n",
       "      <th></th>\n",
       "      <th>Unnamed: 0.1</th>\n",
       "      <th>text</th>\n",
       "      <th>Username</th>\n",
       "      <th>location</th>\n",
       "      <th>Timestamp</th>\n",
       "      <th>followers</th>\n",
       "      <th>label</th>\n",
       "      <th>categorie</th>\n",
       "    </tr>\n",
       "  </thead>\n",
       "  <tbody>\n",
       "    <tr>\n",
       "      <th>0</th>\n",
       "      <td>3276</td>\n",
       "      <td>بشرى سارة لجماهير النادي الأهلي للتفاصيل</td>\n",
       "      <td>Al3hdNews</td>\n",
       "      <td>القاهرة, مصر</td>\n",
       "      <td>Sat Oct 10 19:41:00 +0000 2020</td>\n",
       "      <td>4</td>\n",
       "      <td>0</td>\n",
       "      <td>الرياضة</td>\n",
       "    </tr>\n",
       "    <tr>\n",
       "      <th>1</th>\n",
       "      <td>879</td>\n",
       "      <td>احب الأنميات الرياضية يكفي اني اتابعها علي ار...</td>\n",
       "      <td>fekrytarro22</td>\n",
       "      <td>المنوفية, مصر</td>\n",
       "      <td>Thu Oct 08 20:10:28 +0000 2020</td>\n",
       "      <td>365</td>\n",
       "      <td>0</td>\n",
       "      <td>الرياضة</td>\n",
       "    </tr>\n",
       "    <tr>\n",
       "      <th>3</th>\n",
       "      <td>6342</td>\n",
       "      <td>يسألون ليه مقاطعة البضائع التركية ليه الدولة  ...</td>\n",
       "      <td>saefAlJohaniksa</td>\n",
       "      <td>المملكة العربية السعودية</td>\n",
       "      <td>Tue Oct 13 01:38:17 +0000 2020</td>\n",
       "      <td>443</td>\n",
       "      <td>4</td>\n",
       "      <td>الاقتصاد</td>\n",
       "    </tr>\n",
       "    <tr>\n",
       "      <th>5</th>\n",
       "      <td>1037</td>\n",
       "      <td>فئة شيوخ الدين الي الله يكثر  امثالهم</td>\n",
       "      <td>LulwaBuhazaa</td>\n",
       "      <td>Bahrain</td>\n",
       "      <td>Fri Oct 09 22:20:56 +0000 2020</td>\n",
       "      <td>884</td>\n",
       "      <td>2</td>\n",
       "      <td>الديانة</td>\n",
       "    </tr>\n",
       "    <tr>\n",
       "      <th>6</th>\n",
       "      <td>5910</td>\n",
       "      <td>مليون  الف  مجموع المبالغ اللي تم الاعلان  تبر...</td>\n",
       "      <td>Mishal_mut3b</td>\n",
       "      <td>المملكة العربية السعودية</td>\n",
       "      <td>Mon Oct 12 17:05:09 +0000 2020</td>\n",
       "      <td>908</td>\n",
       "      <td>0</td>\n",
       "      <td>الرياضة</td>\n",
       "    </tr>\n",
       "    <tr>\n",
       "      <th>...</th>\n",
       "      <td>...</td>\n",
       "      <td>...</td>\n",
       "      <td>...</td>\n",
       "      <td>...</td>\n",
       "      <td>...</td>\n",
       "      <td>...</td>\n",
       "      <td>...</td>\n",
       "      <td>...</td>\n",
       "    </tr>\n",
       "    <tr>\n",
       "      <th>29553</th>\n",
       "      <td>1380</td>\n",
       "      <td>نصراويا  تهمني قضايا النصر  تصل ان حساب قناته...</td>\n",
       "      <td>sjsallam2</td>\n",
       "      <td>جدة, المملكة العربية السعودية</td>\n",
       "      <td>Fri Oct 09 20:45:44 +0000 2020</td>\n",
       "      <td>20530</td>\n",
       "      <td>0</td>\n",
       "      <td>الرياضة</td>\n",
       "    </tr>\n",
       "    <tr>\n",
       "      <th>29554</th>\n",
       "      <td>1297</td>\n",
       "      <td>شركة الصفرات بالرياض نقل عفش بالرياض وبأقل الأ...</td>\n",
       "      <td>NourHom91041300</td>\n",
       "      <td>Syria</td>\n",
       "      <td>Fri Oct 09 16:40:36 +0000 2020</td>\n",
       "      <td>477</td>\n",
       "      <td>4</td>\n",
       "      <td>الاقتصاد</td>\n",
       "    </tr>\n",
       "    <tr>\n",
       "      <th>29555</th>\n",
       "      <td>1844</td>\n",
       "      <td>عندما يتحدث رئيس الغرف التجارية  واقع مسؤوليته...</td>\n",
       "      <td>2002__light</td>\n",
       "      <td>الجبيل, المملكة العربية السعودية</td>\n",
       "      <td>Fri Oct 09 21:35:06 +0000 2020</td>\n",
       "      <td>316</td>\n",
       "      <td>1</td>\n",
       "      <td>السياسة</td>\n",
       "    </tr>\n",
       "    <tr>\n",
       "      <th>29556</th>\n",
       "      <td>5389</td>\n",
       "      <td>رئيس النادي الاهلي وزارة الرياضة خلال عدة أشهر...</td>\n",
       "      <td>ALHILALMCLUB</td>\n",
       "      <td>الهلال.💙</td>\n",
       "      <td>Mon Oct 12 16:48:16 +0000 2020</td>\n",
       "      <td>38</td>\n",
       "      <td>0</td>\n",
       "      <td>الرياضة</td>\n",
       "    </tr>\n",
       "    <tr>\n",
       "      <th>29557</th>\n",
       "      <td>5307</td>\n",
       "      <td>اعطي لادارة الاتحاد مليون  عامها الاول    ننسى...</td>\n",
       "      <td>sssss1397</td>\n",
       "      <td>جدة  عروس الكون  JEDDAH  ⁦⁦⁦</td>\n",
       "      <td>Mon Oct 12 16:45:32 +0000 2020</td>\n",
       "      <td>3621</td>\n",
       "      <td>0</td>\n",
       "      <td>الرياضة</td>\n",
       "    </tr>\n",
       "  </tbody>\n",
       "</table>\n",
       "<p>14180 rows × 8 columns</p>\n",
       "</div>"
      ],
      "text/plain": [
       "       Unnamed: 0.1                                               text  \\\n",
       "0              3276           بشرى سارة لجماهير النادي الأهلي للتفاصيل   \n",
       "1               879   احب الأنميات الرياضية يكفي اني اتابعها علي ار...   \n",
       "3              6342  يسألون ليه مقاطعة البضائع التركية ليه الدولة  ...   \n",
       "5              1037              فئة شيوخ الدين الي الله يكثر  امثالهم   \n",
       "6              5910  مليون  الف  مجموع المبالغ اللي تم الاعلان  تبر...   \n",
       "...             ...                                                ...   \n",
       "29553          1380   نصراويا  تهمني قضايا النصر  تصل ان حساب قناته...   \n",
       "29554          1297  شركة الصفرات بالرياض نقل عفش بالرياض وبأقل الأ...   \n",
       "29555          1844  عندما يتحدث رئيس الغرف التجارية  واقع مسؤوليته...   \n",
       "29556          5389  رئيس النادي الاهلي وزارة الرياضة خلال عدة أشهر...   \n",
       "29557          5307  اعطي لادارة الاتحاد مليون  عامها الاول    ننسى...   \n",
       "\n",
       "              Username                          location  \\\n",
       "0            Al3hdNews                      القاهرة, مصر   \n",
       "1         fekrytarro22                     المنوفية, مصر   \n",
       "3      saefAlJohaniksa         المملكة العربية السعودية    \n",
       "5         LulwaBuhazaa                           Bahrain   \n",
       "6         Mishal_mut3b          المملكة العربية السعودية   \n",
       "...                ...                               ...   \n",
       "29553        sjsallam2     جدة, المملكة العربية السعودية   \n",
       "29554  NourHom91041300                             Syria   \n",
       "29555      2002__light  الجبيل, المملكة العربية السعودية   \n",
       "29556     ALHILALMCLUB                          الهلال.💙   \n",
       "29557        sssss1397      جدة  عروس الكون  JEDDAH  ⁦⁦⁦   \n",
       "\n",
       "                            Timestamp  followers  label categorie  \n",
       "0      Sat Oct 10 19:41:00 +0000 2020          4      0   الرياضة  \n",
       "1      Thu Oct 08 20:10:28 +0000 2020        365      0   الرياضة  \n",
       "3      Tue Oct 13 01:38:17 +0000 2020        443      4  الاقتصاد  \n",
       "5      Fri Oct 09 22:20:56 +0000 2020        884      2   الديانة  \n",
       "6      Mon Oct 12 17:05:09 +0000 2020        908      0   الرياضة  \n",
       "...                               ...        ...    ...       ...  \n",
       "29553  Fri Oct 09 20:45:44 +0000 2020      20530      0   الرياضة  \n",
       "29554  Fri Oct 09 16:40:36 +0000 2020        477      4  الاقتصاد  \n",
       "29555  Fri Oct 09 21:35:06 +0000 2020        316      1  السياسة   \n",
       "29556  Mon Oct 12 16:48:16 +0000 2020         38      0   الرياضة  \n",
       "29557  Mon Oct 12 16:45:32 +0000 2020       3621      0   الرياضة  \n",
       "\n",
       "[14180 rows x 8 columns]"
      ]
     },
     "execution_count": 19,
     "metadata": {},
     "output_type": "execute_result"
    }
   ],
   "source": [
    "df['categorie'].replace({'sport':'الرياضة','politic':'السياسة ','religion':'الديانة','economy':'الاقتصاد'}, inplace=True)\n",
    "df"
   ]
  },
  {
   "cell_type": "code",
   "execution_count": 21,
   "metadata": {
    "colab": {
     "base_uri": "https://localhost:8080/",
     "height": 74,
     "resources": {
      "http://localhost:8080/nbextensions/google.colab/files.js": {
       "data": "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",
       "headers": [
        [
         "content-type",
         "application/javascript"
        ]
       ],
       "ok": true,
       "status": 200,
       "status_text": ""
      }
     }
    },
    "id": "FnJUVKWL2KMm",
    "outputId": "c22fb1fc-e4ac-4330-a108-6782286526b8"
   },
   "outputs": [
    {
     "name": "stdout",
     "output_type": "stream",
     "text": [
      "Requirement already satisfied: wordcloud in /Users/raneemalmutairi/opt/anaconda3/lib/python3.8/site-packages (1.8.1)\n",
      "Requirement already satisfied: pillow in /Users/raneemalmutairi/opt/anaconda3/lib/python3.8/site-packages (from wordcloud) (8.4.0)\n",
      "Requirement already satisfied: matplotlib in /Users/raneemalmutairi/opt/anaconda3/lib/python3.8/site-packages (from wordcloud) (3.4.3)\n",
      "Requirement already satisfied: numpy>=1.6.1 in /Users/raneemalmutairi/opt/anaconda3/lib/python3.8/site-packages (from wordcloud) (1.18.5)\n",
      "Requirement already satisfied: python-dateutil>=2.7 in /Users/raneemalmutairi/opt/anaconda3/lib/python3.8/site-packages (from matplotlib->wordcloud) (2.8.2)\n",
      "Requirement already satisfied: pyparsing>=2.2.1 in /Users/raneemalmutairi/opt/anaconda3/lib/python3.8/site-packages (from matplotlib->wordcloud) (3.0.4)\n",
      "Requirement already satisfied: kiwisolver>=1.0.1 in /Users/raneemalmutairi/opt/anaconda3/lib/python3.8/site-packages (from matplotlib->wordcloud) (1.3.1)\n",
      "Requirement already satisfied: cycler>=0.10 in /Users/raneemalmutairi/opt/anaconda3/lib/python3.8/site-packages (from matplotlib->wordcloud) (0.10.0)\n",
      "Requirement already satisfied: six in /Users/raneemalmutairi/opt/anaconda3/lib/python3.8/site-packages (from cycler>=0.10->matplotlib->wordcloud) (1.16.0)\n",
      "Requirement already satisfied: python-bidi in /Users/raneemalmutairi/opt/anaconda3/lib/python3.8/site-packages (0.4.2)\n",
      "Requirement already satisfied: six in /Users/raneemalmutairi/opt/anaconda3/lib/python3.8/site-packages (from python-bidi) (1.16.0)\n",
      "Requirement already satisfied: arabic-reshaper in /Users/raneemalmutairi/opt/anaconda3/lib/python3.8/site-packages (2.1.3)\n",
      "Requirement already satisfied: setuptools in /Users/raneemalmutairi/opt/anaconda3/lib/python3.8/site-packages (from arabic-reshaper) (58.0.4)\n",
      "Requirement already satisfied: future in /Users/raneemalmutairi/opt/anaconda3/lib/python3.8/site-packages (from arabic-reshaper) (0.18.2)\n"
     ]
    }
   ],
   "source": [
    "!pip install wordcloud\n",
    "!pip install python-bidi\n",
    "!pip install arabic-reshaper"
   ]
  },
  {
   "cell_type": "code",
   "execution_count": 22,
   "metadata": {
    "colab": {
     "base_uri": "https://localhost:8080/",
     "height": 232
    },
    "id": "N4j33Gn24-Yj",
    "outputId": "65022a45-0000-4d69-a5a2-d8c504b9fff2"
   },
   "outputs": [
    {
     "data": {
      "image/png": "[encoded data removed]",
      "text/plain": [
       "<Figure size 432x288 with 1 Axes>"
      ]
     },
     "metadata": {
      "needs_background": "light"
     },
     "output_type": "display_data"
    }
   ],
   "source": [
    "text=df['text']\n",
    "\n",
    "text = ' '.join([str(elem) for elem in text])\n",
    "from collections import Counter\n",
    "\n",
    "from wordcloud import WordCloud          # pip install wordcloud\n",
    "import matplotlib.pyplot as plt          \n",
    "# -- Arabic text dependencies\n",
    "from arabic_reshaper import reshape      # pip install arabic-reshaper\n",
    "from bidi.algorithm import get_display   # pip install python-bidi\n",
    "\n",
    "rtl = lambda w: get_display(reshape(f'{w}'))\n",
    "\n",
    "COUNTS = Counter(text.split())\n",
    "counts = {rtl(k):v for k, v in COUNTS.most_common(500)}\n",
    "\n",
    "wordcloud = WordCloud(random_state=0, max_words=100,width=500, height=300,  background_color=\"black\",font_path='NotoNaskhArabic-Regular.ttf').generate_from_frequencies(counts)\n",
    "plt.imshow(wordcloud, interpolation= None)\n",
    "plt.axis(\"off\")\n",
    "plt.show()"
   ]
  },
  {
   "cell_type": "markdown",
   "metadata": {
    "id": "tY3hKAfHtYRN"
   },
   "source": [
    "#Feature Engneering"
   ]
  },
  {
   "cell_type": "code",
   "execution_count": 23,
   "metadata": {
    "colab": {
     "base_uri": "https://localhost:8080/"
    },
    "id": "I9F0yv_GtXkd",
    "outputId": "6d9f4430-4556-484e-aca4-fb2eff90cb11"
   },
   "outputs": [
    {
     "data": {
      "text/plain": [
       "0         بشرى سارة لجماهير النادي الأهلي للتفاصيل الرياضة\n",
       "1         احب الأنميات الرياضية يكفي اني اتابعها علي ار...\n",
       "3        يسألون ليه مقاطعة البضائع التركية ليه الدولة  ...\n",
       "5            فئة شيوخ الدين الي الله يكثر  امثالهم الديانة\n",
       "6        مليون  الف  مجموع المبالغ اللي تم الاعلان  تبر...\n",
       "                               ...                        \n",
       "29553     نصراويا  تهمني قضايا النصر  تصل ان حساب قناته...\n",
       "29554    شركة الصفرات بالرياض نقل عفش بالرياض وبأقل الأ...\n",
       "29555    عندما يتحدث رئيس الغرف التجارية  واقع مسؤوليته...\n",
       "29556    رئيس النادي الاهلي وزارة الرياضة خلال عدة أشهر...\n",
       "29557    اعطي لادارة الاتحاد مليون  عامها الاول    ننسى...\n",
       "Name: combined_text, Length: 14180, dtype: object"
      ]
     },
     "execution_count": 23,
     "metadata": {},
     "output_type": "execute_result"
    }
   ],
   "source": [
    "df['combined_text'] = df['text']+\" \"+df['categorie']\n",
    "df.drop(['text','categorie'], axis=1, inplace = True)\n",
    "df.combined_text"
   ]
  },
  {
   "cell_type": "code",
   "execution_count": 24,
   "metadata": {
    "colab": {
     "base_uri": "https://localhost:8080/",
     "height": 423
    },
    "id": "1ZshyPXMuavm",
    "outputId": "c9255959-5a2b-46c4-e916-157d81a793ee"
   },
   "outputs": [
    {
     "data": {
      "text/html": [
       "<div>\n",
       "<style scoped>\n",
       "    .dataframe tbody tr th:only-of-type {\n",
       "        vertical-align: middle;\n",
       "    }\n",
       "\n",
       "    .dataframe tbody tr th {\n",
       "        vertical-align: top;\n",
       "    }\n",
       "\n",
       "    .dataframe thead th {\n",
       "        text-align: right;\n",
       "    }\n",
       "</style>\n",
       "<table border=\"1\" class=\"dataframe\">\n",
       "  <thead>\n",
       "    <tr style=\"text-align: right;\">\n",
       "      <th></th>\n",
       "      <th>Unnamed: 0.1</th>\n",
       "      <th>combined_text</th>\n",
       "    </tr>\n",
       "  </thead>\n",
       "  <tbody>\n",
       "    <tr>\n",
       "      <th>0</th>\n",
       "      <td>3276</td>\n",
       "      <td>بشرى سارة لجماهير النادي الأهلي للتفاصيل الرياضة</td>\n",
       "    </tr>\n",
       "    <tr>\n",
       "      <th>1</th>\n",
       "      <td>879</td>\n",
       "      <td>احب الأنميات الرياضية يكفي اني اتابعها علي ار...</td>\n",
       "    </tr>\n",
       "    <tr>\n",
       "      <th>3</th>\n",
       "      <td>6342</td>\n",
       "      <td>يسألون ليه مقاطعة البضائع التركية ليه الدولة  ...</td>\n",
       "    </tr>\n",
       "    <tr>\n",
       "      <th>5</th>\n",
       "      <td>1037</td>\n",
       "      <td>فئة شيوخ الدين الي الله يكثر  امثالهم الديانة</td>\n",
       "    </tr>\n",
       "    <tr>\n",
       "      <th>6</th>\n",
       "      <td>5910</td>\n",
       "      <td>مليون  الف  مجموع المبالغ اللي تم الاعلان  تبر...</td>\n",
       "    </tr>\n",
       "    <tr>\n",
       "      <th>...</th>\n",
       "      <td>...</td>\n",
       "      <td>...</td>\n",
       "    </tr>\n",
       "    <tr>\n",
       "      <th>29553</th>\n",
       "      <td>1380</td>\n",
       "      <td>نصراويا  تهمني قضايا النصر  تصل ان حساب قناته...</td>\n",
       "    </tr>\n",
       "    <tr>\n",
       "      <th>29554</th>\n",
       "      <td>1297</td>\n",
       "      <td>شركة الصفرات بالرياض نقل عفش بالرياض وبأقل الأ...</td>\n",
       "    </tr>\n",
       "    <tr>\n",
       "      <th>29555</th>\n",
       "      <td>1844</td>\n",
       "      <td>عندما يتحدث رئيس الغرف التجارية  واقع مسؤوليته...</td>\n",
       "    </tr>\n",
       "    <tr>\n",
       "      <th>29556</th>\n",
       "      <td>5389</td>\n",
       "      <td>رئيس النادي الاهلي وزارة الرياضة خلال عدة أشهر...</td>\n",
       "    </tr>\n",
       "    <tr>\n",
       "      <th>29557</th>\n",
       "      <td>5307</td>\n",
       "      <td>اعطي لادارة الاتحاد مليون  عامها الاول    ننسى...</td>\n",
       "    </tr>\n",
       "  </tbody>\n",
       "</table>\n",
       "<p>14180 rows × 2 columns</p>\n",
       "</div>"
      ],
      "text/plain": [
       "       Unnamed: 0.1                                      combined_text\n",
       "0              3276   بشرى سارة لجماهير النادي الأهلي للتفاصيل الرياضة\n",
       "1               879   احب الأنميات الرياضية يكفي اني اتابعها علي ار...\n",
       "3              6342  يسألون ليه مقاطعة البضائع التركية ليه الدولة  ...\n",
       "5              1037      فئة شيوخ الدين الي الله يكثر  امثالهم الديانة\n",
       "6              5910  مليون  الف  مجموع المبالغ اللي تم الاعلان  تبر...\n",
       "...             ...                                                ...\n",
       "29553          1380   نصراويا  تهمني قضايا النصر  تصل ان حساب قناته...\n",
       "29554          1297  شركة الصفرات بالرياض نقل عفش بالرياض وبأقل الأ...\n",
       "29555          1844  عندما يتحدث رئيس الغرف التجارية  واقع مسؤوليته...\n",
       "29556          5389  رئيس النادي الاهلي وزارة الرياضة خلال عدة أشهر...\n",
       "29557          5307  اعطي لادارة الاتحاد مليون  عامها الاول    ننسى...\n",
       "\n",
       "[14180 rows x 2 columns]"
      ]
     },
     "execution_count": 24,
     "metadata": {},
     "output_type": "execute_result"
    }
   ],
   "source": [
    "df.drop(['Username','location','Timestamp','followers','label'], axis=1, inplace = True)\n",
    "df"
   ]
  },
  {
   "cell_type": "code",
   "execution_count": 25,
   "metadata": {
    "colab": {
     "base_uri": "https://localhost:8080/",
     "height": 423
    },
    "id": "OLGIDMBvuv0h",
    "outputId": "4df6295d-0bd6-4f37-d59a-b78a0bb6e07b"
   },
   "outputs": [
    {
     "data": {
      "text/html": [
       "<div>\n",
       "<style scoped>\n",
       "    .dataframe tbody tr th:only-of-type {\n",
       "        vertical-align: middle;\n",
       "    }\n",
       "\n",
       "    .dataframe tbody tr th {\n",
       "        vertical-align: top;\n",
       "    }\n",
       "\n",
       "    .dataframe thead th {\n",
       "        text-align: right;\n",
       "    }\n",
       "</style>\n",
       "<table border=\"1\" class=\"dataframe\">\n",
       "  <thead>\n",
       "    <tr style=\"text-align: right;\">\n",
       "      <th></th>\n",
       "      <th>combined_text</th>\n",
       "    </tr>\n",
       "  </thead>\n",
       "  <tbody>\n",
       "    <tr>\n",
       "      <th>0</th>\n",
       "      <td>بشرى سارة لجماهير النادي الأهلي للتفاصيل الرياضة</td>\n",
       "    </tr>\n",
       "    <tr>\n",
       "      <th>1</th>\n",
       "      <td>احب الأنميات الرياضية يكفي اني اتابعها علي ار...</td>\n",
       "    </tr>\n",
       "    <tr>\n",
       "      <th>3</th>\n",
       "      <td>يسألون ليه مقاطعة البضائع التركية ليه الدولة  ...</td>\n",
       "    </tr>\n",
       "    <tr>\n",
       "      <th>5</th>\n",
       "      <td>فئة شيوخ الدين الي الله يكثر  امثالهم الديانة</td>\n",
       "    </tr>\n",
       "    <tr>\n",
       "      <th>6</th>\n",
       "      <td>مليون  الف  مجموع المبالغ اللي تم الاعلان  تبر...</td>\n",
       "    </tr>\n",
       "    <tr>\n",
       "      <th>...</th>\n",
       "      <td>...</td>\n",
       "    </tr>\n",
       "    <tr>\n",
       "      <th>29553</th>\n",
       "      <td>نصراويا  تهمني قضايا النصر  تصل ان حساب قناته...</td>\n",
       "    </tr>\n",
       "    <tr>\n",
       "      <th>29554</th>\n",
       "      <td>شركة الصفرات بالرياض نقل عفش بالرياض وبأقل الأ...</td>\n",
       "    </tr>\n",
       "    <tr>\n",
       "      <th>29555</th>\n",
       "      <td>عندما يتحدث رئيس الغرف التجارية  واقع مسؤوليته...</td>\n",
       "    </tr>\n",
       "    <tr>\n",
       "      <th>29556</th>\n",
       "      <td>رئيس النادي الاهلي وزارة الرياضة خلال عدة أشهر...</td>\n",
       "    </tr>\n",
       "    <tr>\n",
       "      <th>29557</th>\n",
       "      <td>اعطي لادارة الاتحاد مليون  عامها الاول    ننسى...</td>\n",
       "    </tr>\n",
       "  </tbody>\n",
       "</table>\n",
       "<p>14180 rows × 1 columns</p>\n",
       "</div>"
      ],
      "text/plain": [
       "                                           combined_text\n",
       "0       بشرى سارة لجماهير النادي الأهلي للتفاصيل الرياضة\n",
       "1       احب الأنميات الرياضية يكفي اني اتابعها علي ار...\n",
       "3      يسألون ليه مقاطعة البضائع التركية ليه الدولة  ...\n",
       "5          فئة شيوخ الدين الي الله يكثر  امثالهم الديانة\n",
       "6      مليون  الف  مجموع المبالغ اللي تم الاعلان  تبر...\n",
       "...                                                  ...\n",
       "29553   نصراويا  تهمني قضايا النصر  تصل ان حساب قناته...\n",
       "29554  شركة الصفرات بالرياض نقل عفش بالرياض وبأقل الأ...\n",
       "29555  عندما يتحدث رئيس الغرف التجارية  واقع مسؤوليته...\n",
       "29556  رئيس النادي الاهلي وزارة الرياضة خلال عدة أشهر...\n",
       "29557  اعطي لادارة الاتحاد مليون  عامها الاول    ننسى...\n",
       "\n",
       "[14180 rows x 1 columns]"
      ]
     },
     "execution_count": 25,
     "metadata": {},
     "output_type": "execute_result"
    }
   ],
   "source": [
    "df.drop(['Unnamed: 0.1'], axis=1, inplace = True)\n",
    "df"
   ]
  },
  {
   "cell_type": "markdown",
   "metadata": {
    "id": "cRG7Td_1vP68"
   },
   "source": [
    "##CountVectorization"
   ]
  },
  {
   "cell_type": "code",
   "execution_count": 26,
   "metadata": {
    "colab": {
     "base_uri": "https://localhost:8080/"
    },
    "id": "y2Y9ZIfBuhfk",
    "outputId": "dbff4d20-2e15-443a-a396-6f0cca1133cb"
   },
   "outputs": [
    {
     "data": {
      "text/plain": [
       "(14180, 33855)"
      ]
     },
     "execution_count": 26,
     "metadata": {},
     "output_type": "execute_result"
    }
   ],
   "source": [
    "vectorizer= CountVectorizer()\n",
    "CV = vectorizer.fit_transform(df['combined_text'])\n",
    "CV.shape"
   ]
  },
  {
   "cell_type": "code",
   "execution_count": 27,
   "metadata": {
    "colab": {
     "base_uri": "https://localhost:8080/",
     "height": 557
    },
    "id": "HMrDmNYcuheY",
    "outputId": "7a1ef661-ff1a-4db1-ac96-0e978f54f662"
   },
   "outputs": [
    {
     "data": {
      "text/html": [
       "<div>\n",
       "<style scoped>\n",
       "    .dataframe tbody tr th:only-of-type {\n",
       "        vertical-align: middle;\n",
       "    }\n",
       "\n",
       "    .dataframe tbody tr th {\n",
       "        vertical-align: top;\n",
       "    }\n",
       "\n",
       "    .dataframe thead th {\n",
       "        text-align: right;\n",
       "    }\n",
       "</style>\n",
       "<table border=\"1\" class=\"dataframe\">\n",
       "  <thead>\n",
       "    <tr style=\"text-align: right;\">\n",
       "      <th></th>\n",
       "      <th>ءامنوا</th>\n",
       "      <th>ءلك</th>\n",
       "      <th>آآآه</th>\n",
       "      <th>آباؤنا</th>\n",
       "      <th>آبطال</th>\n",
       "      <th>آتاه</th>\n",
       "      <th>آثار</th>\n",
       "      <th>آحادشرك</th>\n",
       "      <th>آخر</th>\n",
       "      <th>آخرة</th>\n",
       "      <th>...</th>\n",
       "      <th>يونايتد</th>\n",
       "      <th>يونس</th>\n",
       "      <th>يونغهوا</th>\n",
       "      <th>يونغي</th>\n",
       "      <th>يوهمه</th>\n",
       "      <th>ييبلغنا</th>\n",
       "      <th>ييزي</th>\n",
       "      <th>ييسر</th>\n",
       "      <th>ييسسس</th>\n",
       "      <th>يييييا</th>\n",
       "    </tr>\n",
       "  </thead>\n",
       "  <tbody>\n",
       "    <tr>\n",
       "      <th>0</th>\n",
       "      <td>0</td>\n",
       "      <td>0</td>\n",
       "      <td>0</td>\n",
       "      <td>0</td>\n",
       "      <td>0</td>\n",
       "      <td>0</td>\n",
       "      <td>0</td>\n",
       "      <td>0</td>\n",
       "      <td>0</td>\n",
       "      <td>0</td>\n",
       "      <td>...</td>\n",
       "      <td>0</td>\n",
       "      <td>0</td>\n",
       "      <td>0</td>\n",
       "      <td>0</td>\n",
       "      <td>0</td>\n",
       "      <td>0</td>\n",
       "      <td>0</td>\n",
       "      <td>0</td>\n",
       "      <td>0</td>\n",
       "      <td>0</td>\n",
       "    </tr>\n",
       "    <tr>\n",
       "      <th>1</th>\n",
       "      <td>0</td>\n",
       "      <td>0</td>\n",
       "      <td>0</td>\n",
       "      <td>0</td>\n",
       "      <td>0</td>\n",
       "      <td>0</td>\n",
       "      <td>0</td>\n",
       "      <td>0</td>\n",
       "      <td>0</td>\n",
       "      <td>0</td>\n",
       "      <td>...</td>\n",
       "      <td>0</td>\n",
       "      <td>0</td>\n",
       "      <td>0</td>\n",
       "      <td>0</td>\n",
       "      <td>0</td>\n",
       "      <td>0</td>\n",
       "      <td>0</td>\n",
       "      <td>0</td>\n",
       "      <td>0</td>\n",
       "      <td>0</td>\n",
       "    </tr>\n",
       "    <tr>\n",
       "      <th>2</th>\n",
       "      <td>0</td>\n",
       "      <td>0</td>\n",
       "      <td>0</td>\n",
       "      <td>0</td>\n",
       "      <td>0</td>\n",
       "      <td>0</td>\n",
       "      <td>0</td>\n",
       "      <td>0</td>\n",
       "      <td>0</td>\n",
       "      <td>0</td>\n",
       "      <td>...</td>\n",
       "      <td>0</td>\n",
       "      <td>0</td>\n",
       "      <td>0</td>\n",
       "      <td>0</td>\n",
       "      <td>0</td>\n",
       "      <td>0</td>\n",
       "      <td>0</td>\n",
       "      <td>0</td>\n",
       "      <td>0</td>\n",
       "      <td>0</td>\n",
       "    </tr>\n",
       "    <tr>\n",
       "      <th>3</th>\n",
       "      <td>0</td>\n",
       "      <td>0</td>\n",
       "      <td>0</td>\n",
       "      <td>0</td>\n",
       "      <td>0</td>\n",
       "      <td>0</td>\n",
       "      <td>0</td>\n",
       "      <td>0</td>\n",
       "      <td>0</td>\n",
       "      <td>0</td>\n",
       "      <td>...</td>\n",
       "      <td>0</td>\n",
       "      <td>0</td>\n",
       "      <td>0</td>\n",
       "      <td>0</td>\n",
       "      <td>0</td>\n",
       "      <td>0</td>\n",
       "      <td>0</td>\n",
       "      <td>0</td>\n",
       "      <td>0</td>\n",
       "      <td>0</td>\n",
       "    </tr>\n",
       "    <tr>\n",
       "      <th>4</th>\n",
       "      <td>0</td>\n",
       "      <td>0</td>\n",
       "      <td>0</td>\n",
       "      <td>0</td>\n",
       "      <td>0</td>\n",
       "      <td>0</td>\n",
       "      <td>0</td>\n",
       "      <td>0</td>\n",
       "      <td>0</td>\n",
       "      <td>0</td>\n",
       "      <td>...</td>\n",
       "      <td>0</td>\n",
       "      <td>0</td>\n",
       "      <td>0</td>\n",
       "      <td>0</td>\n",
       "      <td>0</td>\n",
       "      <td>0</td>\n",
       "      <td>0</td>\n",
       "      <td>0</td>\n",
       "      <td>0</td>\n",
       "      <td>0</td>\n",
       "    </tr>\n",
       "    <tr>\n",
       "      <th>...</th>\n",
       "      <td>...</td>\n",
       "      <td>...</td>\n",
       "      <td>...</td>\n",
       "      <td>...</td>\n",
       "      <td>...</td>\n",
       "      <td>...</td>\n",
       "      <td>...</td>\n",
       "      <td>...</td>\n",
       "      <td>...</td>\n",
       "      <td>...</td>\n",
       "      <td>...</td>\n",
       "      <td>...</td>\n",
       "      <td>...</td>\n",
       "      <td>...</td>\n",
       "      <td>...</td>\n",
       "      <td>...</td>\n",
       "      <td>...</td>\n",
       "      <td>...</td>\n",
       "      <td>...</td>\n",
       "      <td>...</td>\n",
       "      <td>...</td>\n",
       "    </tr>\n",
       "    <tr>\n",
       "      <th>14175</th>\n",
       "      <td>0</td>\n",
       "      <td>0</td>\n",
       "      <td>0</td>\n",
       "      <td>0</td>\n",
       "      <td>0</td>\n",
       "      <td>0</td>\n",
       "      <td>0</td>\n",
       "      <td>0</td>\n",
       "      <td>0</td>\n",
       "      <td>0</td>\n",
       "      <td>...</td>\n",
       "      <td>0</td>\n",
       "      <td>0</td>\n",
       "      <td>0</td>\n",
       "      <td>0</td>\n",
       "      <td>0</td>\n",
       "      <td>0</td>\n",
       "      <td>0</td>\n",
       "      <td>0</td>\n",
       "      <td>0</td>\n",
       "      <td>0</td>\n",
       "    </tr>\n",
       "    <tr>\n",
       "      <th>14176</th>\n",
       "      <td>0</td>\n",
       "      <td>0</td>\n",
       "      <td>0</td>\n",
       "      <td>0</td>\n",
       "      <td>0</td>\n",
       "      <td>0</td>\n",
       "      <td>0</td>\n",
       "      <td>0</td>\n",
       "      <td>0</td>\n",
       "      <td>0</td>\n",
       "      <td>...</td>\n",
       "      <td>0</td>\n",
       "      <td>0</td>\n",
       "      <td>0</td>\n",
       "      <td>0</td>\n",
       "      <td>0</td>\n",
       "      <td>0</td>\n",
       "      <td>0</td>\n",
       "      <td>0</td>\n",
       "      <td>0</td>\n",
       "      <td>0</td>\n",
       "    </tr>\n",
       "    <tr>\n",
       "      <th>14177</th>\n",
       "      <td>0</td>\n",
       "      <td>0</td>\n",
       "      <td>0</td>\n",
       "      <td>0</td>\n",
       "      <td>0</td>\n",
       "      <td>0</td>\n",
       "      <td>0</td>\n",
       "      <td>0</td>\n",
       "      <td>0</td>\n",
       "      <td>0</td>\n",
       "      <td>...</td>\n",
       "      <td>0</td>\n",
       "      <td>0</td>\n",
       "      <td>0</td>\n",
       "      <td>0</td>\n",
       "      <td>0</td>\n",
       "      <td>0</td>\n",
       "      <td>0</td>\n",
       "      <td>0</td>\n",
       "      <td>0</td>\n",
       "      <td>0</td>\n",
       "    </tr>\n",
       "    <tr>\n",
       "      <th>14178</th>\n",
       "      <td>0</td>\n",
       "      <td>0</td>\n",
       "      <td>0</td>\n",
       "      <td>0</td>\n",
       "      <td>0</td>\n",
       "      <td>0</td>\n",
       "      <td>0</td>\n",
       "      <td>0</td>\n",
       "      <td>0</td>\n",
       "      <td>0</td>\n",
       "      <td>...</td>\n",
       "      <td>0</td>\n",
       "      <td>0</td>\n",
       "      <td>0</td>\n",
       "      <td>0</td>\n",
       "      <td>0</td>\n",
       "      <td>0</td>\n",
       "      <td>0</td>\n",
       "      <td>0</td>\n",
       "      <td>0</td>\n",
       "      <td>0</td>\n",
       "    </tr>\n",
       "    <tr>\n",
       "      <th>14179</th>\n",
       "      <td>0</td>\n",
       "      <td>0</td>\n",
       "      <td>0</td>\n",
       "      <td>0</td>\n",
       "      <td>0</td>\n",
       "      <td>0</td>\n",
       "      <td>0</td>\n",
       "      <td>0</td>\n",
       "      <td>0</td>\n",
       "      <td>0</td>\n",
       "      <td>...</td>\n",
       "      <td>0</td>\n",
       "      <td>0</td>\n",
       "      <td>0</td>\n",
       "      <td>0</td>\n",
       "      <td>0</td>\n",
       "      <td>0</td>\n",
       "      <td>0</td>\n",
       "      <td>0</td>\n",
       "      <td>0</td>\n",
       "      <td>0</td>\n",
       "    </tr>\n",
       "  </tbody>\n",
       "</table>\n",
       "<p>14180 rows × 33855 columns</p>\n",
       "</div>"
      ],
      "text/plain": [
       "       ءامنوا  ءلك  آآآه  آباؤنا  آبطال  آتاه  آثار  آحادشرك  آخر  آخرة  ...  \\\n",
       "0           0    0     0       0      0     0     0        0    0     0  ...   \n",
       "1           0    0     0       0      0     0     0        0    0     0  ...   \n",
       "2           0    0     0       0      0     0     0        0    0     0  ...   \n",
       "3           0    0     0       0      0     0     0        0    0     0  ...   \n",
       "4           0    0     0       0      0     0     0        0    0     0  ...   \n",
       "...       ...  ...   ...     ...    ...   ...   ...      ...  ...   ...  ...   \n",
       "14175       0    0     0       0      0     0     0        0    0     0  ...   \n",
       "14176       0    0     0       0      0     0     0        0    0     0  ...   \n",
       "14177       0    0     0       0      0     0     0        0    0     0  ...   \n",
       "14178       0    0     0       0      0     0     0        0    0     0  ...   \n",
       "14179       0    0     0       0      0     0     0        0    0     0  ...   \n",
       "\n",
       "       يونايتد  يونس  يونغهوا  يونغي  يوهمه  ييبلغنا  ييزي  ييسر  ييسسس  \\\n",
       "0            0     0        0      0      0        0     0     0      0   \n",
       "1            0     0        0      0      0        0     0     0      0   \n",
       "2            0     0        0      0      0        0     0     0      0   \n",
       "3            0     0        0      0      0        0     0     0      0   \n",
       "4            0     0        0      0      0        0     0     0      0   \n",
       "...        ...   ...      ...    ...    ...      ...   ...   ...    ...   \n",
       "14175        0     0        0      0      0        0     0     0      0   \n",
       "14176        0     0        0      0      0        0     0     0      0   \n",
       "14177        0     0        0      0      0        0     0     0      0   \n",
       "14178        0     0        0      0      0        0     0     0      0   \n",
       "14179        0     0        0      0      0        0     0     0      0   \n",
       "\n",
       "       يييييا  \n",
       "0           0  \n",
       "1           0  \n",
       "2           0  \n",
       "3           0  \n",
       "4           0  \n",
       "...       ...  \n",
       "14175       0  \n",
       "14176       0  \n",
       "14177       0  \n",
       "14178       0  \n",
       "14179       0  \n",
       "\n",
       "[14180 rows x 33855 columns]"
      ]
     },
     "execution_count": 27,
     "metadata": {},
     "output_type": "execute_result"
    }
   ],
   "source": [
    "data_cv = pd.DataFrame(CV.toarray(),columns = vectorizer.get_feature_names())\n",
    "data_cv"
   ]
  },
  {
   "cell_type": "markdown",
   "metadata": {
    "id": "kCqFr1yivrcY"
   },
   "source": [
    "## CountVectorization Using (1, 2) Grams"
   ]
  },
  {
   "cell_type": "code",
   "execution_count": 28,
   "metadata": {
    "colab": {
     "base_uri": "https://localhost:8080/"
    },
    "id": "XYWFu5BWviT-",
    "outputId": "4ddb1911-e63f-4ec7-9e7f-7a98d1f8e3c9"
   },
   "outputs": [
    {
     "data": {
      "text/plain": [
       "(14180, 102374)"
      ]
     },
     "execution_count": 28,
     "metadata": {},
     "output_type": "execute_result"
    }
   ],
   "source": [
    "# the numbers are not removed here\n",
    "CV_grams = CountVectorizer(stop_words= stop_ls, ngram_range = (1,2))\n",
    "CV_grams_ = CV_grams.fit_transform(df['combined_text'])\n",
    "CV_grams_.shape"
   ]
  },
  {
   "cell_type": "code",
   "execution_count": 29,
   "metadata": {
    "id": "xUzJxEUdviRD"
   },
   "outputs": [],
   "source": [
    "# data_grams = pd.DataFrame(CV_grams_.toarray(),columns = CV_grams.get_feature_names(),min_df = 3, max_df=0.90)\n",
    "# data_grams"
   ]
  },
  {
   "cell_type": "code",
   "execution_count": 30,
   "metadata": {
    "colab": {
     "base_uri": "https://localhost:8080/"
    },
    "id": "lqWYo62aviNs",
    "outputId": "27f450c1-5d7f-4ffb-8c68-eb7b126d74d1"
   },
   "outputs": [
    {
     "name": "stdout",
     "output_type": "stream",
     "text": [
      "zsh:1: command not found: free\r\n"
     ]
    }
   ],
   "source": [
    "!free -mh"
   ]
  },
  {
   "cell_type": "markdown",
   "metadata": {
    "id": "SUByehivFaAh"
   },
   "source": [
    "#TfidfVectorizer Using (1, 2) Grams"
   ]
  },
  {
   "cell_type": "code",
   "execution_count": 31,
   "metadata": {
    "colab": {
     "base_uri": "https://localhost:8080/"
    },
    "id": "QB_YPMiYviKR",
    "outputId": "a795eee6-f8f5-4282-fdca-31ffa8f683bb"
   },
   "outputs": [
    {
     "data": {
      "text/plain": [
       "(14180, 102374)"
      ]
     },
     "execution_count": 31,
     "metadata": {},
     "output_type": "execute_result"
    }
   ],
   "source": [
    "CV_TF_IDF = TfidfVectorizer(stop_words= stop_ls,ngram_range = (1,2))\n",
    "CV_TF_IDF_ = CV_TF_IDF.fit_transform(df['combined_text'])\n",
    "CV_TF_IDF_.shape"
   ]
  },
  {
   "cell_type": "code",
   "execution_count": 32,
   "metadata": {
    "id": "DDxNdfYLviIr"
   },
   "outputs": [
    {
     "data": {
      "text/html": [
       "<div>\n",
       "<style scoped>\n",
       "    .dataframe tbody tr th:only-of-type {\n",
       "        vertical-align: middle;\n",
       "    }\n",
       "\n",
       "    .dataframe tbody tr th {\n",
       "        vertical-align: top;\n",
       "    }\n",
       "\n",
       "    .dataframe thead th {\n",
       "        text-align: right;\n",
       "    }\n",
       "</style>\n",
       "<table border=\"1\" class=\"dataframe\">\n",
       "  <thead>\n",
       "    <tr style=\"text-align: right;\">\n",
       "      <th></th>\n",
       "      <th>ءامنوا</th>\n",
       "      <th>ءامنوا ورسوله</th>\n",
       "      <th>ءلك</th>\n",
       "      <th>ءلك تعاني</th>\n",
       "      <th>آآآه</th>\n",
       "      <th>آآآه قرارات</th>\n",
       "      <th>آباؤنا</th>\n",
       "      <th>آباؤنا وأمهاتنا</th>\n",
       "      <th>آبطال</th>\n",
       "      <th>آبطال أسيا</th>\n",
       "      <th>...</th>\n",
       "      <th>ييبلغنا الاقتصاد</th>\n",
       "      <th>ييبلغنا الكم</th>\n",
       "      <th>ييزي</th>\n",
       "      <th>ييزي كوانتم</th>\n",
       "      <th>ييسر</th>\n",
       "      <th>ييسر فينظر</th>\n",
       "      <th>ييسسس</th>\n",
       "      <th>ييسسس اسبوعين</th>\n",
       "      <th>يييييا</th>\n",
       "      <th>يييييا ضربه</th>\n",
       "    </tr>\n",
       "  </thead>\n",
       "  <tbody>\n",
       "    <tr>\n",
       "      <th>0</th>\n",
       "      <td>0.0</td>\n",
       "      <td>0.0</td>\n",
       "      <td>0.0</td>\n",
       "      <td>0.0</td>\n",
       "      <td>0.0</td>\n",
       "      <td>0.0</td>\n",
       "      <td>0.0</td>\n",
       "      <td>0.0</td>\n",
       "      <td>0.0</td>\n",
       "      <td>0.0</td>\n",
       "      <td>...</td>\n",
       "      <td>0.0</td>\n",
       "      <td>0.0</td>\n",
       "      <td>0.0</td>\n",
       "      <td>0.0</td>\n",
       "      <td>0.0</td>\n",
       "      <td>0.0</td>\n",
       "      <td>0.0</td>\n",
       "      <td>0.0</td>\n",
       "      <td>0.0</td>\n",
       "      <td>0.0</td>\n",
       "    </tr>\n",
       "    <tr>\n",
       "      <th>1</th>\n",
       "      <td>0.0</td>\n",
       "      <td>0.0</td>\n",
       "      <td>0.0</td>\n",
       "      <td>0.0</td>\n",
       "      <td>0.0</td>\n",
       "      <td>0.0</td>\n",
       "      <td>0.0</td>\n",
       "      <td>0.0</td>\n",
       "      <td>0.0</td>\n",
       "      <td>0.0</td>\n",
       "      <td>...</td>\n",
       "      <td>0.0</td>\n",
       "      <td>0.0</td>\n",
       "      <td>0.0</td>\n",
       "      <td>0.0</td>\n",
       "      <td>0.0</td>\n",
       "      <td>0.0</td>\n",
       "      <td>0.0</td>\n",
       "      <td>0.0</td>\n",
       "      <td>0.0</td>\n",
       "      <td>0.0</td>\n",
       "    </tr>\n",
       "    <tr>\n",
       "      <th>2</th>\n",
       "      <td>0.0</td>\n",
       "      <td>0.0</td>\n",
       "      <td>0.0</td>\n",
       "      <td>0.0</td>\n",
       "      <td>0.0</td>\n",
       "      <td>0.0</td>\n",
       "      <td>0.0</td>\n",
       "      <td>0.0</td>\n",
       "      <td>0.0</td>\n",
       "      <td>0.0</td>\n",
       "      <td>...</td>\n",
       "      <td>0.0</td>\n",
       "      <td>0.0</td>\n",
       "      <td>0.0</td>\n",
       "      <td>0.0</td>\n",
       "      <td>0.0</td>\n",
       "      <td>0.0</td>\n",
       "      <td>0.0</td>\n",
       "      <td>0.0</td>\n",
       "      <td>0.0</td>\n",
       "      <td>0.0</td>\n",
       "    </tr>\n",
       "    <tr>\n",
       "      <th>3</th>\n",
       "      <td>0.0</td>\n",
       "      <td>0.0</td>\n",
       "      <td>0.0</td>\n",
       "      <td>0.0</td>\n",
       "      <td>0.0</td>\n",
       "      <td>0.0</td>\n",
       "      <td>0.0</td>\n",
       "      <td>0.0</td>\n",
       "      <td>0.0</td>\n",
       "      <td>0.0</td>\n",
       "      <td>...</td>\n",
       "      <td>0.0</td>\n",
       "      <td>0.0</td>\n",
       "      <td>0.0</td>\n",
       "      <td>0.0</td>\n",
       "      <td>0.0</td>\n",
       "      <td>0.0</td>\n",
       "      <td>0.0</td>\n",
       "      <td>0.0</td>\n",
       "      <td>0.0</td>\n",
       "      <td>0.0</td>\n",
       "    </tr>\n",
       "    <tr>\n",
       "      <th>4</th>\n",
       "      <td>0.0</td>\n",
       "      <td>0.0</td>\n",
       "      <td>0.0</td>\n",
       "      <td>0.0</td>\n",
       "      <td>0.0</td>\n",
       "      <td>0.0</td>\n",
       "      <td>0.0</td>\n",
       "      <td>0.0</td>\n",
       "      <td>0.0</td>\n",
       "      <td>0.0</td>\n",
       "      <td>...</td>\n",
       "      <td>0.0</td>\n",
       "      <td>0.0</td>\n",
       "      <td>0.0</td>\n",
       "      <td>0.0</td>\n",
       "      <td>0.0</td>\n",
       "      <td>0.0</td>\n",
       "      <td>0.0</td>\n",
       "      <td>0.0</td>\n",
       "      <td>0.0</td>\n",
       "      <td>0.0</td>\n",
       "    </tr>\n",
       "    <tr>\n",
       "      <th>...</th>\n",
       "      <td>...</td>\n",
       "      <td>...</td>\n",
       "      <td>...</td>\n",
       "      <td>...</td>\n",
       "      <td>...</td>\n",
       "      <td>...</td>\n",
       "      <td>...</td>\n",
       "      <td>...</td>\n",
       "      <td>...</td>\n",
       "      <td>...</td>\n",
       "      <td>...</td>\n",
       "      <td>...</td>\n",
       "      <td>...</td>\n",
       "      <td>...</td>\n",
       "      <td>...</td>\n",
       "      <td>...</td>\n",
       "      <td>...</td>\n",
       "      <td>...</td>\n",
       "      <td>...</td>\n",
       "      <td>...</td>\n",
       "      <td>...</td>\n",
       "    </tr>\n",
       "    <tr>\n",
       "      <th>14175</th>\n",
       "      <td>0.0</td>\n",
       "      <td>0.0</td>\n",
       "      <td>0.0</td>\n",
       "      <td>0.0</td>\n",
       "      <td>0.0</td>\n",
       "      <td>0.0</td>\n",
       "      <td>0.0</td>\n",
       "      <td>0.0</td>\n",
       "      <td>0.0</td>\n",
       "      <td>0.0</td>\n",
       "      <td>...</td>\n",
       "      <td>0.0</td>\n",
       "      <td>0.0</td>\n",
       "      <td>0.0</td>\n",
       "      <td>0.0</td>\n",
       "      <td>0.0</td>\n",
       "      <td>0.0</td>\n",
       "      <td>0.0</td>\n",
       "      <td>0.0</td>\n",
       "      <td>0.0</td>\n",
       "      <td>0.0</td>\n",
       "    </tr>\n",
       "    <tr>\n",
       "      <th>14176</th>\n",
       "      <td>0.0</td>\n",
       "      <td>0.0</td>\n",
       "      <td>0.0</td>\n",
       "      <td>0.0</td>\n",
       "      <td>0.0</td>\n",
       "      <td>0.0</td>\n",
       "      <td>0.0</td>\n",
       "      <td>0.0</td>\n",
       "      <td>0.0</td>\n",
       "      <td>0.0</td>\n",
       "      <td>...</td>\n",
       "      <td>0.0</td>\n",
       "      <td>0.0</td>\n",
       "      <td>0.0</td>\n",
       "      <td>0.0</td>\n",
       "      <td>0.0</td>\n",
       "      <td>0.0</td>\n",
       "      <td>0.0</td>\n",
       "      <td>0.0</td>\n",
       "      <td>0.0</td>\n",
       "      <td>0.0</td>\n",
       "    </tr>\n",
       "    <tr>\n",
       "      <th>14177</th>\n",
       "      <td>0.0</td>\n",
       "      <td>0.0</td>\n",
       "      <td>0.0</td>\n",
       "      <td>0.0</td>\n",
       "      <td>0.0</td>\n",
       "      <td>0.0</td>\n",
       "      <td>0.0</td>\n",
       "      <td>0.0</td>\n",
       "      <td>0.0</td>\n",
       "      <td>0.0</td>\n",
       "      <td>...</td>\n",
       "      <td>0.0</td>\n",
       "      <td>0.0</td>\n",
       "      <td>0.0</td>\n",
       "      <td>0.0</td>\n",
       "      <td>0.0</td>\n",
       "      <td>0.0</td>\n",
       "      <td>0.0</td>\n",
       "      <td>0.0</td>\n",
       "      <td>0.0</td>\n",
       "      <td>0.0</td>\n",
       "    </tr>\n",
       "    <tr>\n",
       "      <th>14178</th>\n",
       "      <td>0.0</td>\n",
       "      <td>0.0</td>\n",
       "      <td>0.0</td>\n",
       "      <td>0.0</td>\n",
       "      <td>0.0</td>\n",
       "      <td>0.0</td>\n",
       "      <td>0.0</td>\n",
       "      <td>0.0</td>\n",
       "      <td>0.0</td>\n",
       "      <td>0.0</td>\n",
       "      <td>...</td>\n",
       "      <td>0.0</td>\n",
       "      <td>0.0</td>\n",
       "      <td>0.0</td>\n",
       "      <td>0.0</td>\n",
       "      <td>0.0</td>\n",
       "      <td>0.0</td>\n",
       "      <td>0.0</td>\n",
       "      <td>0.0</td>\n",
       "      <td>0.0</td>\n",
       "      <td>0.0</td>\n",
       "    </tr>\n",
       "    <tr>\n",
       "      <th>14179</th>\n",
       "      <td>0.0</td>\n",
       "      <td>0.0</td>\n",
       "      <td>0.0</td>\n",
       "      <td>0.0</td>\n",
       "      <td>0.0</td>\n",
       "      <td>0.0</td>\n",
       "      <td>0.0</td>\n",
       "      <td>0.0</td>\n",
       "      <td>0.0</td>\n",
       "      <td>0.0</td>\n",
       "      <td>...</td>\n",
       "      <td>0.0</td>\n",
       "      <td>0.0</td>\n",
       "      <td>0.0</td>\n",
       "      <td>0.0</td>\n",
       "      <td>0.0</td>\n",
       "      <td>0.0</td>\n",
       "      <td>0.0</td>\n",
       "      <td>0.0</td>\n",
       "      <td>0.0</td>\n",
       "      <td>0.0</td>\n",
       "    </tr>\n",
       "  </tbody>\n",
       "</table>\n",
       "<p>14180 rows × 102374 columns</p>\n",
       "</div>"
      ],
      "text/plain": [
       "       ءامنوا  ءامنوا ورسوله  ءلك  ءلك تعاني  آآآه  آآآه قرارات  آباؤنا  \\\n",
       "0         0.0            0.0  0.0        0.0   0.0          0.0     0.0   \n",
       "1         0.0            0.0  0.0        0.0   0.0          0.0     0.0   \n",
       "2         0.0            0.0  0.0        0.0   0.0          0.0     0.0   \n",
       "3         0.0            0.0  0.0        0.0   0.0          0.0     0.0   \n",
       "4         0.0            0.0  0.0        0.0   0.0          0.0     0.0   \n",
       "...       ...            ...  ...        ...   ...          ...     ...   \n",
       "14175     0.0            0.0  0.0        0.0   0.0          0.0     0.0   \n",
       "14176     0.0            0.0  0.0        0.0   0.0          0.0     0.0   \n",
       "14177     0.0            0.0  0.0        0.0   0.0          0.0     0.0   \n",
       "14178     0.0            0.0  0.0        0.0   0.0          0.0     0.0   \n",
       "14179     0.0            0.0  0.0        0.0   0.0          0.0     0.0   \n",
       "\n",
       "       آباؤنا وأمهاتنا  آبطال  آبطال أسيا  ...  ييبلغنا الاقتصاد  \\\n",
       "0                  0.0    0.0         0.0  ...               0.0   \n",
       "1                  0.0    0.0         0.0  ...               0.0   \n",
       "2                  0.0    0.0         0.0  ...               0.0   \n",
       "3                  0.0    0.0         0.0  ...               0.0   \n",
       "4                  0.0    0.0         0.0  ...               0.0   \n",
       "...                ...    ...         ...  ...               ...   \n",
       "14175              0.0    0.0         0.0  ...               0.0   \n",
       "14176              0.0    0.0         0.0  ...               0.0   \n",
       "14177              0.0    0.0         0.0  ...               0.0   \n",
       "14178              0.0    0.0         0.0  ...               0.0   \n",
       "14179              0.0    0.0         0.0  ...               0.0   \n",
       "\n",
       "       ييبلغنا الكم  ييزي  ييزي كوانتم  ييسر  ييسر فينظر  ييسسس  \\\n",
       "0               0.0   0.0          0.0   0.0         0.0    0.0   \n",
       "1               0.0   0.0          0.0   0.0         0.0    0.0   \n",
       "2               0.0   0.0          0.0   0.0         0.0    0.0   \n",
       "3               0.0   0.0          0.0   0.0         0.0    0.0   \n",
       "4               0.0   0.0          0.0   0.0         0.0    0.0   \n",
       "...             ...   ...          ...   ...         ...    ...   \n",
       "14175           0.0   0.0          0.0   0.0         0.0    0.0   \n",
       "14176           0.0   0.0          0.0   0.0         0.0    0.0   \n",
       "14177           0.0   0.0          0.0   0.0         0.0    0.0   \n",
       "14178           0.0   0.0          0.0   0.0         0.0    0.0   \n",
       "14179           0.0   0.0          0.0   0.0         0.0    0.0   \n",
       "\n",
       "       ييسسس اسبوعين  يييييا  يييييا ضربه  \n",
       "0                0.0     0.0          0.0  \n",
       "1                0.0     0.0          0.0  \n",
       "2                0.0     0.0          0.0  \n",
       "3                0.0     0.0          0.0  \n",
       "4                0.0     0.0          0.0  \n",
       "...              ...     ...          ...  \n",
       "14175            0.0     0.0          0.0  \n",
       "14176            0.0     0.0          0.0  \n",
       "14177            0.0     0.0          0.0  \n",
       "14178            0.0     0.0          0.0  \n",
       "14179            0.0     0.0          0.0  \n",
       "\n",
       "[14180 rows x 102374 columns]"
      ]
     },
     "execution_count": 32,
     "metadata": {},
     "output_type": "execute_result"
    }
   ],
   "source": [
    "df_tf = pd.DataFrame(CV_TF_IDF_.toarray(),columns = CV_TF_IDF.get_feature_names())\n",
    "df_tf"
   ]
  },
  {
   "cell_type": "markdown",
   "metadata": {
    "id": "3HEv-7diFwpw"
   },
   "source": [
    "#Topic modeling"
   ]
  },
  {
   "cell_type": "code",
   "execution_count": 33,
   "metadata": {
    "id": "Rbuj4wYAviBd"
   },
   "outputs": [],
   "source": [
    "def display_topic(model, feature_names, no_top_words, dialict=None):\n",
    "    for ix, classfy in enumerate(model.components_):\n",
    "        if not dialict or not dialict[ix]:\n",
    "            print(\"\\nTopic \", ix)\n",
    "        else:\n",
    "            print(\"\\nTopic: '\",dialict[ix],\"'\")\n",
    "        print(\", \".join([feature_names[i]\n",
    "                        for i in classfy.argsort()[:-no_top_words - 1:-1]]))"
   ]
  },
  {
   "cell_type": "markdown",
   "metadata": {
    "id": "sd6SV6vkVD4w"
   },
   "source": [
    "#LSA"
   ]
  },
  {
   "cell_type": "code",
   "execution_count": 34,
   "metadata": {
    "colab": {
     "base_uri": "https://localhost:8080/"
    },
    "id": "rYAC10XzUbCw",
    "outputId": "9a1dae31-54c1-480e-810b-1d7b2448afe6"
   },
   "outputs": [
    {
     "data": {
      "text/plain": [
       "array([0.02472779, 0.0261104 , 0.0184583 , 0.0171417 ])"
      ]
     },
     "execution_count": 34,
     "metadata": {},
     "output_type": "execute_result"
    }
   ],
   "source": [
    "lsa_ = TruncatedSVD(4)\n",
    "tw_classfy = lsa_.fit_transform(CV)\n",
    "# the percentage of variance that is attributed by each of the selected components/topics\n",
    "lsa_.explained_variance_ratio_"
   ]
  },
  {
   "cell_type": "code",
   "execution_count": 35,
   "metadata": {
    "colab": {
     "base_uri": "https://localhost:8080/"
    },
    "id": "eg2M-iLkVTq1",
    "outputId": "07c1e983-5645-4e13-ef99-409e8eb1118d"
   },
   "outputs": [
    {
     "name": "stdout",
     "output_type": "stream",
     "text": [
      "\n",
      "Topic  0\n",
      "الرياضة, القدم, كرة, وزارة, الاقتصاد, الفيفا, ان, الزمالك, السياسة, العمل, الأندية, مليون, النصر, النادي, حساب, وزير, شكرا, الاتحاد, علي, الله, رئيس, الي, نادي, رياضة, الاهلي, يكون, البيت, وفقا, حسين, خلال\n",
      "\n",
      "Topic  1\n",
      "الاقتصاد, التجارة, الدولة, التركية, بالرياض, مقاطعة, ليه, نقل, شراء, تركية, اليوم, عفش, خطاب, اثاث, شركات, البضائع, السياسة, قرار, الدولية, الأسعار, اكبر, للسعودية, الإجابة, رسمي, موقعة, معاهدة, خلاص, يسألون, ارسلت, تطالبها\n",
      "\n",
      "Topic  2\n",
      "السياسة, الحكومة, القانون, الديانة, ان, هاشم, السياسية, ال, الله, تطبيق, النفطي, لكل, اليوم, الدين, سعودي, الوطني, مواطن, عاجل, بمناسبة, تصرف, المساعدة, كنوع, رئيس, الشعب, أنواع, قانون, بالمملكة, الى, السعودية, الحريري\n",
      "\n",
      "Topic  3\n",
      "الديانة, الله, الصلاة, الدين, اللهم, القرآن, قال, إني, وسلم, الرجال, والحزن, الهم, محمد, أعوذ, والبخل, والكسل, وقهر, والجبن, والعجز, الجمعة, صل, النبي, وغلبة, الكريم, علي, يوم, والسلام, ليرتاح, الاسلام, بن\n"
     ]
    }
   ],
   "source": [
    "display_topic(lsa_, vectorizer.get_feature_names(),30)"
   ]
  },
  {
   "cell_type": "markdown",
   "metadata": {
    "id": "WQ5g3SmYV9Un"
   },
   "source": [
    "LSA and TfidfVectorizer"
   ]
  },
  {
   "cell_type": "code",
   "execution_count": 36,
   "metadata": {
    "colab": {
     "base_uri": "https://localhost:8080/"
    },
    "id": "aIjhdxXZVTpO",
    "outputId": "d9f84c0c-ac9e-4ae0-9f2c-9d60801f5548"
   },
   "outputs": [
    {
     "data": {
      "text/plain": [
       "TruncatedSVD(n_components=4)"
      ]
     },
     "execution_count": 36,
     "metadata": {},
     "output_type": "execute_result"
    }
   ],
   "source": [
    "lsa = TruncatedSVD(n_components=4, random_state=None)\n",
    "lsa.fit(CV_TF_IDF_)"
   ]
  },
  {
   "cell_type": "code",
   "execution_count": 37,
   "metadata": {
    "colab": {
     "base_uri": "https://localhost:8080/"
    },
    "id": "DqYx44XAVTjo",
    "outputId": "7d6e8f2a-2ced-4a1e-e62a-3d426046e03b"
   },
   "outputs": [
    {
     "name": "stdout",
     "output_type": "stream",
     "text": [
      "\n",
      "Topic  0\n",
      "مقاطعة, التركية, الدولة, التجارة, الاقتصاد, للسعودية تطالبها, تطالبها, تركية ارسلت, خطاب للسعودية, ارسلت خطاب, ارسلت, تطالبها بالعمل, شركات تركية, بالعمل, للسعودية, شعبية واسعة, التجارة انباء, انباء مقاطعة, تعزيز التجارة, مقاطعة شعبية, بالعمل تعزيز, واسعة للبضائع, للبضائع, للبضائع التركية, شعبية, تركية, شركات, واسعة, انباء, التركية الاقتصاد, تعزيز, خطاب, البضائع التركية, الإجابة الدولة, مقاطعة البضائع, يسألون مقاطعة, التركية الدولة, الدولة تصدر, الدولة موقعة, الدولية الاقتصاد, رسمي الإجابة, معاهدة التجارة, موقعة معاهدة, التجارة الدولية, قرار رسمي, يسألون, معاهدة, الإجابة, موقعة, تصدر قرار\n",
      "\n",
      "Topic  1\n",
      "الدولة, الدولية الاقتصاد, يسألون مقاطعة, رسمي الإجابة, التركية الدولة, الدولة موقعة, مقاطعة البضائع, الدولة تصدر, الإجابة الدولة, البضائع التركية, التجارة الدولية, موقعة معاهدة, معاهدة التجارة, قرار رسمي, يسألون, معاهدة, الإجابة, موقعة, تصدر قرار, رسمي, البضائع, الدولية, تصدر, قرار, مقاطعة, التجارة, التركية, الاقتصاد, اسقاط, سيساهم, الاحفاد اسقاط, البائدة سيساهم, التركي المترنح, اختلفت الادو, البائدة, اسقاط الاقتصاد, اسقاط الدولة, مثلما ساهم, الدولة العثمانية, الاحفاد, سيساهم الاحفاد, رحمهم اسقاط, اجدادنا رحمهم, ساهم اجدادنا, العثمانية البائدة, المترنح اختلفت, الادو الاقتصاد, المترنح, الادو, اختلفت\n",
      "\n",
      "Topic  2\n",
      "القدم الرياضة, كرة القدم, كرة, القدم, الرياضة, أتحدي وضع, الزمالك المجهود, المبذول, المبذول أتحدي, الممتاز كرة, أتحدي, والتقدير للاعبي, جدول الدوري, للاعبي الزمالك, التحية والتقدير, الكبير المبذول, المجهود, المجهود الكبير, للاعبي, وضع جدول, الدوري الممتاز, الممتاز, جدول, التحية, والتقدير, الكبير, الدوري, وضع, الزمالك, وزارة الرياضة, وزارة, حسين, العمل, عبدالغني, حسين عبدالغني, رياضة, يتابع, يمارس, يشترك, ويستفيد, الرياضة ويقدر, متخصص رياضة, يشترك الجيم, مايسمح, ويقدر يتابع, مايسمح يشترك, وقته مايسمح, ويقدر, ويستفيد متخصص, هالحساب\n",
      "\n",
      "Topic  3\n",
      "الهم والحزن, وقهر, أعوذ الهم, والحزن والعجز, والجبن والبخل, والجبن, والعجز, والعجز والكسل, والبخل, والكسل والجبن, والكسل, إني أعوذ, أعوذ, الهم, والحزن, وقهر الديانة, إني, وغلبة وقهر, والبخل وغلبة, وغلبة, الديانة, الصلاة, والسلام الديانة, الصلاة والسلام, والسلام, وأعوذ, القرآن, والبخل وأعوذ, غلبة وقهر, غلبة, ليرتاح, وأعوذ غلبة, الصلاة حبا, حبا, حبا وليس, فرضا, وليس فرضا, ثبتنا, فرضا الديانة, ثبتنا الصلاة, الكريم, القرآن الكريم, وليس, ثلث, ثلث القرآن, الكريم رتويت, تشفع, لعلها, رتويت لعلها, تشفع الديانة\n"
     ]
    }
   ],
   "source": [
    "display_topic(model=lsa, feature_names=CV_TF_IDF.get_feature_names(), no_top_words=50)"
   ]
  },
  {
   "cell_type": "markdown",
   "metadata": {
    "id": "CwrE5PBUXFKd"
   },
   "source": [
    "#NMF"
   ]
  },
  {
   "cell_type": "markdown",
   "metadata": {
    "id": "P6wmcFXDXHKw"
   },
   "source": []
  },
  {
   "cell_type": "code",
   "execution_count": 38,
   "metadata": {
    "colab": {
     "base_uri": "https://localhost:8080/"
    },
    "id": "zgM7uYZ8WjNH",
    "outputId": "ea032ff3-ce40-4da4-c222-b9668b8bfb35"
   },
   "outputs": [
    {
     "data": {
      "text/plain": [
       "NMF(n_components=4)"
      ]
     },
     "execution_count": 38,
     "metadata": {},
     "output_type": "execute_result"
    }
   ],
   "source": [
    "NMF_model = NMF(n_components=4, random_state=None)\n",
    "NMF_model.fit(CV)"
   ]
  },
  {
   "cell_type": "code",
   "execution_count": 39,
   "metadata": {
    "colab": {
     "base_uri": "https://localhost:8080/"
    },
    "id": "2DpKolXjWjEH",
    "outputId": "ead2d6c9-a25f-4ca9-f099-5b82cffd533a"
   },
   "outputs": [
    {
     "name": "stdout",
     "output_type": "stream",
     "text": [
      "\n",
      "Topic  0\n",
      "الرياضة, القدم, كرة, وزارة, الفيفا, الزمالك, الأندية, العمل, مليون, النصر, النادي, حساب, ان, وزير, شكرا, الاتحاد, نادي, الي, رياضة, رئيس, الاهلي, علي, البيت, يكون, وفقا, حسين, الدوري, يمارس, يتابع, نصيحة\n",
      "\n",
      "Topic  1\n",
      "الاقتصاد, التجارة, الدولة, التركية, بالرياض, ليه, مقاطعة, نقل, شراء, تركية, اليوم, عفش, اثاث, خطاب, قرار, شركات, البضائع, الدولية, تصدر, الأسعار, الإجابة, اكبر, رسمي, للسعودية, موقعة, معاهدة, خلاص, يسألون, ارسلت, تطالبها\n",
      "\n",
      "Topic  2\n",
      "السياسة, الحكومة, القانون, ان, هاشم, السياسية, ال, تطبيق, النفطي, اليوم, لكل, سعودي, الوطني, عاجل, مواطن, بمناسبة, رئيس, تصرف, المساعدة, السعودية, كنوع, أنواع, بالمملكة, قانون, الشعب, الى, الحريري, القطاع, حدد, موقفك\n",
      "\n",
      "Topic  3\n",
      "الديانة, الله, الصلاة, الدين, اللهم, القرآن, قال, إني, وسلم, الرجال, والحزن, محمد, الهم, أعوذ, والكسل, والبخل, وقهر, والعجز, والجبن, الجمعة, صل, النبي, وغلبة, الكريم, علي, يوم, والسلام, ليرتاح, ان, بن\n"
     ]
    }
   ],
   "source": [
    "display_topic(model=NMF_model, feature_names=vectorizer.get_feature_names(), no_top_words=30)"
   ]
  },
  {
   "cell_type": "markdown",
   "metadata": {
    "id": "OY_ctZdMYCZD"
   },
   "source": [
    "#NMF and TfidfVectorizer"
   ]
  },
  {
   "cell_type": "code",
   "execution_count": 40,
   "metadata": {
    "colab": {
     "base_uri": "https://localhost:8080/"
    },
    "id": "_o3PXFOrYCRM",
    "outputId": "36591876-913f-4bd6-8710-6dcbe7c15be0"
   },
   "outputs": [
    {
     "data": {
      "text/plain": [
       "NMF(n_components=4)"
      ]
     },
     "execution_count": 40,
     "metadata": {},
     "output_type": "execute_result"
    }
   ],
   "source": [
    "NMF_model = NMF(n_components=4, random_state=None)\n",
    "NMF_model.fit(CV_TF_IDF_)"
   ]
  },
  {
   "cell_type": "code",
   "execution_count": 41,
   "metadata": {
    "colab": {
     "base_uri": "https://localhost:8080/"
    },
    "id": "L7LLvvHTYCOn",
    "outputId": "586e5924-0f47-4549-f337-13a8e4983e63"
   },
   "outputs": [
    {
     "name": "stdout",
     "output_type": "stream",
     "text": [
      "\n",
      "Topic  0\n",
      "للسعودية تطالبها, تركية ارسلت, ارسلت خطاب, تطالبها, خطاب للسعودية, ارسلت, تطالبها بالعمل, شركات تركية, بالعمل, للسعودية, التجارة انباء, انباء مقاطعة, تعزيز التجارة, واسعة للبضائع, شعبية واسعة, بالعمل تعزيز, مقاطعة شعبية, شركات, للبضائع التركية, للبضائع, شعبية, واسعة, انباء, تعزيز, خطاب, تركية, التركية الاقتصاد, مقاطعة, التركية, التجارة\n",
      "\n",
      "Topic  1\n",
      "الدولة, البضائع التركية, الإجابة الدولة, الدولة تصدر, الدولة موقعة, رسمي الإجابة, التركية الدولة, يسألون مقاطعة, مقاطعة البضائع, الدولية الاقتصاد, موقعة معاهدة, التجارة الدولية, معاهدة التجارة, قرار رسمي, يسألون, معاهدة, الإجابة, موقعة, تصدر قرار, رسمي, البضائع, الدولية, تصدر, قرار, مقاطعة, التركية, التجارة, الاقتصاد, اسقاط, التركي\n",
      "\n",
      "Topic  2\n",
      "القدم الرياضة, كرة القدم, كرة, القدم, الرياضة, المبذول, أتحدي وضع, أتحدي, الكبير المبذول, والتقدير للاعبي, المجهود, المجهود الكبير, جدول الدوري, الممتاز كرة, المبذول أتحدي, للاعبي الزمالك, الزمالك المجهود, التحية والتقدير, للاعبي, وضع جدول, الدوري الممتاز, الممتاز, جدول, التحية, والتقدير, الكبير, الدوري, وضع, الزمالك, وزارة الرياضة\n",
      "\n",
      "Topic  3\n",
      "الهم والحزن, وقهر, أعوذ الهم, والحزن والعجز, والجبن والبخل, والجبن, والعجز, والعجز والكسل, والبخل, والكسل والجبن, والكسل, إني أعوذ, أعوذ, الهم, والحزن, وقهر الديانة, إني, وغلبة, وغلبة وقهر, والبخل وغلبة, الديانة, الصلاة, والسلام الديانة, الصلاة والسلام, والسلام, ليرتاح, وأعوذ, والبخل وأعوذ, غلبة وقهر, غلبة\n"
     ]
    }
   ],
   "source": [
    "display_topic(model=NMF_model, feature_names=CV_TF_IDF.get_feature_names(), no_top_words=30)"
   ]
  },
  {
   "cell_type": "markdown",
   "metadata": {
    "id": "holOwmQyYfnk"
   },
   "source": [
    "#Lable Tweet"
   ]
  },
  {
   "cell_type": "code",
   "execution_count": 42,
   "metadata": {
    "id": "lCcbcNvYYCLU"
   },
   "outputs": [],
   "source": [
    "topic_results = lsa.transform(CV_TF_IDF_)\n",
    "\n",
    "df['topics'] = topic_results.argmax(axis=1)"
   ]
  },
  {
   "cell_type": "code",
   "execution_count": 43,
   "metadata": {
    "id": "T2VC6en7YCGA"
   },
   "outputs": [],
   "source": [
    "data_lable = df.reset_index()"
   ]
  },
  {
   "cell_type": "code",
   "execution_count": 44,
   "metadata": {
    "colab": {
     "base_uri": "https://localhost:8080/",
     "height": 423
    },
    "id": "8JHu_dVIYCD9",
    "outputId": "f30e7465-4777-4a92-e928-3a1213acc66f"
   },
   "outputs": [
    {
     "data": {
      "text/html": [
       "<div>\n",
       "<style scoped>\n",
       "    .dataframe tbody tr th:only-of-type {\n",
       "        vertical-align: middle;\n",
       "    }\n",
       "\n",
       "    .dataframe tbody tr th {\n",
       "        vertical-align: top;\n",
       "    }\n",
       "\n",
       "    .dataframe thead th {\n",
       "        text-align: right;\n",
       "    }\n",
       "</style>\n",
       "<table border=\"1\" class=\"dataframe\">\n",
       "  <thead>\n",
       "    <tr style=\"text-align: right;\">\n",
       "      <th></th>\n",
       "      <th>index</th>\n",
       "      <th>combined_text</th>\n",
       "      <th>topics</th>\n",
       "    </tr>\n",
       "  </thead>\n",
       "  <tbody>\n",
       "    <tr>\n",
       "      <th>0</th>\n",
       "      <td>0</td>\n",
       "      <td>بشرى سارة لجماهير النادي الأهلي للتفاصيل الرياضة</td>\n",
       "      <td>2</td>\n",
       "    </tr>\n",
       "    <tr>\n",
       "      <th>1</th>\n",
       "      <td>1</td>\n",
       "      <td>احب الأنميات الرياضية يكفي اني اتابعها علي ار...</td>\n",
       "      <td>2</td>\n",
       "    </tr>\n",
       "    <tr>\n",
       "      <th>2</th>\n",
       "      <td>3</td>\n",
       "      <td>يسألون ليه مقاطعة البضائع التركية ليه الدولة  ...</td>\n",
       "      <td>1</td>\n",
       "    </tr>\n",
       "    <tr>\n",
       "      <th>3</th>\n",
       "      <td>5</td>\n",
       "      <td>فئة شيوخ الدين الي الله يكثر  امثالهم الديانة</td>\n",
       "      <td>3</td>\n",
       "    </tr>\n",
       "    <tr>\n",
       "      <th>4</th>\n",
       "      <td>6</td>\n",
       "      <td>مليون  الف  مجموع المبالغ اللي تم الاعلان  تبر...</td>\n",
       "      <td>2</td>\n",
       "    </tr>\n",
       "    <tr>\n",
       "      <th>...</th>\n",
       "      <td>...</td>\n",
       "      <td>...</td>\n",
       "      <td>...</td>\n",
       "    </tr>\n",
       "    <tr>\n",
       "      <th>14175</th>\n",
       "      <td>29553</td>\n",
       "      <td>نصراويا  تهمني قضايا النصر  تصل ان حساب قناته...</td>\n",
       "      <td>2</td>\n",
       "    </tr>\n",
       "    <tr>\n",
       "      <th>14176</th>\n",
       "      <td>29554</td>\n",
       "      <td>شركة الصفرات بالرياض نقل عفش بالرياض وبأقل الأ...</td>\n",
       "      <td>0</td>\n",
       "    </tr>\n",
       "    <tr>\n",
       "      <th>14177</th>\n",
       "      <td>29555</td>\n",
       "      <td>عندما يتحدث رئيس الغرف التجارية  واقع مسؤوليته...</td>\n",
       "      <td>2</td>\n",
       "    </tr>\n",
       "    <tr>\n",
       "      <th>14178</th>\n",
       "      <td>29556</td>\n",
       "      <td>رئيس النادي الاهلي وزارة الرياضة خلال عدة أشهر...</td>\n",
       "      <td>2</td>\n",
       "    </tr>\n",
       "    <tr>\n",
       "      <th>14179</th>\n",
       "      <td>29557</td>\n",
       "      <td>اعطي لادارة الاتحاد مليون  عامها الاول    ننسى...</td>\n",
       "      <td>2</td>\n",
       "    </tr>\n",
       "  </tbody>\n",
       "</table>\n",
       "<p>14180 rows × 3 columns</p>\n",
       "</div>"
      ],
      "text/plain": [
       "       index                                      combined_text  topics\n",
       "0          0   بشرى سارة لجماهير النادي الأهلي للتفاصيل الرياضة       2\n",
       "1          1   احب الأنميات الرياضية يكفي اني اتابعها علي ار...       2\n",
       "2          3  يسألون ليه مقاطعة البضائع التركية ليه الدولة  ...       1\n",
       "3          5      فئة شيوخ الدين الي الله يكثر  امثالهم الديانة       3\n",
       "4          6  مليون  الف  مجموع المبالغ اللي تم الاعلان  تبر...       2\n",
       "...      ...                                                ...     ...\n",
       "14175  29553   نصراويا  تهمني قضايا النصر  تصل ان حساب قناته...       2\n",
       "14176  29554  شركة الصفرات بالرياض نقل عفش بالرياض وبأقل الأ...       0\n",
       "14177  29555  عندما يتحدث رئيس الغرف التجارية  واقع مسؤوليته...       2\n",
       "14178  29556  رئيس النادي الاهلي وزارة الرياضة خلال عدة أشهر...       2\n",
       "14179  29557  اعطي لادارة الاتحاد مليون  عامها الاول    ننسى...       2\n",
       "\n",
       "[14180 rows x 3 columns]"
      ]
     },
     "execution_count": 44,
     "metadata": {},
     "output_type": "execute_result"
    }
   ],
   "source": [
    "data_lable"
   ]
  },
  {
   "cell_type": "code",
   "execution_count": 45,
   "metadata": {
    "id": "NqKQm5lWYwYh"
   },
   "outputs": [],
   "source": [
    "conditions = [data_lable['topics'] == 0, data_lable['topics'] == 1 ,data_lable['topics'] == 2, data_lable['topics'] == 3]"
   ]
  },
  {
   "cell_type": "code",
   "execution_count": 46,
   "metadata": {
    "id": "t5kL-cR0YwWJ"
   },
   "outputs": [],
   "source": [
    "lable =[\"سياسة\",\"اقتصاد\",\"رياضة\",\"دين\"]"
   ]
  },
  {
   "cell_type": "code",
   "execution_count": 47,
   "metadata": {
    "id": "YdObYmKvYwSt"
   },
   "outputs": [],
   "source": [
    "data_lable['Classification'] = np.select(conditions, lable,default = np.nan)"
   ]
  },
  {
   "cell_type": "code",
   "execution_count": 48,
   "metadata": {
    "colab": {
     "base_uri": "https://localhost:8080/",
     "height": 520
    },
    "id": "NA6xoggAYwQV",
    "outputId": "6be739d6-f34f-4da7-8bb2-3ab2cc0b96d0"
   },
   "outputs": [
    {
     "data": {
      "text/html": [
       "<div>\n",
       "<style scoped>\n",
       "    .dataframe tbody tr th:only-of-type {\n",
       "        vertical-align: middle;\n",
       "    }\n",
       "\n",
       "    .dataframe tbody tr th {\n",
       "        vertical-align: top;\n",
       "    }\n",
       "\n",
       "    .dataframe thead th {\n",
       "        text-align: right;\n",
       "    }\n",
       "</style>\n",
       "<table border=\"1\" class=\"dataframe\">\n",
       "  <thead>\n",
       "    <tr style=\"text-align: right;\">\n",
       "      <th></th>\n",
       "      <th>index</th>\n",
       "      <th>combined_text</th>\n",
       "      <th>topics</th>\n",
       "      <th>Classification</th>\n",
       "    </tr>\n",
       "  </thead>\n",
       "  <tbody>\n",
       "    <tr>\n",
       "      <th>0</th>\n",
       "      <td>0</td>\n",
       "      <td>بشرى سارة لجماهير النادي الأهلي للتفاصيل الرياضة</td>\n",
       "      <td>2</td>\n",
       "      <td>رياضة</td>\n",
       "    </tr>\n",
       "    <tr>\n",
       "      <th>1</th>\n",
       "      <td>1</td>\n",
       "      <td>احب الأنميات الرياضية يكفي اني اتابعها علي ار...</td>\n",
       "      <td>2</td>\n",
       "      <td>رياضة</td>\n",
       "    </tr>\n",
       "    <tr>\n",
       "      <th>2</th>\n",
       "      <td>3</td>\n",
       "      <td>يسألون ليه مقاطعة البضائع التركية ليه الدولة  ...</td>\n",
       "      <td>1</td>\n",
       "      <td>اقتصاد</td>\n",
       "    </tr>\n",
       "    <tr>\n",
       "      <th>3</th>\n",
       "      <td>5</td>\n",
       "      <td>فئة شيوخ الدين الي الله يكثر  امثالهم الديانة</td>\n",
       "      <td>3</td>\n",
       "      <td>دين</td>\n",
       "    </tr>\n",
       "    <tr>\n",
       "      <th>4</th>\n",
       "      <td>6</td>\n",
       "      <td>مليون  الف  مجموع المبالغ اللي تم الاعلان  تبر...</td>\n",
       "      <td>2</td>\n",
       "      <td>رياضة</td>\n",
       "    </tr>\n",
       "    <tr>\n",
       "      <th>5</th>\n",
       "      <td>11</td>\n",
       "      <td>عرفنا ليش النصر يوقع  اللاعبين بمبالغ كبيره وم...</td>\n",
       "      <td>2</td>\n",
       "      <td>رياضة</td>\n",
       "    </tr>\n",
       "    <tr>\n",
       "      <th>6</th>\n",
       "      <td>12</td>\n",
       "      <td>نادال لاعبي المفضل الرياضة</td>\n",
       "      <td>2</td>\n",
       "      <td>رياضة</td>\n",
       "    </tr>\n",
       "    <tr>\n",
       "      <th>7</th>\n",
       "      <td>13</td>\n",
       "      <td>بطولاتكم كانت  وقت قديم جدا كانت كرة القدم بد...</td>\n",
       "      <td>2</td>\n",
       "      <td>رياضة</td>\n",
       "    </tr>\n",
       "    <tr>\n",
       "      <th>8</th>\n",
       "      <td>17</td>\n",
       "      <td>الفائزون بجائزة نوبل  الاقتصاد بول ميلجروم ورو...</td>\n",
       "      <td>0</td>\n",
       "      <td>سياسة</td>\n",
       "    </tr>\n",
       "    <tr>\n",
       "      <th>9</th>\n",
       "      <td>19</td>\n",
       "      <td>يوم شاء الله أني تأخرت  صلاة الظهر وكنا   جما...</td>\n",
       "      <td>3</td>\n",
       "      <td>دين</td>\n",
       "    </tr>\n",
       "    <tr>\n",
       "      <th>10</th>\n",
       "      <td>20</td>\n",
       "      <td>يللا نلعب بمناسبة الإنتخابات التويترية هعمل إن...</td>\n",
       "      <td>2</td>\n",
       "      <td>رياضة</td>\n",
       "    </tr>\n",
       "    <tr>\n",
       "      <th>11</th>\n",
       "      <td>21</td>\n",
       "      <td>حلو موضوع الفيفا ده  حيلغى القرار  محدش يقدر ي...</td>\n",
       "      <td>2</td>\n",
       "      <td>رياضة</td>\n",
       "    </tr>\n",
       "    <tr>\n",
       "      <th>12</th>\n",
       "      <td>24</td>\n",
       "      <td>مخرجات كليه الشرطه وينها تطبيق القانون والحزم ...</td>\n",
       "      <td>3</td>\n",
       "      <td>دين</td>\n",
       "    </tr>\n",
       "    <tr>\n",
       "      <th>13</th>\n",
       "      <td>27</td>\n",
       "      <td>عاجل بمناسبة اليوم الوطني ال بالمملكة الحكومة ...</td>\n",
       "      <td>0</td>\n",
       "      <td>سياسة</td>\n",
       "    </tr>\n",
       "    <tr>\n",
       "      <th>14</th>\n",
       "      <td>31</td>\n",
       "      <td>يوم العلم يخلد ذكرى بطل صومالي ماتت امه  طفولت...</td>\n",
       "      <td>3</td>\n",
       "      <td>دين</td>\n",
       "    </tr>\n",
       "  </tbody>\n",
       "</table>\n",
       "</div>"
      ],
      "text/plain": [
       "    index                                      combined_text  topics  \\\n",
       "0       0   بشرى سارة لجماهير النادي الأهلي للتفاصيل الرياضة       2   \n",
       "1       1   احب الأنميات الرياضية يكفي اني اتابعها علي ار...       2   \n",
       "2       3  يسألون ليه مقاطعة البضائع التركية ليه الدولة  ...       1   \n",
       "3       5      فئة شيوخ الدين الي الله يكثر  امثالهم الديانة       3   \n",
       "4       6  مليون  الف  مجموع المبالغ اللي تم الاعلان  تبر...       2   \n",
       "5      11  عرفنا ليش النصر يوقع  اللاعبين بمبالغ كبيره وم...       2   \n",
       "6      12                         نادال لاعبي المفضل الرياضة       2   \n",
       "7      13   بطولاتكم كانت  وقت قديم جدا كانت كرة القدم بد...       2   \n",
       "8      17  الفائزون بجائزة نوبل  الاقتصاد بول ميلجروم ورو...       0   \n",
       "9      19   يوم شاء الله أني تأخرت  صلاة الظهر وكنا   جما...       3   \n",
       "10     20  يللا نلعب بمناسبة الإنتخابات التويترية هعمل إن...       2   \n",
       "11     21  حلو موضوع الفيفا ده  حيلغى القرار  محدش يقدر ي...       2   \n",
       "12     24  مخرجات كليه الشرطه وينها تطبيق القانون والحزم ...       3   \n",
       "13     27  عاجل بمناسبة اليوم الوطني ال بالمملكة الحكومة ...       0   \n",
       "14     31  يوم العلم يخلد ذكرى بطل صومالي ماتت امه  طفولت...       3   \n",
       "\n",
       "   Classification  \n",
       "0           رياضة  \n",
       "1           رياضة  \n",
       "2          اقتصاد  \n",
       "3             دين  \n",
       "4           رياضة  \n",
       "5           رياضة  \n",
       "6           رياضة  \n",
       "7           رياضة  \n",
       "8           سياسة  \n",
       "9             دين  \n",
       "10          رياضة  \n",
       "11          رياضة  \n",
       "12            دين  \n",
       "13          سياسة  \n",
       "14            دين  "
      ]
     },
     "execution_count": 48,
     "metadata": {},
     "output_type": "execute_result"
    }
   ],
   "source": [
    "data_lable.head(15)"
   ]
  },
  {
   "cell_type": "code",
   "execution_count": 49,
   "metadata": {
    "id": "XlxgEq7Jbe7Y"
   },
   "outputs": [],
   "source": [
    "topics=pd.DataFrame(topic_results, columns=['Topic_'+str(x) for x in range(topic_results.shape[1])])"
   ]
  },
  {
   "cell_type": "code",
   "execution_count": 50,
   "metadata": {
    "id": "fPPWmL1xbe5S"
   },
   "outputs": [],
   "source": [
    "topics = topics.reset_index()"
   ]
  },
  {
   "cell_type": "code",
   "execution_count": 51,
   "metadata": {
    "colab": {
     "base_uri": "https://localhost:8080/",
     "height": 363
    },
    "id": "2bjrjkY3be2H",
    "outputId": "79be1fd7-4f7b-4d7c-9f21-e1d199d3dc2f"
   },
   "outputs": [
    {
     "data": {
      "text/html": [
       "<div>\n",
       "<style scoped>\n",
       "    .dataframe tbody tr th:only-of-type {\n",
       "        vertical-align: middle;\n",
       "    }\n",
       "\n",
       "    .dataframe tbody tr th {\n",
       "        vertical-align: top;\n",
       "    }\n",
       "\n",
       "    .dataframe thead th {\n",
       "        text-align: right;\n",
       "    }\n",
       "</style>\n",
       "<table border=\"1\" class=\"dataframe\">\n",
       "  <thead>\n",
       "    <tr style=\"text-align: right;\">\n",
       "      <th></th>\n",
       "      <th>index</th>\n",
       "      <th>Topic_0</th>\n",
       "      <th>Topic_1</th>\n",
       "      <th>Topic_2</th>\n",
       "      <th>Topic_3</th>\n",
       "    </tr>\n",
       "  </thead>\n",
       "  <tbody>\n",
       "    <tr>\n",
       "      <th>0</th>\n",
       "      <td>0</td>\n",
       "      <td>0.000392</td>\n",
       "      <td>0.000138</td>\n",
       "      <td>0.018298</td>\n",
       "      <td>0.000828</td>\n",
       "    </tr>\n",
       "    <tr>\n",
       "      <th>1</th>\n",
       "      <td>1</td>\n",
       "      <td>0.000433</td>\n",
       "      <td>0.000319</td>\n",
       "      <td>0.021299</td>\n",
       "      <td>0.000740</td>\n",
       "    </tr>\n",
       "    <tr>\n",
       "      <th>2</th>\n",
       "      <td>2</td>\n",
       "      <td>0.632071</td>\n",
       "      <td>0.772560</td>\n",
       "      <td>-0.003355</td>\n",
       "      <td>-0.000428</td>\n",
       "    </tr>\n",
       "    <tr>\n",
       "      <th>3</th>\n",
       "      <td>3</td>\n",
       "      <td>0.000028</td>\n",
       "      <td>0.000062</td>\n",
       "      <td>-0.000004</td>\n",
       "      <td>0.015729</td>\n",
       "    </tr>\n",
       "    <tr>\n",
       "      <th>4</th>\n",
       "      <td>4</td>\n",
       "      <td>0.001469</td>\n",
       "      <td>-0.001030</td>\n",
       "      <td>0.048871</td>\n",
       "      <td>-0.009322</td>\n",
       "    </tr>\n",
       "    <tr>\n",
       "      <th>5</th>\n",
       "      <td>5</td>\n",
       "      <td>0.000265</td>\n",
       "      <td>0.000112</td>\n",
       "      <td>0.011020</td>\n",
       "      <td>0.000387</td>\n",
       "    </tr>\n",
       "    <tr>\n",
       "      <th>6</th>\n",
       "      <td>6</td>\n",
       "      <td>0.000329</td>\n",
       "      <td>0.000186</td>\n",
       "      <td>0.022835</td>\n",
       "      <td>0.000690</td>\n",
       "    </tr>\n",
       "    <tr>\n",
       "      <th>7</th>\n",
       "      <td>7</td>\n",
       "      <td>0.000534</td>\n",
       "      <td>0.000112</td>\n",
       "      <td>0.099378</td>\n",
       "      <td>0.001823</td>\n",
       "    </tr>\n",
       "    <tr>\n",
       "      <th>8</th>\n",
       "      <td>8</td>\n",
       "      <td>0.015486</td>\n",
       "      <td>0.002141</td>\n",
       "      <td>0.000073</td>\n",
       "      <td>0.000061</td>\n",
       "    </tr>\n",
       "    <tr>\n",
       "      <th>9</th>\n",
       "      <td>9</td>\n",
       "      <td>0.000028</td>\n",
       "      <td>0.000041</td>\n",
       "      <td>0.000170</td>\n",
       "      <td>0.009625</td>\n",
       "    </tr>\n",
       "  </tbody>\n",
       "</table>\n",
       "</div>"
      ],
      "text/plain": [
       "   index   Topic_0   Topic_1   Topic_2   Topic_3\n",
       "0      0  0.000392  0.000138  0.018298  0.000828\n",
       "1      1  0.000433  0.000319  0.021299  0.000740\n",
       "2      2  0.632071  0.772560 -0.003355 -0.000428\n",
       "3      3  0.000028  0.000062 -0.000004  0.015729\n",
       "4      4  0.001469 -0.001030  0.048871 -0.009322\n",
       "5      5  0.000265  0.000112  0.011020  0.000387\n",
       "6      6  0.000329  0.000186  0.022835  0.000690\n",
       "7      7  0.000534  0.000112  0.099378  0.001823\n",
       "8      8  0.015486  0.002141  0.000073  0.000061\n",
       "9      9  0.000028  0.000041  0.000170  0.009625"
      ]
     },
     "execution_count": 51,
     "metadata": {},
     "output_type": "execute_result"
    }
   ],
   "source": [
    "topics.head(10)"
   ]
  },
  {
   "cell_type": "markdown",
   "metadata": {
    "id": "snbsh56_cA_1"
   },
   "source": [
    "After we done analyse precentage of classification for each tweet we now need to assigns specefic classification for each tweet"
   ]
  },
  {
   "cell_type": "code",
   "execution_count": 52,
   "metadata": {
    "id": "tOdaFkTqbezo"
   },
   "outputs": [],
   "source": [
    "classification = data_lable.merge(topics, on=df.combined_text, how='left')"
   ]
  },
  {
   "cell_type": "code",
   "execution_count": 53,
   "metadata": {
    "id": "B3_OOKw0cmdM"
   },
   "outputs": [],
   "source": [
    "classification.drop(['key_0', 'index_x','index_y'],axis='columns', inplace=True)"
   ]
  },
  {
   "cell_type": "code",
   "execution_count": 54,
   "metadata": {
    "id": "qMY6VCSicmaj"
   },
   "outputs": [],
   "source": [
    "classification=classification.drop_duplicates(subset='combined_text')"
   ]
  },
  {
   "cell_type": "code",
   "execution_count": 55,
   "metadata": {
    "id": "MJaXOQW2cmX8"
   },
   "outputs": [],
   "source": [
    "classification=classification.rename(columns={'Topic_0': 'سياسة', 'Topic_1': 'اقتصاد','Topic_2':'رياضة','Topic_3':'دين'})"
   ]
  },
  {
   "cell_type": "code",
   "execution_count": 56,
   "metadata": {
    "colab": {
     "base_uri": "https://localhost:8080/",
     "height": 800
    },
    "id": "vNYSx8-qcmVr",
    "outputId": "f536374f-d04d-44bd-e161-5b30ca61c0d1"
   },
   "outputs": [
    {
     "data": {
      "text/html": [
       "<div>\n",
       "<style scoped>\n",
       "    .dataframe tbody tr th:only-of-type {\n",
       "        vertical-align: middle;\n",
       "    }\n",
       "\n",
       "    .dataframe tbody tr th {\n",
       "        vertical-align: top;\n",
       "    }\n",
       "\n",
       "    .dataframe thead th {\n",
       "        text-align: right;\n",
       "    }\n",
       "</style>\n",
       "<table border=\"1\" class=\"dataframe\">\n",
       "  <thead>\n",
       "    <tr style=\"text-align: right;\">\n",
       "      <th></th>\n",
       "      <th>combined_text</th>\n",
       "      <th>topics</th>\n",
       "      <th>Classification</th>\n",
       "      <th>سياسة</th>\n",
       "      <th>اقتصاد</th>\n",
       "      <th>رياضة</th>\n",
       "      <th>دين</th>\n",
       "    </tr>\n",
       "  </thead>\n",
       "  <tbody>\n",
       "    <tr>\n",
       "      <th>0</th>\n",
       "      <td>بشرى سارة لجماهير النادي الأهلي للتفاصيل الرياضة</td>\n",
       "      <td>2</td>\n",
       "      <td>رياضة</td>\n",
       "      <td>0.000392</td>\n",
       "      <td>0.000138</td>\n",
       "      <td>0.018298</td>\n",
       "      <td>0.000828</td>\n",
       "    </tr>\n",
       "    <tr>\n",
       "      <th>1</th>\n",
       "      <td>احب الأنميات الرياضية يكفي اني اتابعها علي ار...</td>\n",
       "      <td>2</td>\n",
       "      <td>رياضة</td>\n",
       "      <td>0.000433</td>\n",
       "      <td>0.000319</td>\n",
       "      <td>0.021299</td>\n",
       "      <td>0.000740</td>\n",
       "    </tr>\n",
       "    <tr>\n",
       "      <th>2</th>\n",
       "      <td>يسألون ليه مقاطعة البضائع التركية ليه الدولة  ...</td>\n",
       "      <td>1</td>\n",
       "      <td>اقتصاد</td>\n",
       "      <td>0.632071</td>\n",
       "      <td>0.772560</td>\n",
       "      <td>-0.003355</td>\n",
       "      <td>-0.000428</td>\n",
       "    </tr>\n",
       "    <tr>\n",
       "      <th>196</th>\n",
       "      <td>فئة شيوخ الدين الي الله يكثر  امثالهم الديانة</td>\n",
       "      <td>3</td>\n",
       "      <td>دين</td>\n",
       "      <td>0.000028</td>\n",
       "      <td>0.000062</td>\n",
       "      <td>-0.000004</td>\n",
       "      <td>0.015729</td>\n",
       "    </tr>\n",
       "    <tr>\n",
       "      <th>197</th>\n",
       "      <td>مليون  الف  مجموع المبالغ اللي تم الاعلان  تبر...</td>\n",
       "      <td>2</td>\n",
       "      <td>رياضة</td>\n",
       "      <td>0.001469</td>\n",
       "      <td>-0.001030</td>\n",
       "      <td>0.048871</td>\n",
       "      <td>-0.009322</td>\n",
       "    </tr>\n",
       "    <tr>\n",
       "      <th>...</th>\n",
       "      <td>...</td>\n",
       "      <td>...</td>\n",
       "      <td>...</td>\n",
       "      <td>...</td>\n",
       "      <td>...</td>\n",
       "      <td>...</td>\n",
       "      <td>...</td>\n",
       "    </tr>\n",
       "    <tr>\n",
       "      <th>241049</th>\n",
       "      <td>كوريا   يروحون بانقتان الجيش راااح المحتوى  ال...</td>\n",
       "      <td>0</td>\n",
       "      <td>سياسة</td>\n",
       "      <td>0.023806</td>\n",
       "      <td>0.003337</td>\n",
       "      <td>0.000063</td>\n",
       "      <td>0.000077</td>\n",
       "    </tr>\n",
       "    <tr>\n",
       "      <th>241058</th>\n",
       "      <td>الأعلانات كولينا عندما وصل  تقاعد الحكام الاجب...</td>\n",
       "      <td>2</td>\n",
       "      <td>رياضة</td>\n",
       "      <td>0.000276</td>\n",
       "      <td>0.000126</td>\n",
       "      <td>0.001741</td>\n",
       "      <td>0.000563</td>\n",
       "    </tr>\n",
       "    <tr>\n",
       "      <th>241063</th>\n",
       "      <td>ابلغت الحكومة المجلس بموافقتها  دراسة تمديد ت...</td>\n",
       "      <td>0</td>\n",
       "      <td>سياسة</td>\n",
       "      <td>0.000678</td>\n",
       "      <td>-0.000038</td>\n",
       "      <td>0.000302</td>\n",
       "      <td>0.000241</td>\n",
       "    </tr>\n",
       "    <tr>\n",
       "      <th>241272</th>\n",
       "      <td>الدين كامل النقص فينا الديانة</td>\n",
       "      <td>3</td>\n",
       "      <td>دين</td>\n",
       "      <td>0.000048</td>\n",
       "      <td>0.000121</td>\n",
       "      <td>-0.000060</td>\n",
       "      <td>0.030481</td>\n",
       "    </tr>\n",
       "    <tr>\n",
       "      <th>241370</th>\n",
       "      <td>باع المحتل العثماني الاراضي العربية الفلسطيني...</td>\n",
       "      <td>3</td>\n",
       "      <td>دين</td>\n",
       "      <td>0.000117</td>\n",
       "      <td>0.000059</td>\n",
       "      <td>0.000839</td>\n",
       "      <td>0.009697</td>\n",
       "    </tr>\n",
       "  </tbody>\n",
       "</table>\n",
       "<p>7801 rows × 7 columns</p>\n",
       "</div>"
      ],
      "text/plain": [
       "                                            combined_text  topics  \\\n",
       "0        بشرى سارة لجماهير النادي الأهلي للتفاصيل الرياضة       2   \n",
       "1        احب الأنميات الرياضية يكفي اني اتابعها علي ار...       2   \n",
       "2       يسألون ليه مقاطعة البضائع التركية ليه الدولة  ...       1   \n",
       "196         فئة شيوخ الدين الي الله يكثر  امثالهم الديانة       3   \n",
       "197     مليون  الف  مجموع المبالغ اللي تم الاعلان  تبر...       2   \n",
       "...                                                   ...     ...   \n",
       "241049  كوريا   يروحون بانقتان الجيش راااح المحتوى  ال...       0   \n",
       "241058  الأعلانات كولينا عندما وصل  تقاعد الحكام الاجب...       2   \n",
       "241063   ابلغت الحكومة المجلس بموافقتها  دراسة تمديد ت...       0   \n",
       "241272                      الدين كامل النقص فينا الديانة       3   \n",
       "241370   باع المحتل العثماني الاراضي العربية الفلسطيني...       3   \n",
       "\n",
       "       Classification     سياسة    اقتصاد     رياضة       دين  \n",
       "0               رياضة  0.000392  0.000138  0.018298  0.000828  \n",
       "1               رياضة  0.000433  0.000319  0.021299  0.000740  \n",
       "2              اقتصاد  0.632071  0.772560 -0.003355 -0.000428  \n",
       "196               دين  0.000028  0.000062 -0.000004  0.015729  \n",
       "197             رياضة  0.001469 -0.001030  0.048871 -0.009322  \n",
       "...               ...       ...       ...       ...       ...  \n",
       "241049          سياسة  0.023806  0.003337  0.000063  0.000077  \n",
       "241058          رياضة  0.000276  0.000126  0.001741  0.000563  \n",
       "241063          سياسة  0.000678 -0.000038  0.000302  0.000241  \n",
       "241272            دين  0.000048  0.000121 -0.000060  0.030481  \n",
       "241370            دين  0.000117  0.000059  0.000839  0.009697  \n",
       "\n",
       "[7801 rows x 7 columns]"
      ]
     },
     "execution_count": 56,
     "metadata": {},
     "output_type": "execute_result"
    }
   ],
   "source": [
    "classification"
   ]
  },
  {
   "cell_type": "markdown",
   "metadata": {
    "id": "6p7Pzc42eATR"
   },
   "source": [
    "#EDA"
   ]
  },
  {
   "cell_type": "code",
   "execution_count": 57,
   "metadata": {
    "colab": {
     "base_uri": "https://localhost:8080/",
     "height": 435
    },
    "id": "HXnqYSKvcmTA",
    "outputId": "2947d612-3774-4a87-ef52-d31a94c626d6"
   },
   "outputs": [
    {
     "data": {
      "image/png": "[encoded data removed]",
      "text/plain": [
       "<Figure size 1080x720 with 1 Axes>"
      ]
     },
     "metadata": {
      "needs_background": "light"
     },
     "output_type": "display_data"
    }
   ],
   "source": [
    "plt.figure(figsize=(15,10))\n",
    "plt.yticks(fontsize=20, size=16) \n",
    "plt.xticks(fontsize=20) \n",
    "plt.rc('ytick', labelsize=12) \n",
    "sns.barplot(y=data_lable['Classification'].value_counts().index, \n",
    "            x=data_lable['Classification'].value_counts(normalize=True, ascending=False), \n",
    "            data=data_lable, orient='h', \n",
    "            color='#b3e5fc',saturation=1\n",
    "           )\n",
    "plt.xlabel('The percentage of Classification', fontsize=12)\n",
    "#plt.ylabel(fontsize=12, **t_font)\n",
    "\n",
    "sns.despine();"
   ]
  },
  {
   "cell_type": "markdown",
   "metadata": {
    "id": "hzS554emkj-7"
   },
   "source": [
    "#Topics Word Clouds"
   ]
  },
  {
   "cell_type": "markdown",
   "metadata": {
    "id": "Wnp8NZ7IknG0"
   },
   "source": [
    "100 most common words in Politic tweets"
   ]
  },
  {
   "cell_type": "code",
   "execution_count": 58,
   "metadata": {
    "colab": {
     "base_uri": "https://localhost:8080/",
     "height": 248
    },
    "id": "PtMoN_2zkci9",
    "outputId": "95ce2b70-3942-4f24-a963-87ffde84b4a2"
   },
   "outputs": [
    {
     "data": {
      "image/png": "[encoded data removed]",
      "text/plain": [
       "<Figure size 432x288 with 1 Axes>"
      ]
     },
     "metadata": {
      "needs_background": "light"
     },
     "output_type": "display_data"
    }
   ],
   "source": [
    "# Create a WordCloud \n",
    "Politic_df = data_lable[(data_lable['Classification']=='سياسة')]\n",
    "\n",
    "long_string = ','.join(list(Politic_df.combined_text.values))\n",
    "\n",
    "reshaped_text = arabic_reshaper.reshape(long_string)\n",
    "bidi_text = get_display(reshaped_text)\n",
    "wordcloud = WordCloud(stopwords=stop_ls,max_words=100,width=1000, height=700,background_color=\"black\",font_path='NotoNaskhArabic-Regular.ttf').generate(bidi_text)\n",
    "plt.imshow(wordcloud, interpolation= None)\n",
    "plt.axis(\"off\")\n",
    "plt.show()"
   ]
  },
  {
   "cell_type": "markdown",
   "metadata": {
    "id": "VcfVNOOhnOjP"
   },
   "source": [
    "100 most common words in Economey tweets"
   ]
  },
  {
   "cell_type": "code",
   "execution_count": 59,
   "metadata": {
    "colab": {
     "base_uri": "https://localhost:8080/",
     "height": 248
    },
    "id": "pF2wmLC5kceP",
    "outputId": "108e9a85-8e9c-42ce-d30f-d71d35ae1ebd"
   },
   "outputs": [
    {
     "data": {
      "image/png": "[encoded data removed]",
      "text/plain": [
       "<Figure size 432x288 with 1 Axes>"
      ]
     },
     "metadata": {
      "needs_background": "light"
     },
     "output_type": "display_data"
    }
   ],
   "source": [
    "# Create a WordCloud \n",
    "Politic_df = data_lable[(data_lable['Classification']=='اقتصاد')]\n",
    "\n",
    "long_string = ','.join(list(Politic_df.combined_text.values))\n",
    "\n",
    "reshaped_text = arabic_reshaper.reshape(long_string)\n",
    "bidi_text = get_display(reshaped_text)\n",
    "wordcloud = WordCloud(stopwords=stop_ls,max_words=100,width=1000, height=700,background_color=\"black\",font_path='NotoNaskhArabic-Regular.ttf').generate(bidi_text)\n",
    "plt.imshow(wordcloud, interpolation= None)\n",
    "plt.axis(\"off\")\n",
    "plt.show()"
   ]
  },
  {
   "cell_type": "markdown",
   "metadata": {
    "id": "HiNVs-TmoSpr"
   },
   "source": [
    "100 most common words in Sport tweets"
   ]
  },
  {
   "cell_type": "code",
   "execution_count": 60,
   "metadata": {
    "colab": {
     "base_uri": "https://localhost:8080/",
     "height": 248
    },
    "id": "5Ir_6Q0xkca7",
    "outputId": "35e406ae-f2d0-4ace-a3fd-142fb1c9bbe6"
   },
   "outputs": [
    {
     "data": {
      "image/png": "[encoded data removed]",
      "text/plain": [
       "<Figure size 432x288 with 1 Axes>"
      ]
     },
     "metadata": {
      "needs_background": "light"
     },
     "output_type": "display_data"
    }
   ],
   "source": [
    "# Create a WordCloud \n",
    "Politic_df = data_lable[(data_lable['Classification']=='رياضة')]\n",
    "\n",
    "long_string = ','.join(list(Politic_df.combined_text.values))\n",
    "\n",
    "reshaped_text = arabic_reshaper.reshape(long_string)\n",
    "bidi_text = get_display(reshaped_text)\n",
    "wordcloud = WordCloud(stopwords=stop_ls,max_words=100,width=1000, height=700,background_color=\"black\",font_path='NotoNaskhArabic-Regular.ttf').generate(bidi_text)\n",
    "plt.imshow(wordcloud, interpolation= None)\n",
    "plt.axis(\"off\")\n",
    "plt.show()"
   ]
  },
  {
   "cell_type": "markdown",
   "metadata": {
    "id": "DbNwZLy0opKn"
   },
   "source": [
    "100 most common words in Religion tweets"
   ]
  },
  {
   "cell_type": "code",
   "execution_count": 61,
   "metadata": {
    "colab": {
     "base_uri": "https://localhost:8080/",
     "height": 248
    },
    "id": "s3jm9w18kcYe",
    "outputId": "c56feb3e-f045-48ab-e58e-5304f1b54417"
   },
   "outputs": [
    {
     "data": {
      "image/png": "[encoded data removed]",
      "text/plain": [
       "<Figure size 432x288 with 1 Axes>"
      ]
     },
     "metadata": {
      "needs_background": "light"
     },
     "output_type": "display_data"
    }
   ],
   "source": [
    "# Create a WordCloud \n",
    "Politic_df = data_lable[(data_lable['Classification']=='دين')]\n",
    "\n",
    "long_string = ','.join(list(Politic_df.combined_text.values))\n",
    "\n",
    "reshaped_text = arabic_reshaper.reshape(long_string)\n",
    "bidi_text = get_display(reshaped_text)\n",
    "wordcloud = WordCloud(stopwords=stop_ls,max_words=100,width=1000, height=700,background_color=\"black\",font_path='NotoNaskhArabic-Regular.ttf').generate(bidi_text)\n",
    "plt.imshow(wordcloud, interpolation= None)\n",
    "plt.axis(\"off\")\n",
    "plt.show()"
   ]
  },
  {
   "cell_type": "markdown",
   "metadata": {
    "id": "4UrJd-fso83F"
   },
   "source": [
    "#Prepare data for modeling"
   ]
  },
  {
   "cell_type": "code",
   "execution_count": 62,
   "metadata": {
    "id": "xa8DHuVgkcWw"
   },
   "outputs": [],
   "source": [
    "# Split the data into X and y data sets\n",
    "X = classification.combined_text\n",
    "y = classification.Classification"
   ]
  },
  {
   "cell_type": "code",
   "execution_count": 63,
   "metadata": {
    "id": "k4wbAGEMkcTi"
   },
   "outputs": [],
   "source": [
    "# Split the data into training and test sets\n",
    "X_train, X_test, y_train, y_test = train_test_split(X, y, test_size=0.3, random_state=42)"
   ]
  },
  {
   "cell_type": "code",
   "execution_count": 64,
   "metadata": {
    "colab": {
     "base_uri": "https://localhost:8080/"
    },
    "id": "s41yXC03kcQt",
    "outputId": "79ea23b2-b758-4f0f-ce5f-6c357eb401d3"
   },
   "outputs": [],
   "source": [
    "# The first document-term matrix has default Count Vectorizer values - counts of unigrams\n",
    "\n",
    "cv1 = TfidfVectorizer(stop_words= stop_ls,ngram_range = (1,2))\n",
    "\n",
    "X_train_cv1 = cv1.fit_transform(X_train)\n",
    "X_test_cv1  = cv1.transform(X_test)\n",
    "\n",
    "#pd.DataFrame(X_train_cv1.toarray(), columns=cv1.get_feature_names()).head()"
   ]
  },
  {
   "cell_type": "markdown",
   "metadata": {
    "id": "1U9FY4_Yqrin"
   },
   "source": [
    "#Classification "
   ]
  },
  {
   "cell_type": "markdown",
   "metadata": {
    "id": "ab7rmLpIqvL8"
   },
   "source": [
    "Logistic Regression model"
   ]
  },
  {
   "cell_type": "code",
   "execution_count": 65,
   "metadata": {
    "id": "n-lXyFxXqjMG"
   },
   "outputs": [],
   "source": [
    "# Create a logistic regression model to use\n",
    "lr = LogisticRegression()"
   ]
  },
  {
   "cell_type": "code",
   "execution_count": 66,
   "metadata": {
    "id": "fPDvCR7Yq0T6"
   },
   "outputs": [],
   "source": [
    "# Train the first model\n",
    "lr.fit(X_train_cv1, y_train)\n",
    "y_pred_cv1 = lr.predict(X_test_cv1)"
   ]
  },
  {
   "cell_type": "code",
   "execution_count": 67,
   "metadata": {
    "colab": {
     "base_uri": "https://localhost:8080/"
    },
    "id": "5y-Cd-Seq0R0",
    "outputId": "e6278cad-b362-4fee-f2e9-6ae7f11b3d36"
   },
   "outputs": [
    {
     "name": "stdout",
     "output_type": "stream",
     "text": [
      "              precision    recall  f1-score   support\n",
      "\n",
      "      اقتصاد       0.00      0.00      0.00        44\n",
      "         دين       0.83      0.99      0.90       862\n",
      "       رياضة       0.97      0.80      0.88       759\n",
      "       سياسة       0.92      0.93      0.93       676\n",
      "\n",
      "    accuracy                           0.89      2341\n",
      "   macro avg       0.68      0.68      0.68      2341\n",
      "weighted avg       0.89      0.89      0.88      2341\n",
      "\n"
     ]
    }
   ],
   "source": [
    "print(classification_report(y_test,y_pred_cv1))"
   ]
  },
  {
   "cell_type": "code",
   "execution_count": 68,
   "metadata": {
    "colab": {
     "base_uri": "https://localhost:8080/"
    },
    "id": "QwvR5XbGq0OU",
    "outputId": "3ac8e4f1-add8-498f-ac49-907697b17504"
   },
   "outputs": [
    {
     "name": "stdout",
     "output_type": "stream",
     "text": [
      "Logistic Regression Accuracy= 0.8923536950021358\n",
      "Logistic Regression F1 score= 0.8923536950021358\n"
     ]
    }
   ],
   "source": [
    "print(\"Logistic Regression Accuracy=\",accuracy_score(y_test, y_pred_cv1))\n",
    "print(\"Logistic Regression F1 score=\",f1_score(y_test, y_pred_cv1, average='micro'))"
   ]
  },
  {
   "cell_type": "markdown",
   "metadata": {
    "id": "g8t8Sc3RsAv0"
   },
   "source": [
    "Naive Bayes model"
   ]
  },
  {
   "cell_type": "code",
   "execution_count": 69,
   "metadata": {
    "id": "uVwUa-wAq0Lw"
   },
   "outputs": [],
   "source": [
    "# Fit the first Naive Bayes model\n",
    "mnb = MultinomialNB()\n",
    "mnb.fit(X_train_cv1, y_train)\n",
    "\n",
    "y_pred_cv1_nb = mnb.predict(X_test_cv1)"
   ]
  },
  {
   "cell_type": "code",
   "execution_count": 70,
   "metadata": {
    "colab": {
     "base_uri": "https://localhost:8080/"
    },
    "id": "MQIAtjEpq0JQ",
    "outputId": "d9c2cce6-7827-4123-e9b4-758430036c54"
   },
   "outputs": [
    {
     "name": "stdout",
     "output_type": "stream",
     "text": [
      "              precision    recall  f1-score   support\n",
      "\n",
      "      اقتصاد       0.00      0.00      0.00        44\n",
      "         دين       0.89      0.95      0.92       862\n",
      "       رياضة       0.92      0.85      0.88       759\n",
      "       سياسة       0.87      0.92      0.89       676\n",
      "\n",
      "    accuracy                           0.89      2341\n",
      "   macro avg       0.67      0.68      0.67      2341\n",
      "weighted avg       0.88      0.89      0.88      2341\n",
      "\n"
     ]
    }
   ],
   "source": [
    "print(classification_report(y_test,y_pred_cv1_nb))"
   ]
  },
  {
   "cell_type": "code",
   "execution_count": 71,
   "metadata": {
    "colab": {
     "base_uri": "https://localhost:8080/"
    },
    "id": "ZIZEzFeJsKbF",
    "outputId": "0f6d4822-1208-45a3-fa6f-55677cbba2b2"
   },
   "outputs": [
    {
     "name": "stdout",
     "output_type": "stream",
     "text": [
      "Naive Bayes Accuracy= 0.8923536950021358\n",
      "Naive Bayes F1 score= 0.8923536950021358\n"
     ]
    }
   ],
   "source": [
    "print(\"Naive Bayes Accuracy=\",accuracy_score(y_test,y_pred_cv1_nb))\n",
    "print(\"Naive Bayes F1 score=\",f1_score(y_test, y_pred_cv1_nb, average='micro'))"
   ]
  },
  {
   "cell_type": "markdown",
   "metadata": {
    "id": "Thk4F4K7sYK4"
   },
   "source": [
    "SVM model"
   ]
  },
  {
   "cell_type": "code",
   "execution_count": 72,
   "metadata": {
    "id": "SqcubL7UsKY4"
   },
   "outputs": [],
   "source": [
    "# Classifier - Algorithm - SVM\n",
    "# fit the training dataset on the classifier\n",
    "SVM = SVC(kernel='linear')\n",
    "SVM.fit(X_train_cv1,y_train)\n",
    "# predict the labels on validation dataset\n",
    "predictions_SVM = SVM.predict(X_test_cv1)"
   ]
  },
  {
   "cell_type": "code",
   "execution_count": 73,
   "metadata": {
    "colab": {
     "base_uri": "https://localhost:8080/"
    },
    "id": "XLaIpjvFsKVv",
    "outputId": "cc8e6bae-2cdf-4b11-eb4c-6d1894cad538"
   },
   "outputs": [
    {
     "name": "stdout",
     "output_type": "stream",
     "text": [
      "              precision    recall  f1-score   support\n",
      "\n",
      "      اقتصاد       0.86      0.68      0.76        44\n",
      "         دين       0.84      0.98      0.91       862\n",
      "       رياضة       0.96      0.82      0.88       759\n",
      "       سياسة       0.95      0.92      0.94       676\n",
      "\n",
      "    accuracy                           0.91      2341\n",
      "   macro avg       0.90      0.85      0.87      2341\n",
      "weighted avg       0.91      0.91      0.91      2341\n",
      "\n"
     ]
    }
   ],
   "source": [
    "print(classification_report(y_test,predictions_SVM))"
   ]
  },
  {
   "cell_type": "code",
   "execution_count": 74,
   "metadata": {
    "colab": {
     "base_uri": "https://localhost:8080/"
    },
    "id": "24bF-C3VsKTT",
    "outputId": "e64cc7e5-d087-4cc9-d386-8d190780a73c"
   },
   "outputs": [
    {
     "name": "stdout",
     "output_type": "stream",
     "text": [
      "SVM Accuracy= 0.9073045706962837\n",
      "SVM F1 score= 0.9073045706962838\n"
     ]
    }
   ],
   "source": [
    "# Use accuracy_score function to get the accuracy\n",
    "print(\"SVM Accuracy=\",accuracy_score(predictions_SVM, y_test))\n",
    "print(\"SVM F1 score=\",f1_score(y_test,predictions_SVM, average='micro'))"
   ]
  },
  {
   "cell_type": "markdown",
   "metadata": {
    "id": "1n9W24Z1sosD"
   },
   "source": [
    "Saving the model"
   ]
  },
  {
   "cell_type": "code",
   "execution_count": 75,
   "metadata": {
    "id": "HBRwrv1CsKQ8"
   },
   "outputs": [],
   "source": [
    "import pickle\n",
    "pickle.dump(SVM, open('model.pkl', 'wb'))"
   ]
  },
  {
   "cell_type": "code",
   "execution_count": 76,
   "metadata": {
    "id": "3A2n6Vztsvvq"
   },
   "outputs": [],
   "source": [
    "pickle.dump(cv1, open(\"vectorizer.pickle\", \"wb\"))"
   ]
  },
  {
   "cell_type": "code",
   "execution_count": null,
   "metadata": {
    "id": "1Tfifg-4svrJ"
   },
   "outputs": [],
   "source": []
  },
  {
   "cell_type": "code",
   "execution_count": null,
   "metadata": {
    "id": "RVzwWcHbsvoY"
   },
   "outputs": [],
   "source": []
  }
 ],
 "metadata": {
  "colab": {
   "name": "PROJECT_TWEETS.ipynb",
   "provenance": []
  },
  "kernelspec": {
   "display_name": "Python 3 (ipykernel)",
   "language": "python",
   "name": "python3"
  },
  "language_info": {
   "codemirror_mode": {
    "name": "ipython",
    "version": 3
   },
   "file_extension": ".py",
   "mimetype": "text/x-python",
   "name": "python",
   "nbconvert_exporter": "python",
   "pygments_lexer": "ipython3",
   "version": "3.8.8"
  }
 },
 "nbformat": 4,
 "nbformat_minor": 1
}
